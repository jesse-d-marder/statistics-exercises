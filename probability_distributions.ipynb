{
 "cells": [
  {
   "cell_type": "markdown",
   "id": "f3bce1ea-dd5a-41ac-9687-1ad9e7f8336d",
   "metadata": {},
   "source": [
    "Exercises from https://ds.codeup.com/stats/probability-distributions/"
   ]
  },
  {
   "cell_type": "markdown",
   "id": "55e7802e-707b-4575-adf3-892db4af34e8",
   "metadata": {},
   "source": [
    "For the following problems, use python to simulate the problem and calculate an experimental probability, then compare that to the theoretical probability."
   ]
  },
  {
   "cell_type": "code",
   "execution_count": 1,
   "id": "fc562c61-a1fe-4e0d-9a41-7dd6add4e923",
   "metadata": {},
   "outputs": [],
   "source": [
    "import matplotlib.pyplot as plt\n",
    "import numpy as np\n",
    "from scipy import stats\n",
    "import pandas as pd"
   ]
  },
  {
   "cell_type": "markdown",
   "id": "2a85ccfe-f26d-4318-ad61-60f8d92dfff4",
   "metadata": {},
   "source": [
    "1. A bank found that the average number of cars waiting during the noon hour at a drive-up window follows a Poisson distribution with a mean of 2 cars. Make a chart of this distribution and answer these questions concerning the probability of cars waiting at the drive-up window."
   ]
  },
  {
   "cell_type": "code",
   "execution_count": null,
   "id": "dfa79eda-6257-41b1-9add-0ab34f778ef4",
   "metadata": {},
   "outputs": [],
   "source": []
  },
  {
   "cell_type": "markdown",
   "id": "cfb512d7-43ef-454a-9419-d63c4f429825",
   "metadata": {},
   "source": [
    "1. What is the probability that no cars drive up in the noon hour?"
   ]
  },
  {
   "cell_type": "code",
   "execution_count": null,
   "id": "cb11bdec-e222-48e9-b5c4-aa6d1482f847",
   "metadata": {},
   "outputs": [],
   "source": []
  },
  {
   "cell_type": "markdown",
   "id": "bafc5033-18fe-4fb2-aeaa-89dfcc67881f",
   "metadata": {},
   "source": [
    "1. What is the probability that 3 or more cars come through the drive through?"
   ]
  },
  {
   "cell_type": "code",
   "execution_count": null,
   "id": "4a5e407e-91ac-4ecf-b7f6-b9e8e48a9ec5",
   "metadata": {},
   "outputs": [],
   "source": []
  },
  {
   "cell_type": "markdown",
   "id": "c784ba30-1de0-44ff-b44d-2f3f89214136",
   "metadata": {},
   "source": [
    "1. How likely is it that the drive through gets at least 1 car?"
   ]
  },
  {
   "cell_type": "code",
   "execution_count": null,
   "id": "ea2acf6b-3b91-4150-85bd-5f8e2d1fd65b",
   "metadata": {},
   "outputs": [],
   "source": []
  },
  {
   "cell_type": "markdown",
   "id": "c6b53b6e-67d6-48c1-80fd-9f316f9066bc",
   "metadata": {},
   "source": [
    "2. Grades of State University graduates are normally distributed with a mean of 3.0 and a standard deviation of .3. Calculate the following:\n",
    "What grade point average is required to be in the top 5% of the graduating class?"
   ]
  },
  {
   "cell_type": "code",
   "execution_count": null,
   "id": "140a2a9a-37a2-4847-9f95-ff0642980afb",
   "metadata": {},
   "outputs": [],
   "source": []
  },
  {
   "cell_type": "markdown",
   "id": "59419be6-f8cd-4421-955f-74492aa06a9b",
   "metadata": {},
   "source": [
    "2. What GPA constitutes the bottom 15% of the class?"
   ]
  },
  {
   "cell_type": "code",
   "execution_count": null,
   "id": "0ac0a96b-3478-469a-ad73-a3af8a116a30",
   "metadata": {},
   "outputs": [],
   "source": []
  },
  {
   "cell_type": "markdown",
   "id": "c15b3e41-3931-40a8-a8df-868729d0c1a5",
   "metadata": {},
   "source": [
    "2. An eccentric alumnus left scholarship money for students in the third decile from the bottom of their class. Determine the range of the third decile. Would a student with a 2.8 grade point average qualify for this scholarship?"
   ]
  },
  {
   "cell_type": "code",
   "execution_count": null,
   "id": "bf7285a8-3447-4dd9-90f0-fca94eff0fb2",
   "metadata": {},
   "outputs": [],
   "source": []
  },
  {
   "cell_type": "markdown",
   "id": "8c2e064d-dc26-46ac-aeb0-04176edae187",
   "metadata": {},
   "source": [
    "2. If I have a GPA of 3.5, what percentile am I in?"
   ]
  },
  {
   "cell_type": "code",
   "execution_count": null,
   "id": "c4246d41-7ec1-4dfb-bf6a-02234b996369",
   "metadata": {},
   "outputs": [],
   "source": []
  },
  {
   "cell_type": "markdown",
   "id": "d1dfc218-9674-46dc-b5f7-cf31545011fe",
   "metadata": {},
   "source": [
    "3. A marketing website has an average click-through rate of 2%. One day they observe 4326 visitors and 97 click-throughs. How likely is it that this many people or more click through?"
   ]
  },
  {
   "cell_type": "code",
   "execution_count": null,
   "id": "ec981824-54bb-4466-80e3-1f9ac1157261",
   "metadata": {},
   "outputs": [],
   "source": []
  },
  {
   "cell_type": "markdown",
   "id": "ae9e0926-9fb1-41cf-89e4-4df96eb12bdc",
   "metadata": {},
   "source": [
    "4. You are working on some statistics homework consisting of 100 questions where all of the answers are a probability rounded to the hundreths place. Looking to save time, you put down random probabilities as the answer to each question.\n",
    "What is the probability that at least one of your first 60 answers is correct?"
   ]
  },
  {
   "cell_type": "code",
   "execution_count": null,
   "id": "07e18da2-1107-4183-951d-8d7d84bd61f8",
   "metadata": {},
   "outputs": [],
   "source": []
  },
  {
   "cell_type": "markdown",
   "id": "8a681c0b-00ad-45c6-aead-ffafbcc673f5",
   "metadata": {},
   "source": [
    "5. The codeup staff tends to get upset when the student break area is not cleaned up. Suppose that there's a 3% chance that any one student cleans the break area when they visit it, and, on any given day, about 90% of the 3 active cohorts of 22 students visit the break area. How likely is it that the break area gets cleaned up each day? "
   ]
  },
  {
   "cell_type": "markdown",
   "id": "9640969f-2c4f-47f2-84b7-a43e1002d73b",
   "metadata": {},
   "source": []
  },
  {
   "cell_type": "markdown",
   "id": "8a646bec-e986-410c-a597-627941c33385",
   "metadata": {},
   "source": [
    "5. How likely is it that it goes two days without getting cleaned up?"
   ]
  },
  {
   "cell_type": "code",
   "execution_count": null,
   "id": "689823ed-3049-4c4b-a838-776fd332f1a9",
   "metadata": {},
   "outputs": [],
   "source": []
  },
  {
   "cell_type": "markdown",
   "id": "06dba667-819c-46ae-87a3-510197aab97c",
   "metadata": {},
   "source": [
    "5.  All week?"
   ]
  },
  {
   "cell_type": "code",
   "execution_count": null,
   "id": "9662998d-c9ab-4e6f-83db-794d32786dad",
   "metadata": {},
   "outputs": [],
   "source": []
  },
  {
   "cell_type": "markdown",
   "id": "2b095a3d-8730-4d45-ba9f-d702008906b7",
   "metadata": {},
   "source": [
    "6. You want to get lunch at La Panaderia, but notice that the line is usually very long at lunchtime. After several weeks of careful observation, you notice that the average number of people in line when your lunch break starts is normally distributed with a mean of 15 and standard deviation of 3. If it takes 2 minutes for each person to order, and 10 minutes from ordering to getting your food, what is the likelihood that you have at least 15 minutes left to eat your food before you have to go back to class? Assume you have one hour for lunch, and ignore travel time to and from La Panaderia."
   ]
  },
  {
   "cell_type": "code",
   "execution_count": null,
   "id": "bae9d832-5106-4d16-af72-ee6f7bd1ead2",
   "metadata": {},
   "outputs": [],
   "source": []
  },
  {
   "cell_type": "markdown",
   "id": "d0a1a841-9c04-4728-bdc4-1971dd3885a2",
   "metadata": {},
   "source": [
    "7. Connect to the employees database and find the average salary of current employees, along with the standard deviation. "
   ]
  },
  {
   "cell_type": "code",
   "execution_count": null,
   "id": "400ee00a-b1d9-4f16-9d8b-2c27e8131def",
   "metadata": {},
   "outputs": [],
   "source": []
  },
  {
   "cell_type": "markdown",
   "id": "88287f05-a6f4-4300-aead-4712f9c92d54",
   "metadata": {},
   "source": [
    "For the following questions, calculate the answer based on modeling the employees salaries with a normal distribution defined by the calculated mean and standard deviation then compare this answer to the actual values present in the salaries dataset."
   ]
  },
  {
   "cell_type": "markdown",
   "id": "d42d3081-e3b7-46e6-a33f-fe3df8eae006",
   "metadata": {},
   "source": [
    "What percent of employees earn less than 60,000?"
   ]
  },
  {
   "cell_type": "code",
   "execution_count": null,
   "id": "eeb79770-d1a5-4b75-9c2e-b77a8ba5717a",
   "metadata": {},
   "outputs": [],
   "source": []
  },
  {
   "cell_type": "markdown",
   "id": "7dfbaf55-6385-4267-bca1-9a42fd87a83b",
   "metadata": {},
   "source": [
    "What percent of employees earn more than 95,000?"
   ]
  },
  {
   "cell_type": "code",
   "execution_count": null,
   "id": "6bb24186-8bd3-4fbb-94fe-c3b5599fc2e1",
   "metadata": {},
   "outputs": [],
   "source": []
  },
  {
   "cell_type": "markdown",
   "id": "c07200f8-53bc-405d-9970-2a2111817803",
   "metadata": {},
   "source": [
    "What percent of employees earn between 65,000 and 80,000?"
   ]
  },
  {
   "cell_type": "code",
   "execution_count": null,
   "id": "8ca9a90d-e37b-43b3-8abe-1eccf5e7663c",
   "metadata": {},
   "outputs": [],
   "source": []
  },
  {
   "cell_type": "markdown",
   "id": "0dd2fcc5-7c44-4b05-9175-fddb6cdcc94c",
   "metadata": {},
   "source": [
    "What do the top 5% of employees make?"
   ]
  },
  {
   "cell_type": "code",
   "execution_count": null,
   "id": "cef42d27-6efe-477c-a75c-1ed69e3ee46e",
   "metadata": {},
   "outputs": [],
   "source": []
  }
 ],
 "metadata": {
  "kernelspec": {
   "display_name": "Python 3.9.7 64-bit ('base': conda)",
   "language": "python",
   "name": "python397jvsc74a57bd038cca0c38332a56087b24af0bc80247f4fced29cb4f7f437d91dc159adec9c4e"
  },
  "language_info": {
   "codemirror_mode": {
    "name": "ipython",
    "version": 3
   },
   "file_extension": ".py",
   "mimetype": "text/x-python",
   "name": "python",
   "nbconvert_exporter": "python",
   "pygments_lexer": "ipython3",
   "version": "3.9.7"
  }
 },
 "nbformat": 4,
 "nbformat_minor": 5
}
