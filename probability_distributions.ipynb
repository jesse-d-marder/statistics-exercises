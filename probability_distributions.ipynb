{
 "cells": [
  {
   "cell_type": "markdown",
   "id": "f3bce1ea-dd5a-41ac-9687-1ad9e7f8336d",
   "metadata": {},
   "source": [
    "Exercises from https://ds.codeup.com/stats/probability-distributions/"
   ]
  },
  {
   "cell_type": "markdown",
   "id": "55e7802e-707b-4575-adf3-892db4af34e8",
   "metadata": {},
   "source": [
    "For the following problems, use python to simulate the problem and calculate an experimental probability, then compare that to the theoretical probability."
   ]
  },
  {
   "cell_type": "code",
   "execution_count": 110,
   "id": "fc562c61-a1fe-4e0d-9a41-7dd6add4e923",
   "metadata": {},
   "outputs": [],
   "source": [
    "import matplotlib.pyplot as plt\n",
    "import numpy as np\n",
    "from scipy import stats\n",
    "import pandas as pd\n",
    "from env import get_db_url"
   ]
  },
  {
   "cell_type": "code",
   "execution_count": 4,
   "id": "c6273983-1a0d-4505-a62c-bf7c80e93ef7",
   "metadata": {},
   "outputs": [],
   "source": [
    "n_sim = 10_000"
   ]
  },
  {
   "cell_type": "markdown",
   "id": "2a85ccfe-f26d-4318-ad61-60f8d92dfff4",
   "metadata": {},
   "source": [
    "1. A bank found that the average number of cars waiting during the noon hour at a drive-up window follows a Poisson distribution with a mean of 2 cars. Make a chart of this distribution and answer these questions concerning the probability of cars waiting at the drive-up window."
   ]
  },
  {
   "cell_type": "code",
   "execution_count": 2,
   "id": "b7be1f94-3c42-4120-87f3-a54cbf8a2d95",
   "metadata": {},
   "outputs": [
    {
     "data": {
      "text/plain": [
       "<AxesSubplot:>"
      ]
     },
     "execution_count": 2,
     "metadata": {},
     "output_type": "execute_result"
    },
    {
     "data": {
      "image/png": "[encoded data removed]",
      "text/plain": [
       "<Figure size 432x288 with 1 Axes>"
      ]
     },
     "metadata": {
      "needs_background": "light"
     },
     "output_type": "display_data"
    }
   ],
   "source": [
    "pd.Series(stats.poisson(2).rvs(10_000)).value_counts().sort_index().plot.bar()"
   ]
  },
  {
   "cell_type": "markdown",
   "id": "cfb512d7-43ef-454a-9419-d63c4f429825",
   "metadata": {},
   "source": [
    "1. What is the probability that no cars drive up in the noon hour?"
   ]
  },
  {
   "cell_type": "code",
   "execution_count": 3,
   "id": "cb11bdec-e222-48e9-b5c4-aa6d1482f847",
   "metadata": {},
   "outputs": [
    {
     "data": {
      "text/plain": [
       "0.1353352832366127"
      ]
     },
     "execution_count": 3,
     "metadata": {},
     "output_type": "execute_result"
    }
   ],
   "source": [
    "stats.poisson(2).cdf(0)"
   ]
  },
  {
   "cell_type": "code",
   "execution_count": 18,
   "id": "e8b8f511-8724-44aa-b6bd-325d0a2ac1d6",
   "metadata": {},
   "outputs": [],
   "source": [
    "# By simulation\n",
    "cars = np.random.poisson(2, size=(n_sim))"
   ]
  },
  {
   "cell_type": "code",
   "execution_count": 19,
   "id": "f17be574-93ad-4b4e-b978-97a41aa76624",
   "metadata": {},
   "outputs": [
    {
     "data": {
      "text/plain": [
       "0.1352"
      ]
     },
     "execution_count": 19,
     "metadata": {},
     "output_type": "execute_result"
    }
   ],
   "source": [
    "(cars == 0).mean()"
   ]
  },
  {
   "cell_type": "markdown",
   "id": "bafc5033-18fe-4fb2-aeaa-89dfcc67881f",
   "metadata": {},
   "source": [
    "1. What is the probability that 3 or more cars come through the drive through?"
   ]
  },
  {
   "cell_type": "code",
   "execution_count": 34,
   "id": "4a5e407e-91ac-4ecf-b7f6-b9e8e48a9ec5",
   "metadata": {},
   "outputs": [
    {
     "data": {
      "text/plain": [
       "0.32332358381693654"
      ]
     },
     "execution_count": 34,
     "metadata": {},
     "output_type": "execute_result"
    }
   ],
   "source": [
    "stats.poisson(2).sf(2)"
   ]
  },
  {
   "cell_type": "code",
   "execution_count": 28,
   "id": "2a244cec-ea38-40d9-806c-f6d863e8e5dc",
   "metadata": {},
   "outputs": [],
   "source": [
    "# By simulation\n",
    "cars = np.random.poisson(2, size=(n_sim))"
   ]
  },
  {
   "cell_type": "code",
   "execution_count": 31,
   "id": "81d40a07-8a46-4519-97fe-8761b337e5e6",
   "metadata": {},
   "outputs": [
    {
     "data": {
      "text/plain": [
       "0.3249"
      ]
     },
     "execution_count": 31,
     "metadata": {},
     "output_type": "execute_result"
    }
   ],
   "source": [
    "(cars>=3).mean()"
   ]
  },
  {
   "cell_type": "markdown",
   "id": "c784ba30-1de0-44ff-b44d-2f3f89214136",
   "metadata": {},
   "source": [
    "1. How likely is it that the drive through gets at least 1 car?"
   ]
  },
  {
   "cell_type": "code",
   "execution_count": 35,
   "id": "ea2acf6b-3b91-4150-85bd-5f8e2d1fd65b",
   "metadata": {},
   "outputs": [
    {
     "data": {
      "text/plain": [
       "0.8646647167633873"
      ]
     },
     "execution_count": 35,
     "metadata": {},
     "output_type": "execute_result"
    }
   ],
   "source": [
    "stats.poisson(2).sf(0)"
   ]
  },
  {
   "cell_type": "code",
   "execution_count": 33,
   "id": "bbe11422-70d2-49dc-a4d2-785586c62709",
   "metadata": {},
   "outputs": [
    {
     "data": {
      "text/plain": [
       "0.8737"
      ]
     },
     "execution_count": 33,
     "metadata": {},
     "output_type": "execute_result"
    }
   ],
   "source": [
    "# By simulation\n",
    "(cars>=1).mean()"
   ]
  },
  {
   "cell_type": "markdown",
   "id": "c6b53b6e-67d6-48c1-80fd-9f316f9066bc",
   "metadata": {},
   "source": [
    "2. Grades of State University graduates are normally distributed with a mean of 3.0 and a standard deviation of .3. Calculate the following:\n",
    "What grade point average is required to be in the top 5% of the graduating class?"
   ]
  },
  {
   "cell_type": "code",
   "execution_count": 160,
   "id": "140a2a9a-37a2-4847-9f95-ff0642980afb",
   "metadata": {},
   "outputs": [
    {
     "data": {
      "text/plain": [
       "3.4934560880854417"
      ]
     },
     "execution_count": 160,
     "metadata": {},
     "output_type": "execute_result"
    }
   ],
   "source": [
    "u = 3.0\n",
    "d = 0.3\n",
    "stats.norm(u,d).isf(0.05)"
   ]
  },
  {
   "cell_type": "code",
   "execution_count": 161,
   "id": "dc1ef27e-8a28-4d5e-8bcb-c5687064401e",
   "metadata": {},
   "outputs": [],
   "source": [
    "##### SIMULATION NEEDS WORK!!\n",
    "\n",
    "grades = np.random.normal(u,d,n_sim)"
   ]
  },
  {
   "cell_type": "code",
   "execution_count": 165,
   "id": "f7becafd-5f9a-4fed-91b7-5a7bb1b2c932",
   "metadata": {},
   "outputs": [
    {
     "data": {
      "text/plain": [
       "3.4933554881168023"
      ]
     },
     "execution_count": 165,
     "metadata": {},
     "output_type": "execute_result"
    }
   ],
   "source": [
    "np.quantile(grades,0.95)"
   ]
  },
  {
   "cell_type": "markdown",
   "id": "59419be6-f8cd-4421-955f-74492aa06a9b",
   "metadata": {},
   "source": [
    "2. What GPA constitutes the bottom 15% of the class?"
   ]
  },
  {
   "cell_type": "code",
   "execution_count": 52,
   "id": "0ac0a96b-3478-469a-ad73-a3af8a116a30",
   "metadata": {},
   "outputs": [
    {
     "data": {
      "text/plain": [
       "2.689069983151863"
      ]
     },
     "execution_count": 52,
     "metadata": {},
     "output_type": "execute_result"
    }
   ],
   "source": [
    "stats.norm(u,d).ppf(0.15)"
   ]
  },
  {
   "cell_type": "code",
   "execution_count": 166,
   "id": "e39721f3-f249-4eaf-982d-aa63ceb05e65",
   "metadata": {},
   "outputs": [
    {
     "data": {
      "text/plain": [
       "2.6932977359134784"
      ]
     },
     "execution_count": 166,
     "metadata": {},
     "output_type": "execute_result"
    }
   ],
   "source": [
    "# Simulation...\n",
    "np.quantile(grades,0.15)"
   ]
  },
  {
   "cell_type": "markdown",
   "id": "c15b3e41-3931-40a8-a8df-868729d0c1a5",
   "metadata": {},
   "source": [
    "2. An eccentric alumnus left scholarship money for students in the third decile from the bottom of their class. Determine the range of the third decile. Would a student with a 2.8 grade point average qualify for this scholarship?"
   ]
  },
  {
   "cell_type": "code",
   "execution_count": 167,
   "id": "fb4e0e42-3fd8-445b-a7bc-f214a0fffeb4",
   "metadata": {},
   "outputs": [
    {
     "name": "stdout",
     "output_type": "stream",
     "text": [
      "Range of 3rd decile from bottom of the class is 2.7475136299281258 to 2.842679846187588\n",
      "A student with 2.8 gpa would qualify\n"
     ]
    }
   ],
   "source": [
    "lower = stats.norm(u,d).ppf(.20)\n",
    "upper = stats.norm(u,d).ppf(.20)+(stats.norm(u,d).ppf(0.3)-stats.norm(u,d).ppf(0.2))\n",
    "\n",
    "print(f\"Range of 3rd decile from bottom of the class is \\\n",
    "{lower} to {upper}\")\n",
    "if lower<=2.8<=upper:\n",
    "    print(\"A student with 2.8 gpa would qualify\")\n",
    "else:\n",
    "    print(\"Student does not qualify\")"
   ]
  },
  {
   "cell_type": "code",
   "execution_count": 170,
   "id": "751e72e5-a89c-4f67-b769-78e8331777e3",
   "metadata": {},
   "outputs": [
    {
     "name": "stdout",
     "output_type": "stream",
     "text": [
      "Simulated: Range of 3rd decile from bottom of the class is 2.748665235533538 to 2.8416181006874233\n",
      "A student with 2.8 gpa would qualify\n"
     ]
    }
   ],
   "source": [
    "# simulation:\n",
    "lower = np.quantile(grades, 0.2)\n",
    "upper = np.quantile(grades, 0.3)\n",
    "print(f\"Simulated: Range of 3rd decile from bottom of the class is \\\n",
    "{lower} to {upper}\")\n",
    "if lower<=2.8<=upper:\n",
    "    print(\"A student with 2.8 gpa would qualify\")\n",
    "else:\n",
    "    print(\"Student does not qualify\")"
   ]
  },
  {
   "cell_type": "markdown",
   "id": "8c2e064d-dc26-46ac-aeb0-04176edae187",
   "metadata": {},
   "source": [
    "2. If I have a GPA of 3.5, what percentile am I in?"
   ]
  },
  {
   "cell_type": "code",
   "execution_count": 171,
   "id": "c4246d41-7ec1-4dfb-bf6a-02234b996369",
   "metadata": {},
   "outputs": [
    {
     "name": "stdout",
     "output_type": "stream",
     "text": [
      "With a gpa of 3.5 you are in the 0.952 percentile\n"
     ]
    }
   ],
   "source": [
    "gpa = 3.5\n",
    "print(f\"With a gpa of {gpa} you are in the {stats.norm(u,d).cdf(gpa).round(3)} percentile\")"
   ]
  },
  {
   "cell_type": "code",
   "execution_count": 172,
   "id": "f3b2649a-a8d9-46b1-bd3c-36a8946fffc4",
   "metadata": {},
   "outputs": [
    {
     "name": "stdout",
     "output_type": "stream",
     "text": [
      "Simulated: With a gpa of 3.5 you are in the 0.9522 percentile\n"
     ]
    }
   ],
   "source": [
    "# simulation:\n",
    "print(f\"Simulated: With a gpa of {gpa} you are in the {(grades<gpa).mean()} percentile\")"
   ]
  },
  {
   "cell_type": "markdown",
   "id": "d1dfc218-9674-46dc-b5f7-cf31545011fe",
   "metadata": {},
   "source": [
    "3. A marketing website has an average click-through rate of 2%. One day they observe 4326 visitors and 97 click-throughs. How likely is it that this many people or more click through?"
   ]
  },
  {
   "cell_type": "code",
   "execution_count": 185,
   "id": "ec981824-54bb-4466-80e3-1f9ac1157261",
   "metadata": {},
   "outputs": [
    {
     "name": "stdout",
     "output_type": "stream",
     "text": [
      "Chance of 0.13975823631416445 that 97 or more people will click through\n"
     ]
    }
   ],
   "source": [
    "click_rate = 0.02\n",
    "n_trials = 4326\n",
    "clicks = 97\n",
    "\n",
    "print(f\"Chance of {stats.binom(n_trials, click_rate).sf(clicks-1)} that {clicks} or more people will click through\")"
   ]
  },
  {
   "cell_type": "code",
   "execution_count": 177,
   "id": "b8687717-291b-4549-9fc7-438d8cf8ba49",
   "metadata": {},
   "outputs": [],
   "source": [
    "# simulation\n",
    "\n",
    "c = np.random.binomial(n_trials, click_rate, size=(10000))"
   ]
  },
  {
   "cell_type": "code",
   "execution_count": 186,
   "id": "401072a9-3889-4db9-9cf7-9daaa6007ad0",
   "metadata": {},
   "outputs": [
    {
     "name": "stdout",
     "output_type": "stream",
     "text": [
      "Simulated: chance of 0.1389 that 97 or more people will click through\n"
     ]
    }
   ],
   "source": [
    "print(f\"Simulated: chance of {(c>= clicks).mean()} that {clicks} or more people will click through\")"
   ]
  },
  {
   "cell_type": "code",
   "execution_count": 184,
   "id": "6b344a25-e468-4b44-b408-9580419f4292",
   "metadata": {},
   "outputs": [
    {
     "data": {
      "text/plain": [
       "<AxesSubplot:>"
      ]
     },
     "execution_count": 184,
     "metadata": {},
     "output_type": "execute_result"
    },
    {
     "data": {
      "image/png": "[encoded data removed]",
      "text/plain": [
       "<Figure size 864x504 with 1 Axes>"
      ]
     },
     "metadata": {
      "needs_background": "light"
     },
     "output_type": "display_data"
    }
   ],
   "source": [
    "pd.Series(stats.binom(n_trials,click_rate).rvs(10_000)).value_counts().sort_index().plot.bar(figsize=(12,7))"
   ]
  },
  {
   "cell_type": "markdown",
   "id": "ae9e0926-9fb1-41cf-89e4-4df96eb12bdc",
   "metadata": {},
   "source": [
    "4. You are working on some statistics homework consisting of 100 questions where all of the answers are a probability rounded to the hundreths place. Looking to save time, you put down random probabilities as the answer to each question.\n",
    "What is the probability that at least one of your first 60 answers is correct?"
   ]
  },
  {
   "cell_type": "code",
   "execution_count": 208,
   "id": "07e18da2-1107-4183-951d-8d7d84bd61f8",
   "metadata": {},
   "outputs": [],
   "source": [
    "n_trials = 60\n",
    "p = 1/len(np.linspace(0,1,101))\n"
   ]
  },
  {
   "cell_type": "code",
   "execution_count": 219,
   "id": "6ddaceb8-966d-48be-95f8-384ac6038311",
   "metadata": {},
   "outputs": [
    {
     "data": {
      "text/plain": [
       "<AxesSubplot:>"
      ]
     },
     "execution_count": 219,
     "metadata": {},
     "output_type": "execute_result"
    },
    {
     "data": {
      "image/png": "[encoded data removed]",
      "text/plain": [
       "<Figure size 432x288 with 1 Axes>"
      ]
     },
     "metadata": {
      "needs_background": "light"
     },
     "output_type": "display_data"
    }
   ],
   "source": [
    "pd.Series(stats.binom(60, p).rvs(10000)).value_counts().sort_index().plot.bar()"
   ]
  },
  {
   "cell_type": "code",
   "execution_count": 218,
   "id": "8d325238-fcd7-40dc-9b46-77dc61856b06",
   "metadata": {},
   "outputs": [
    {
     "data": {
      "text/plain": [
       "<AxesSubplot:>"
      ]
     },
     "execution_count": 218,
     "metadata": {},
     "output_type": "execute_result"
    },
    {
     "data": {
      "image/png": "[encoded data removed]",
      "text/plain": [
       "<Figure size 432x288 with 1 Axes>"
      ]
     },
     "metadata": {
      "needs_background": "light"
     },
     "output_type": "display_data"
    }
   ],
   "source": [
    "pd.Series(stats.binom(100, p).rvs(10000)).value_counts().sort_index().plot.bar()"
   ]
  },
  {
   "cell_type": "code",
   "execution_count": 210,
   "id": "1951ecdc-1862-40e2-a290-bd3f74ed6f3e",
   "metadata": {},
   "outputs": [
    {
     "data": {
      "text/plain": [
       "0.44955038406224"
      ]
     },
     "execution_count": 210,
     "metadata": {},
     "output_type": "execute_result"
    }
   ],
   "source": [
    "# Probability of at least 1 of 60 being correct:\n",
    "stats.binom(n_trials,p).sf(0)"
   ]
  },
  {
   "cell_type": "code",
   "execution_count": 214,
   "id": "41b97bd7-d20f-4a86-bbb1-58dce1041901",
   "metadata": {},
   "outputs": [],
   "source": [
    "# simulation:\n",
    "answers = np.random.binomial(60, 0.01, size=(10000))"
   ]
  },
  {
   "cell_type": "code",
   "execution_count": 216,
   "id": "54cb271a-733c-43f8-8156-9ed92c83b410",
   "metadata": {},
   "outputs": [
    {
     "data": {
      "text/plain": [
       "0.4502"
      ]
     },
     "execution_count": 216,
     "metadata": {},
     "output_type": "execute_result"
    }
   ],
   "source": [
    "(answers>0).mean()"
   ]
  },
  {
   "cell_type": "code",
   "execution_count": null,
   "id": "eb702fdb-ea25-4d0a-8993-d8ca984ebd3e",
   "metadata": {},
   "outputs": [],
   "source": []
  },
  {
   "cell_type": "markdown",
   "id": "8a681c0b-00ad-45c6-aead-ffafbcc673f5",
   "metadata": {},
   "source": [
    "5. The codeup staff tends to get upset when the student break area is not cleaned up. Suppose that there's a 3% chance that any one student cleans the break area when they visit it, and, on any given day, about 90% of the 3 active cohorts of 22 students visit the break area. How likely is it that the break area gets cleaned up each day? "
   ]
  },
  {
   "cell_type": "code",
   "execution_count": 85,
   "id": "904d9087-7935-4bc2-aead-ff99a80fdcf7",
   "metadata": {},
   "outputs": [],
   "source": [
    "p_clean_per_students = 0.03\n",
    "n_students = int(round(0.9 * 3 * 22,0))"
   ]
  },
  {
   "cell_type": "code",
   "execution_count": 91,
   "id": "e3c376f3-39c5-499d-beab-ea5ca03cb8f2",
   "metadata": {},
   "outputs": [
    {
     "data": {
      "text/plain": [
       "0.8342199288437352"
      ]
     },
     "execution_count": 91,
     "metadata": {},
     "output_type": "execute_result"
    }
   ],
   "source": [
    "stats.binom(n_students,p_clean_per_students).sf(0)"
   ]
  },
  {
   "cell_type": "code",
   "execution_count": 92,
   "id": "1fe73ab6-107d-4196-a0d4-34de5d61e810",
   "metadata": {},
   "outputs": [
    {
     "data": {
      "text/plain": [
       "Text(0.5, 0, 'Num successes in n trials')"
      ]
     },
     "execution_count": 92,
     "metadata": {},
     "output_type": "execute_result"
    },
    {
     "data": {
      "image/png": "[encoded data removed]",
      "text/plain": [
       "<Figure size 432x288 with 1 Axes>"
      ]
     },
     "metadata": {
      "needs_background": "light"
     },
     "output_type": "display_data"
    }
   ],
   "source": [
    "pd.Series(stats.binom(n_students,p_clean_per_students).rvs(10_000)).value_counts().sort_index().plot.bar()\n",
    "plt.xlabel(\"Num successes in n trials\")"
   ]
  },
  {
   "cell_type": "code",
   "execution_count": 93,
   "id": "ad785874-a738-4409-8ce2-b187606b8143",
   "metadata": {},
   "outputs": [],
   "source": [
    "# simulation:\n"
   ]
  },
  {
   "cell_type": "markdown",
   "id": "8a646bec-e986-410c-a597-627941c33385",
   "metadata": {},
   "source": [
    "5. How likely is it that it goes two days without getting cleaned up?"
   ]
  },
  {
   "cell_type": "code",
   "execution_count": 94,
   "id": "689823ed-3049-4c4b-a838-776fd332f1a9",
   "metadata": {},
   "outputs": [
    {
     "data": {
      "text/plain": [
       "0.16578007115626453"
      ]
     },
     "execution_count": 94,
     "metadata": {},
     "output_type": "execute_result"
    }
   ],
   "source": [
    "stats.binom(n_students,p_clean_per_students).pmf(0)"
   ]
  },
  {
   "cell_type": "markdown",
   "id": "06dba667-819c-46ae-87a3-510197aab97c",
   "metadata": {},
   "source": [
    "5.  All week?"
   ]
  },
  {
   "cell_type": "code",
   "execution_count": null,
   "id": "9662998d-c9ab-4e6f-83db-794d32786dad",
   "metadata": {},
   "outputs": [],
   "source": []
  },
  {
   "cell_type": "markdown",
   "id": "2b095a3d-8730-4d45-ba9f-d702008906b7",
   "metadata": {},
   "source": [
    "6. You want to get lunch at La Panaderia, but notice that the line is usually very long at lunchtime. After several weeks of careful observation, you notice that the average number of people in line when your lunch break starts is normally distributed with a mean of 15 and standard deviation of 3. If it takes 2 minutes for each person to order, and 10 minutes from ordering to getting your food, what is the likelihood that you have at least 15 minutes left to eat your food before you have to go back to class? Assume you have one hour for lunch, and ignore travel time to and from La Panaderia."
   ]
  },
  {
   "cell_type": "code",
   "execution_count": 109,
   "id": "bae9d832-5106-4d16-af72-ee6f7bd1ead2",
   "metadata": {},
   "outputs": [
    {
     "name": "stdout",
     "output_type": "stream",
     "text": [
      "0.6915 chance of having enough time\n"
     ]
    }
   ],
   "source": [
    "time_per_order = 2\n",
    "u = 15 * time_per_order\n",
    "d = 3 * time_per_order\n",
    "order_by = 60-15-10-2\n",
    "\n",
    "\n",
    "# The time to wait in line must be below the order_by time\n",
    "print(f\"{stats.norm(u,d).cdf(order_by).round(4)} chance of having enough time\")"
   ]
  },
  {
   "cell_type": "markdown",
   "id": "d0a1a841-9c04-4728-bdc4-1971dd3885a2",
   "metadata": {},
   "source": [
    "7. Connect to the employees database and find the average salary of current employees, along with the standard deviation. "
   ]
  },
  {
   "cell_type": "code",
   "execution_count": 118,
   "id": "400ee00a-b1d9-4f16-9d8b-2c27e8131def",
   "metadata": {},
   "outputs": [],
   "source": [
    "query = \"\"\" SELECT * FROM salaries WHERE to_date>CURDATE(); \"\"\"\n",
    "current_salaries = pd.read_sql(query, get_db_url('employees'))"
   ]
  },
  {
   "cell_type": "code",
   "execution_count": 122,
   "id": "5bca2580-1749-454e-b607-4934470c1a13",
   "metadata": {},
   "outputs": [],
   "source": [
    "u = current_salaries.salary.mean()\n",
    "d = current_salaries.salary.std()"
   ]
  },
  {
   "cell_type": "markdown",
   "id": "88287f05-a6f4-4300-aead-4712f9c92d54",
   "metadata": {},
   "source": [
    "For the following questions, calculate the answer based on modeling the employees salaries with a normal distribution defined by the calculated mean and standard deviation then compare this answer to the actual values present in the salaries dataset."
   ]
  },
  {
   "cell_type": "markdown",
   "id": "d42d3081-e3b7-46e6-a33f-fe3df8eae006",
   "metadata": {},
   "source": [
    "What percent of employees earn less than 60,000?"
   ]
  },
  {
   "cell_type": "code",
   "execution_count": 132,
   "id": "eeb79770-d1a5-4b75-9c2e-b77a8ba5717a",
   "metadata": {},
   "outputs": [
    {
     "data": {
      "text/plain": [
       "0.2438572436502896"
      ]
     },
     "execution_count": 132,
     "metadata": {},
     "output_type": "execute_result"
    }
   ],
   "source": [
    "stats.norm(u,d).cdf(60_000-0.01)"
   ]
  },
  {
   "cell_type": "code",
   "execution_count": 133,
   "id": "e9682352-e288-4acb-9df2-e08471325bce",
   "metadata": {},
   "outputs": [
    {
     "data": {
      "text/plain": [
       "0.2705727041028802"
      ]
     },
     "execution_count": 133,
     "metadata": {},
     "output_type": "execute_result"
    }
   ],
   "source": [
    "(current_salaries.salary<60000).mean()"
   ]
  },
  {
   "cell_type": "markdown",
   "id": "7dfbaf55-6385-4267-bca1-9a42fd87a83b",
   "metadata": {},
   "source": [
    "What percent of employees earn more than 95,000?"
   ]
  },
  {
   "cell_type": "code",
   "execution_count": 134,
   "id": "6bb24186-8bd3-4fbb-94fe-c3b5599fc2e1",
   "metadata": {},
   "outputs": [
    {
     "data": {
      "text/plain": [
       "0.09208819199804053"
      ]
     },
     "execution_count": 134,
     "metadata": {},
     "output_type": "execute_result"
    }
   ],
   "source": [
    "stats.norm(u,d).sf(95_000)"
   ]
  },
  {
   "cell_type": "code",
   "execution_count": 135,
   "id": "b9b97740-e3dd-4589-b2ca-b25f2d5c7a51",
   "metadata": {},
   "outputs": [
    {
     "data": {
      "text/plain": [
       "0.1086272092752078"
      ]
     },
     "execution_count": 135,
     "metadata": {},
     "output_type": "execute_result"
    }
   ],
   "source": [
    "(current_salaries.salary>95000).mean()"
   ]
  },
  {
   "cell_type": "markdown",
   "id": "c07200f8-53bc-405d-9970-2a2111817803",
   "metadata": {},
   "source": [
    "What percent of employees earn between 65,000 and 80,000?"
   ]
  },
  {
   "cell_type": "code",
   "execution_count": 136,
   "id": "8ca9a90d-e37b-43b3-8abe-1eccf5e7663c",
   "metadata": {},
   "outputs": [
    {
     "data": {
      "text/plain": [
       "0.3350605685446666"
      ]
     },
     "execution_count": 136,
     "metadata": {},
     "output_type": "execute_result"
    }
   ],
   "source": [
    "stats.norm(u,d).cdf(80000)-stats.norm(u,d).cdf(65000)"
   ]
  },
  {
   "cell_type": "code",
   "execution_count": 139,
   "id": "72cf9eb0-ac14-42fa-af44-65eba2737085",
   "metadata": {},
   "outputs": [
    {
     "data": {
      "text/plain": [
       "0.325107028035515"
      ]
     },
     "execution_count": 139,
     "metadata": {},
     "output_type": "execute_result"
    }
   ],
   "source": [
    "((current_salaries.salary>65000) & (current_salaries.salary<80000)).mean()"
   ]
  },
  {
   "cell_type": "markdown",
   "id": "0dd2fcc5-7c44-4b05-9175-fddb6cdcc94c",
   "metadata": {},
   "source": [
    "What do the top 5% of employees make?"
   ]
  },
  {
   "cell_type": "code",
   "execution_count": 153,
   "id": "cef42d27-6efe-477c-a75c-1ed69e3ee46e",
   "metadata": {},
   "outputs": [
    {
     "name": "stdout",
     "output_type": "stream",
     "text": [
      "Top 5% of employees make $100484.64454102775 assuming normal distribution\n"
     ]
    }
   ],
   "source": [
    "print(f\"Top 5% of employees make ${stats.norm(u,d).ppf(0.95)} assuming normal distribution\")"
   ]
  },
  {
   "cell_type": "code",
   "execution_count": 150,
   "id": "6ef73b36-47f7-4ba5-938a-47319f8aefff",
   "metadata": {},
   "outputs": [
    {
     "data": {
      "text/plain": [
       "86888    104228\n",
       "Name: salary, dtype: int64"
      ]
     },
     "execution_count": 150,
     "metadata": {},
     "output_type": "execute_result"
    }
   ],
   "source": [
    "current_salaries.salary.nlargest(n=int(round(0.05*len(current_salaries),0)),keep = 'last').tail(1)"
   ]
  },
  {
   "cell_type": "code",
   "execution_count": 151,
   "id": "e2c985e7-10a9-4437-9297-3862d8fe62c5",
   "metadata": {},
   "outputs": [
    {
     "data": {
      "text/plain": [
       "104225.84999999998"
      ]
     },
     "execution_count": 151,
     "metadata": {},
     "output_type": "execute_result"
    }
   ],
   "source": [
    "current_salaries.salary.quantile(q=0.95)"
   ]
  }
 ],
 "metadata": {
  "kernelspec": {
   "display_name": "Python 3.9.7 64-bit ('base': conda)",
   "language": "python",
   "name": "python397jvsc74a57bd038cca0c38332a56087b24af0bc80247f4fced29cb4f7f437d91dc159adec9c4e"
  },
  "language_info": {
   "codemirror_mode": {
    "name": "ipython",
    "version": 3
   },
   "file_extension": ".py",
   "mimetype": "text/x-python",
   "name": "python",
   "nbconvert_exporter": "python",
   "pygments_lexer": "ipython3",
   "version": "3.9.7"
  }
 },
 "nbformat": 4,
 "nbformat_minor": 5
}
