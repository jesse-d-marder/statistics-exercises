{
 "cells": [
  {
   "cell_type": "markdown",
   "id": "0be00175-9dae-4355-adda-f13bf58096f7",
   "metadata": {},
   "source": [
    "Exercises from https://ds.codeup.com/stats/simulation/"
   ]
  },
  {
   "cell_type": "code",
   "execution_count": 148,
   "id": "75f159de-bcc8-4344-a69e-e99985bfea6e",
   "metadata": {},
   "outputs": [],
   "source": [
    "import pandas as pd\n",
    "import random\n",
    "import numpy as np\n",
    "import matplotlib.pyplot as plt"
   ]
  },
  {
   "cell_type": "markdown",
   "id": "ada9c463-0d95-422b-9b53-5e8bf1f2976c",
   "metadata": {},
   "source": [
    "1. How likely is it that you roll doubles when rolling two dice?"
   ]
  },
  {
   "cell_type": "code",
   "execution_count": 300,
   "id": "75e83d31-b072-4d68-bf0e-52783458c972",
   "metadata": {},
   "outputs": [],
   "source": [
    "n_simulations = 10_000\n",
    "n_trials = 2\n",
    "\n",
    "dice_rolls = np.random.randint(1,7,size=(n_simulations, n_trials))"
   ]
  },
  {
   "cell_type": "code",
   "execution_count": 301,
   "id": "5afd9f4a-ab03-46c0-b5e3-e95f06892da0",
   "metadata": {},
   "outputs": [],
   "source": [
    "dice_rolls = pd.DataFrame(dice_rolls, columns = [\"first\",\"second\"])"
   ]
  },
  {
   "cell_type": "code",
   "execution_count": 302,
   "id": "8cd74894-29e3-4c0e-9df2-cd208a42fb28",
   "metadata": {},
   "outputs": [
    {
     "data": {
      "text/html": [
       "<div>\n",
       "<style scoped>\n",
       "    .dataframe tbody tr th:only-of-type {\n",
       "        vertical-align: middle;\n",
       "    }\n",
       "\n",
       "    .dataframe tbody tr th {\n",
       "        vertical-align: top;\n",
       "    }\n",
       "\n",
       "    .dataframe thead th {\n",
       "        text-align: right;\n",
       "    }\n",
       "</style>\n",
       "<table border=\"1\" class=\"dataframe\">\n",
       "  <thead>\n",
       "    <tr style=\"text-align: right;\">\n",
       "      <th></th>\n",
       "      <th>first</th>\n",
       "      <th>second</th>\n",
       "    </tr>\n",
       "  </thead>\n",
       "  <tbody>\n",
       "    <tr>\n",
       "      <th>0</th>\n",
       "      <td>4</td>\n",
       "      <td>4</td>\n",
       "    </tr>\n",
       "    <tr>\n",
       "      <th>1</th>\n",
       "      <td>3</td>\n",
       "      <td>2</td>\n",
       "    </tr>\n",
       "    <tr>\n",
       "      <th>2</th>\n",
       "      <td>5</td>\n",
       "      <td>6</td>\n",
       "    </tr>\n",
       "    <tr>\n",
       "      <th>3</th>\n",
       "      <td>6</td>\n",
       "      <td>1</td>\n",
       "    </tr>\n",
       "    <tr>\n",
       "      <th>4</th>\n",
       "      <td>2</td>\n",
       "      <td>5</td>\n",
       "    </tr>\n",
       "    <tr>\n",
       "      <th>...</th>\n",
       "      <td>...</td>\n",
       "      <td>...</td>\n",
       "    </tr>\n",
       "    <tr>\n",
       "      <th>9995</th>\n",
       "      <td>6</td>\n",
       "      <td>6</td>\n",
       "    </tr>\n",
       "    <tr>\n",
       "      <th>9996</th>\n",
       "      <td>2</td>\n",
       "      <td>4</td>\n",
       "    </tr>\n",
       "    <tr>\n",
       "      <th>9997</th>\n",
       "      <td>2</td>\n",
       "      <td>5</td>\n",
       "    </tr>\n",
       "    <tr>\n",
       "      <th>9998</th>\n",
       "      <td>4</td>\n",
       "      <td>5</td>\n",
       "    </tr>\n",
       "    <tr>\n",
       "      <th>9999</th>\n",
       "      <td>1</td>\n",
       "      <td>2</td>\n",
       "    </tr>\n",
       "  </tbody>\n",
       "</table>\n",
       "<p>10000 rows × 2 columns</p>\n",
       "</div>"
      ],
      "text/plain": [
       "      first  second\n",
       "0         4       4\n",
       "1         3       2\n",
       "2         5       6\n",
       "3         6       1\n",
       "4         2       5\n",
       "...     ...     ...\n",
       "9995      6       6\n",
       "9996      2       4\n",
       "9997      2       5\n",
       "9998      4       5\n",
       "9999      1       2\n",
       "\n",
       "[10000 rows x 2 columns]"
      ]
     },
     "execution_count": 302,
     "metadata": {},
     "output_type": "execute_result"
    }
   ],
   "source": [
    "dice_rolls"
   ]
  },
  {
   "cell_type": "code",
   "execution_count": 303,
   "id": "6b28f4d7-263e-4ad2-bcf7-c8fc50aac1f7",
   "metadata": {},
   "outputs": [
    {
     "data": {
      "text/plain": [
       "0.1695"
      ]
     },
     "execution_count": 303,
     "metadata": {},
     "output_type": "execute_result"
    }
   ],
   "source": [
    "dice_rolls.apply(lambda row:row.array[0]==row.array[1], axis =1).mean()"
   ]
  },
  {
   "cell_type": "markdown",
   "id": "61c08d12-587a-4d55-b9f8-4edf90647393",
   "metadata": {},
   "source": [
    "2. If you flip 8 coins, what is the probability of getting exactly 3 heads?"
   ]
  },
  {
   "cell_type": "code",
   "execution_count": 306,
   "id": "d102aa15-2c20-4868-82e9-33e5d8fff564",
   "metadata": {},
   "outputs": [],
   "source": [
    "n_trials = 8\n",
    "\n",
    "coin_flips = np.random.choice([1,0],size=(n_simulations,n_trials))"
   ]
  },
  {
   "cell_type": "code",
   "execution_count": 307,
   "id": "b499af62-e437-4ed9-9d7d-452929aaf091",
   "metadata": {},
   "outputs": [
    {
     "name": "stdout",
     "output_type": "stream",
     "text": [
      "The probability of getting exactly 3 heads from flipping 8 coins is 0.2172\n"
     ]
    }
   ],
   "source": [
    "print(f\"The probability of getting exactly 3 heads from flipping 8 coins is {(coin_flips.sum(axis=1)==3).mean()}\")"
   ]
  },
  {
   "cell_type": "markdown",
   "id": "3487a6cb-09c1-4c89-b242-620f546baa8c",
   "metadata": {},
   "source": [
    "2. What is the probability of getting more than 3 heads?"
   ]
  },
  {
   "cell_type": "code",
   "execution_count": 308,
   "id": "5205120c-ab86-41df-a5fa-a97466665445",
   "metadata": {},
   "outputs": [
    {
     "name": "stdout",
     "output_type": "stream",
     "text": [
      "The probability of getting more than 3 heads from flipping 8 coins is 0.6363\n"
     ]
    }
   ],
   "source": [
    "print(f\"The probability of getting more than 3 heads from flipping 8 coins is {(coin_flips.sum(axis=1)>3).mean()}\")"
   ]
  },
  {
   "cell_type": "markdown",
   "id": "1a44e85c-4fa2-4d34-87d1-2ace009b4b23",
   "metadata": {},
   "source": [
    "3. There are approximitely 3 web development cohorts for every 1 data science cohort at Codeup. Assuming that Codeup randomly selects an alumni to put on a billboard, what are the odds that the two billboards I drive past both have data science students on them?"
   ]
  },
  {
   "cell_type": "code",
   "execution_count": 209,
   "id": "19f4d5eb-eee4-4886-837b-ee575b4c89ef",
   "metadata": {},
   "outputs": [],
   "source": [
    "n_trials = 2\n",
    "\n",
    "billboard_choices = np.random.choice([1,0,0,0], size = (n_simulations, n_trials))"
   ]
  },
  {
   "cell_type": "code",
   "execution_count": 309,
   "id": "53b9e4b3-4a44-4525-979d-f98967411e1a",
   "metadata": {},
   "outputs": [
    {
     "name": "stdout",
     "output_type": "stream",
     "text": [
      "The probability of seeing two billboards with data science students on them is 0.0648\n"
     ]
    }
   ],
   "source": [
    "print(f\"The probability of seeing two billboards with data science students on them is {(billboard_choices.sum(axis=1)==2).mean()}\")"
   ]
  },
  {
   "cell_type": "markdown",
   "id": "f5a73024-737f-48f2-bdfd-43aa7de3f334",
   "metadata": {},
   "source": [
    "4. Codeup students buy, on average, 3 poptart packages with a standard deviation of 1.5 a day from the snack vending machine. If on monday the machine is restocked with 17 poptart packages, how likely is it that I will be able to buy some poptarts on Friday afternoon? (Remember, if you have mean and standard deviation, use the np.random.normal)"
   ]
  },
  {
   "cell_type": "code",
   "execution_count": 312,
   "id": "b426b96d-0e5e-48a8-9ebf-e02e6b0958db",
   "metadata": {},
   "outputs": [],
   "source": [
    "n_trials = 4\n",
    "\n",
    "poptart = np.random.normal(3, 1.5, n_simulations*n_trials).reshape(n_simulations,n_trials)"
   ]
  },
  {
   "cell_type": "code",
   "execution_count": 313,
   "id": "8b081299-bf3d-4315-b298-1cb89e0a4dd1",
   "metadata": {},
   "outputs": [
    {
     "name": "stdout",
     "output_type": "stream",
     "text": [
      "The chance of there being at least 1 poptart remaining on Friday is 0.9108\n"
     ]
    }
   ],
   "source": [
    "print(f\"The chance of there being at least 1 poptart remaining on Friday is {(poptart.sum(axis=1)<=16).mean()}\")"
   ]
  },
  {
   "cell_type": "code",
   "execution_count": 321,
   "id": "d7060fd2-8dd3-454d-bca3-a903c0599a2d",
   "metadata": {},
   "outputs": [],
   "source": [
    "# Correcting for negative values and rounding floats\n",
    "poptart = np.random.normal(3, 1.5, n_simulations*n_trials).reshape(n_simulations,n_trials).round()\n",
    "poptart = np.where(poptart < 0, 0, poptart)"
   ]
  },
  {
   "cell_type": "code",
   "execution_count": 322,
   "id": "69bbd6e9-95f6-4b4d-b251-e33c478cacb8",
   "metadata": {},
   "outputs": [
    {
     "name": "stdout",
     "output_type": "stream",
     "text": [
      "The chance of there being at least 1 poptart remaining on Friday is 0.934\n"
     ]
    }
   ],
   "source": [
    "print(f\"The chance of there being at least 1 poptart remaining on Friday is {(poptart.sum(axis=1)<=16).mean()}\")"
   ]
  },
  {
   "cell_type": "markdown",
   "id": "f06b00e6-96f1-494e-abe0-e34a4817e906",
   "metadata": {},
   "source": [
    "5. Compare Heights:\n",
    "Men have an average height of 178 cm and standard deviation of 8cm.\n",
    "Women have a mean of 170, sd = 6cm.\n",
    "Since you have means and standard deviations, you can use np.random.normal to generate observations.\n",
    "If a man and woman are chosen at random, P(woman taller than man)?"
   ]
  },
  {
   "cell_type": "code",
   "execution_count": 323,
   "id": "d2647bca-fd90-4c4a-a70a-6055468b21fc",
   "metadata": {},
   "outputs": [],
   "source": [
    "n_trials = 2\n",
    "man = {'man':np.random.normal(178,8, size=(n_simulations))}\n",
    "woman = {'woman': np.random.normal(170,6, size=(n_simulations))}\n"
   ]
  },
  {
   "cell_type": "code",
   "execution_count": 324,
   "id": "c76a9318-17f9-4229-977d-1e938fb1c4e2",
   "metadata": {},
   "outputs": [],
   "source": [
    "both = pd.DataFrame.from_dict({**man,**woman})"
   ]
  },
  {
   "cell_type": "code",
   "execution_count": 325,
   "id": "5404b185-ce34-4cef-98a0-152625944cf0",
   "metadata": {},
   "outputs": [],
   "source": [
    "both['woman_taller'] = both.apply(lambda row: row.woman>row.man, axis =1)"
   ]
  },
  {
   "cell_type": "code",
   "execution_count": 326,
   "id": "7164e41c-3815-4e51-94cb-69137f8ed464",
   "metadata": {},
   "outputs": [
    {
     "name": "stdout",
     "output_type": "stream",
     "text": [
      "Probability woman taller than man: 0.2147\n"
     ]
    }
   ],
   "source": [
    "print(f\"Probability woman taller than man: {both.woman_taller.mean()}\")"
   ]
  },
  {
   "cell_type": "markdown",
   "id": "14da710a-a49f-4ad9-9d51-95c958f8d961",
   "metadata": {},
   "source": [
    "6. When installing anaconda on a student's computer, there's a 1 in 250 chance that the download is corrupted and the installation fails. What are the odds that after having 50 students download anaconda, no one has an installation issue? "
   ]
  },
  {
   "cell_type": "code",
   "execution_count": 327,
   "id": "c791aeba-f429-4e90-a7cc-0d6827b3598a",
   "metadata": {},
   "outputs": [],
   "source": [
    "prob_failure = 1/250\n",
    "n_trials = 50\n",
    "\n",
    "downloads = np.random.random((n_simulations, n_trials))"
   ]
  },
  {
   "cell_type": "code",
   "execution_count": 328,
   "id": "81d1c0d9-1e93-453b-a1c2-040bb0987edd",
   "metadata": {},
   "outputs": [
    {
     "name": "stdout",
     "output_type": "stream",
     "text": [
      "Chance of not one of the 50 students having an installation issue: 0.8154\n"
     ]
    }
   ],
   "source": [
    "print(f\"Chance of not one of the {n_trials} students having an installation issue: {((downloads>prob_failure).sum(axis=1)==n_trials).mean()}\")"
   ]
  },
  {
   "cell_type": "markdown",
   "id": "5cf9d918-a7e8-4340-af50-3cd72f155ef2",
   "metadata": {},
   "source": [
    "6. 100 students?"
   ]
  },
  {
   "cell_type": "code",
   "execution_count": 51,
   "id": "e7e8e769-eeef-4bf9-b067-fd3a66b335a0",
   "metadata": {},
   "outputs": [
    {
     "name": "stdout",
     "output_type": "stream",
     "text": [
      "Chance of not one of the 100 students having an installation issue: 0.6664\n"
     ]
    }
   ],
   "source": [
    "n_trials = 100\n",
    "\n",
    "downloads = np.random.random((n_simulations, n_trials))\n",
    "print(f\"Chance of not one of the {n_trials} students having an installation issue: {((downloads>prob_failure).sum(axis=1)==n_trials).mean()}\")"
   ]
  },
  {
   "cell_type": "markdown",
   "id": "755aeee9-fd56-4733-a591-bde162c03cf6",
   "metadata": {},
   "source": [
    "6. What is the probability that we observe an installation issue within the first 150 students that download anaconda?"
   ]
  },
  {
   "cell_type": "code",
   "execution_count": 329,
   "id": "93c6ca3a-a639-45c6-8f83-1ee2b33fb703",
   "metadata": {},
   "outputs": [
    {
     "name": "stdout",
     "output_type": "stream",
     "text": [
      "Chance of having an installation issue within the first 150 students: 0.4492\n"
     ]
    }
   ],
   "source": [
    "n_trials = 150\n",
    "\n",
    "downloads = np.random.random((n_simulations, n_trials))\n",
    "# print(f\"Chance of having an installation issue within the first {n_trials} students: {((downloads<=prob_failure).sum(axis=1)>0).mean()}\")\n",
    "print(f\"Chance of having an installation issue within the first {n_trials} students: {((downloads>prob_failure).sum(axis=1)<n_trials).mean()}\")"
   ]
  },
  {
   "cell_type": "markdown",
   "id": "7c4b03e1-dc02-4511-a279-2b206a3f090b",
   "metadata": {},
   "source": [
    "How likely is it that 450 students all download anaconda without an issue?"
   ]
  },
  {
   "cell_type": "code",
   "execution_count": 53,
   "id": "058e81e3-d43f-46a6-ac86-7cd8a66e7c1d",
   "metadata": {},
   "outputs": [
    {
     "name": "stdout",
     "output_type": "stream",
     "text": [
      "Chance of no issues with downloading for 450 students: 0.1687\n"
     ]
    }
   ],
   "source": [
    "n_trials = 450\n",
    "\n",
    "downloads = np.random.random((n_simulations, n_trials))\n",
    "print(f\"Chance of no issues with downloading for {n_trials} students: {((downloads>prob_failure).sum(axis=1)==n_trials).mean()}\")"
   ]
  },
  {
   "cell_type": "markdown",
   "id": "8f5c3416-cfd0-448e-beaf-e0b55b3e4554",
   "metadata": {},
   "source": [
    "7. There's a 70% chance on any given day that there will be at least one food truck at Travis Park. However, you haven't seen a food truck there in 3 days. How unlikely is this?"
   ]
  },
  {
   "cell_type": "code",
   "execution_count": 330,
   "id": "b2f9ff28-7dc9-4dcc-ab57-e018090a40f8",
   "metadata": {},
   "outputs": [],
   "source": [
    "n_trials = 3\n",
    "chance = 0.7\n",
    "\n",
    "food_truck = np.random.random((n_simulations, n_trials))"
   ]
  },
  {
   "cell_type": "code",
   "execution_count": 331,
   "id": "e41e7799-50e9-4708-9bb4-92d860e7bcee",
   "metadata": {},
   "outputs": [
    {
     "data": {
      "text/plain": [
       "0.0259"
      ]
     },
     "execution_count": 331,
     "metadata": {},
     "output_type": "execute_result"
    }
   ],
   "source": [
    "# Chance of a number being greater than 70% is the chance of not seeing a food truck \n",
    "((food_truck>chance).sum(axis=1)==3).mean()"
   ]
  },
  {
   "cell_type": "markdown",
   "id": "3bf689c3-ce4d-4e0a-99aa-1af33475faa7",
   "metadata": {},
   "source": [
    "7. How likely is it that a food truck will show up sometime this week?\n"
   ]
  },
  {
   "cell_type": "code",
   "execution_count": 24,
   "id": "4bd366c4-7be7-4028-ba32-114a0c13425b",
   "metadata": {},
   "outputs": [],
   "source": [
    "n_trials = 7\n",
    "\n",
    "food_truck = np.random.random((n_simulations, n_trials))"
   ]
  },
  {
   "cell_type": "code",
   "execution_count": 25,
   "id": "58410241-fe3b-4289-a544-b42ec579a44b",
   "metadata": {},
   "outputs": [
    {
     "data": {
      "text/plain": [
       "0.9998"
      ]
     },
     "execution_count": 25,
     "metadata": {},
     "output_type": "execute_result"
    }
   ],
   "source": [
    "((food_truck<=chance).sum(axis=1)>0).mean()"
   ]
  },
  {
   "cell_type": "markdown",
   "id": "b67319a8-ef3a-43e0-b17c-7f4cec1fc673",
   "metadata": {},
   "source": [
    "8. If 23 people are in the same room, what are the odds that two of them share a birthday? What if it's 20 people? 40?"
   ]
  },
  {
   "cell_type": "code",
   "execution_count": 229,
   "id": "2b15f049-4738-43d2-b3a3-49605954f4a3",
   "metadata": {},
   "outputs": [
    {
     "name": "stdout",
     "output_type": "stream",
     "text": [
      "The chance of 2 of 20 people sharing a birthday are 0.4204\n",
      "The chance of 2 of 23 people sharing a birthday are 0.51\n",
      "The chance of 2 of 40 people sharing a birthday are 0.891\n"
     ]
    },
    {
     "data": {
      "image/png": "[encoded data removed]",
      "text/plain": [
       "<Figure size 432x288 with 1 Axes>"
      ]
     },
     "metadata": {
      "needs_background": "light"
     },
     "output_type": "display_data"
    }
   ],
   "source": [
    "of_interest = [23,20,40]\n",
    "num_peoples = range(1,100)\n",
    "results = []\n",
    "for n_people in num_peoples:\n",
    "    \n",
    "    birthday = np.random.randint(1,366,size = (n_simulations,n_people))\n",
    "    birthday = pd.DataFrame(birthday)\n",
    "    birthday[\"unique_values\"] = birthday.apply(lambda row: len(set(row)), axis =1)\n",
    "    birthday[\"num_values\"] = n_people\n",
    "    # This differerence should be 1 if two people share. To match the common example and classroom I use at least 1\n",
    "    birthday[\"birthday_match\"] = (birthday.num_values - birthday.unique_values) >= 1\n",
    "    #print(f\"The chance of {n_people} people sharing a birthday are {birthday.birthday_match.mean()}\")\n",
    "    results.append(birthday.birthday_match.mean())\n",
    "    if n_people in of_interest:\n",
    "        print(f\"The chance of 2 of {n_people} people sharing a birthday are {birthday.birthday_match.mean()}\")\n",
    "\n",
    "plt.plot(num_peoples, results)\n",
    "for n in of_interest:\n",
    "    plt.vlines(n,0,1, color = 'r')"
   ]
  },
  {
   "cell_type": "markdown",
   "id": "91ca8d7f-5467-4176-a930-6975a7174945",
   "metadata": {},
   "source": [
    "Mage duel"
   ]
  },
  {
   "cell_type": "code",
   "execution_count": 293,
   "id": "09386392-225f-4d72-9dea-82de8db58434",
   "metadata": {},
   "outputs": [],
   "source": [
    "# 6 d 4 - roll six 4 sided die and sum\n",
    "results = []\n",
    "duel_num_options = range(1,100_000)\n",
    "for num_duels in duel_num_options:\n",
    "    rolls = {'6d4':np.random.choice(range(1,5),size = (num_duels,6)).sum(axis=1),'4d6':np.random.choice(range(1,7),size = (num_duels,4)).sum(axis=1)}\n",
    "    contest = pd.DataFrame(data = rolls) \n",
    "    contest['6d4_wins'] = contest['6d4']>contest['4d6']\n",
    "    # print(f\"For {num_duels} duels 6d4 win chance: {contest['6d4_wins'].mean()}\")\n",
    "    results.append(contest['6d4_wins'].mean())"
   ]
  },
  {
   "cell_type": "code",
   "execution_count": 288,
   "id": "55308998-ae41-4b83-8472-05df1cc897d4",
   "metadata": {},
   "outputs": [],
   "source": [
    "# No clear winner - about .5 every time!!!"
   ]
  },
  {
   "cell_type": "code",
   "execution_count": null,
   "id": "750423c1-24c6-4c1d-9024-d7146cb39793",
   "metadata": {},
   "outputs": [],
   "source": []
  }
 ],
 "metadata": {
  "kernelspec": {
   "display_name": "Python 3.9.7 64-bit ('base': conda)",
   "language": "python",
   "name": "python397jvsc74a57bd038cca0c38332a56087b24af0bc80247f4fced29cb4f7f437d91dc159adec9c4e"
  },
  "language_info": {
   "codemirror_mode": {
    "name": "ipython",
    "version": 3
   },
   "file_extension": ".py",
   "mimetype": "text/x-python",
   "name": "python",
   "nbconvert_exporter": "python",
   "pygments_lexer": "ipython3",
   "version": "3.9.7"
  }
 },
 "nbformat": 4,
 "nbformat_minor": 5
}
