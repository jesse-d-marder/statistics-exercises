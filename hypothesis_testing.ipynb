{
 "cells": [
  {
   "cell_type": "markdown",
   "id": "9cd48218-84a8-4434-83fa-b7dc853741d6",
   "metadata": {},
   "source": [
    "Exercises from:\n",
    "https://ds.codeup.com/stats/hypothesis-testing-overview/\n",
    "https://ds.codeup.com/stats/compare-means/"
   ]
  },
  {
   "cell_type": "markdown",
   "id": "b5afa2dd-bfde-459b-bd0e-c58cef7de5b0",
   "metadata": {},
   "source": [
    "For each of the following questions, formulate a null and alternative hypothesis (be as specific as you can be), then give an example of what a true positive, true negative, type I and type II errors would look like. Note that some of the questions are intentionally phrased in a vague way. It is your job to reword these as more precise questions that could be tested."
   ]
  },
  {
   "cell_type": "markdown",
   "id": "fcd5023f-0fd4-41e9-bd83-1340f20fa89e",
   "metadata": {},
   "source": [
    "##### Has the network latency gone up since we switched internet service providers?"
   ]
  },
  {
   "cell_type": "markdown",
   "id": "e323bc4e-8c35-4e2d-b7ed-f0889544fa1e",
   "metadata": {},
   "source": [
    "H0: Network latency has not gone up since switching internet service provers, ie the old provider was faster\n",
    "\n",
    "Ha: The new provider has resulted in network latency going up\n",
    "\n",
    "Accept H0 and H0 is true (True Negative):\n",
    "    We accepted that network latency has not gone up and indeed network latency has not gone up with the new provider\n",
    "    \n",
    "Accept H0 but H0 is false (False Negative):\n",
    "    We accepted that network latency has not gone up with the new provider but it actually has\n",
    "\n",
    "Reject H0 but H0 is true (False positive):\n",
    "    We rejected that network latency has not gone up with the new provider (ie we accepted that it has gone up with new provider) but actually latency has not gone up with the new provider.\n",
    "    \n",
    "Reject H0 and H0 is false (True Positive):\n",
    "    We rejected that network latency has not gone up with the new provider (ie we accepted that it has gone up with the new provider) and latency has indeed gone up with the new provider"
   ]
  },
  {
   "cell_type": "markdown",
   "id": "c03be596-72dd-4b55-bce4-eafa87236562",
   "metadata": {},
   "source": [
    "##### Is the website redesign any good?"
   ]
  },
  {
   "cell_type": "markdown",
   "id": "5398fec5-e7d5-4f06-914e-c77b9155038c",
   "metadata": {},
   "source": [
    "H0: The old and new website versions are no better than each other, say for attracting traffic or clicks\n",
    "\n",
    "Ha: The new website version is better than the old, say at attracting traffic/clicks\n",
    "\n",
    "True Negative (Accept H0 and H0 is True): Accepted that the two versions of the website are no better than each other and that is true\n",
    "\n",
    "Accept H0 but H0 is false (False negative): Accepted that the two versons are no better from each other but actually the redesign (new version) is better\n",
    "\n",
    "Reject H0 but H0 is True (False positive): We rejected that the two versions are no better from each other ( so we thought the redesign is better) but actually they are no better from each other\n",
    "\n",
    "Reject H0 and H0 is False (True positive): We rejected that the two versions are no better from each other (accepted that the redesign is better) and the new version is in fact better"
   ]
  },
  {
   "cell_type": "markdown",
   "id": "3745fc3d-f213-4eec-814d-2ab1ac504859",
   "metadata": {},
   "source": [
    "##### Is our television ad driving more sales?"
   ]
  },
  {
   "cell_type": "markdown",
   "id": "08d2f8fe-814a-4d15-9e76-a65f13572bb5",
   "metadata": {},
   "source": [
    "H0: The tv ad has no effect on sales - sales are the same before and after the ad\n",
    "\n",
    "Ha: The tv ad has caused greater sales - sales are greater after the ad than before\n",
    "\n",
    "Accept H0 and H0 is True (True negative): Accepted that the tv ad has not had any effect on sales and it hasn't\n",
    "\n",
    "Accept H0 but H0 is False (False negative): Accepted that the tv ad has not had any effect on sales but it has in fact had an effect\n",
    "\n",
    "Reject H0 but H0 is True (False positive): We rejected that the tv ad is not causing sales to go up but sales are not actually going up from the ad\n",
    "\n",
    "Reject H0 and H0 is False (True positive): we rejected that the tv ad is not causing sales to go up and sales are in fact going up after all - ie the ad is causing sales to go up"
   ]
  },
  {
   "cell_type": "markdown",
   "id": "fca4e8fc-0ea0-48ac-b9de-ad85f088b003",
   "metadata": {},
   "source": [
    "### T-Test Exercises"
   ]
  },
  {
   "cell_type": "code",
   "execution_count": 30,
   "id": "447a5d9f-e104-420d-be0e-1386ded62398",
   "metadata": {},
   "outputs": [],
   "source": [
    "import pandas as pd\n",
    "import scipy.stats as stats\n",
    "import numpy as np\n",
    "import seaborn as sns\n",
    "from env import get_db_url\n",
    "import matplotlib.pyplot as plt"
   ]
  },
  {
   "cell_type": "markdown",
   "id": "aadc58c6-68d8-48f8-9f67-9e903072d260",
   "metadata": {},
   "source": [
    "Ace Realty wants to determine whether the average time it takes to sell homes is different for its two offices. A sample of 40 sales from office #1 revealed a mean of 90 days and a standard deviation of 15 days. A sample of 50 sales from office #2 revealed a mean of 100 days and a standard deviation of 20 days. Use a .05 level of significance."
   ]
  },
  {
   "cell_type": "markdown",
   "id": "2289d56c-a6cd-45b3-803f-56147c7ec381",
   "metadata": {},
   "source": [
    "Use an independent t-test (2 sample)\n",
    "\n",
    "    Is the average time for office 2 to sell greater than the average time for office 1 to sell?"
   ]
  },
  {
   "cell_type": "markdown",
   "id": "04d4cbb4-f4cf-4a44-a824-c1d09e0b95b4",
   "metadata": {},
   "source": [
    "Hypothesis:\n",
    "H0 = no difference in average time it takes to sell homes for different offices\n",
    "Ha = Office 2 average time to sell > Office 1 average time to sell"
   ]
  },
  {
   "cell_type": "code",
   "execution_count": 21,
   "id": "efdaebd1-632c-4c11-a1fb-83ebdefe07aa",
   "metadata": {},
   "outputs": [],
   "source": [
    "alpha = 0.05\n",
    "office_1 = np.random.normal(90,15,40)\n",
    "office_2 = np.random.normal(100,20,50)"
   ]
  },
  {
   "cell_type": "markdown",
   "id": "b6d6ed65-ebaa-43cc-93f8-1c9c1295239c",
   "metadata": {},
   "source": [
    "Verify assumptions:\n",
    "\n",
    "    1. Independent samples: YES, two different offices\n",
    "    2. Normal distribution: YES, we're given mean and standard deviation. Also > 30 samples.\n",
    "    3. Equal variances: 225 vs 400 , not equal"
   ]
  },
  {
   "cell_type": "code",
   "execution_count": 22,
   "id": "a56d8817-50af-4bab-a3ff-bc0f915aabe7",
   "metadata": {},
   "outputs": [
    {
     "data": {
      "text/plain": [
       "(2.98852667934723, 0.001858060113949723)"
      ]
     },
     "execution_count": 22,
     "metadata": {},
     "output_type": "execute_result"
    }
   ],
   "source": [
    "t, p = stats.ttest_ind(office_2, office_1, equal_var=False)\n",
    "t, p / 2"
   ]
  },
  {
   "cell_type": "code",
   "execution_count": 23,
   "id": "fee73a71-a6b6-4761-9dd3-9a9330802c1b",
   "metadata": {},
   "outputs": [
    {
     "name": "stdout",
     "output_type": "stream",
     "text": [
      "is p/2 < alpha?  True\n",
      "is t > 0?  True\n"
     ]
    }
   ],
   "source": [
    "print(\"is p/2 < alpha? \", p / 2 < alpha)\n",
    "print(\"is t > 0? \", t > 0)\n"
   ]
  },
  {
   "cell_type": "code",
   "execution_count": 24,
   "id": "45e76c5d-3b86-4e14-b6c9-fe14227ba55e",
   "metadata": {},
   "outputs": [
    {
     "name": "stdout",
     "output_type": "stream",
     "text": [
      "We reject $H_{0}$\n"
     ]
    }
   ],
   "source": [
    "if p / 2 > alpha:\n",
    "    print(\"We fail to reject \\$H_{0}$\")\n",
    "elif t < 0:\n",
    "    print(\"We fail to reject \\$H_{0}$\")\n",
    "else:\n",
    "    print(\"We reject $H_{0}$\")\n"
   ]
  },
  {
   "cell_type": "markdown",
   "id": "da4a46c2-dc50-4488-ba14-12c70822f6a9",
   "metadata": {},
   "source": [
    "Is office 2's selling time significantly different than office 1's?\n",
    "H0: sell time for office 2 is equal to office 1's\n",
    "Ha: sell time for office 2 is not equal to office 1's"
   ]
  },
  {
   "cell_type": "code",
   "execution_count": 25,
   "id": "77ed138b-76ef-4c67-ac61-5f4222714aae",
   "metadata": {},
   "outputs": [
    {
     "data": {
      "text/plain": [
       "(2.98852667934723, 0.003716120227899446)"
      ]
     },
     "execution_count": 25,
     "metadata": {},
     "output_type": "execute_result"
    }
   ],
   "source": [
    "t, p = stats.ttest_ind(office_2, office_1, equal_var=False)\n",
    "t, p"
   ]
  },
  {
   "cell_type": "code",
   "execution_count": 27,
   "id": "f2466759-1c5c-4271-adb3-f81e39d88615",
   "metadata": {},
   "outputs": [
    {
     "name": "stdout",
     "output_type": "stream",
     "text": [
      "Reject $H_{0}$?  True\n"
     ]
    }
   ],
   "source": [
    "print(\"Reject $H_{0}$? \", p < alpha)"
   ]
  },
  {
   "cell_type": "markdown",
   "id": "199a148f-2a82-4224-be12-53cc297b7f16",
   "metadata": {},
   "source": [
    "Is office 2's selling time significantly less than office 1's?\n",
    "H0: sell time for office 2 is equal to sell time for office 1\n",
    "Ha: sell time for office 2 is less than that of office 1"
   ]
  },
  {
   "cell_type": "code",
   "execution_count": 28,
   "id": "8c64df85-811d-4ddb-9652-dd5fd2d7f1e3",
   "metadata": {},
   "outputs": [
    {
     "data": {
      "text/plain": [
       "(2.98852667934723, 0.003716120227899446)"
      ]
     },
     "execution_count": 28,
     "metadata": {},
     "output_type": "execute_result"
    }
   ],
   "source": [
    "t, p = stats.ttest_ind(office_2, office_1, equal_var=False)\n",
    "t, p"
   ]
  },
  {
   "cell_type": "code",
   "execution_count": 29,
   "id": "f74a4988-8525-4655-85e9-7b2a039c2c10",
   "metadata": {},
   "outputs": [
    {
     "name": "stdout",
     "output_type": "stream",
     "text": [
      "Is t < 0?  False\n",
      "is p/2 < alpha?  True\n"
     ]
    }
   ],
   "source": [
    "print(\"Is t < 0? \", t < 0)\n",
    "\n",
    "print(\"is p/2 < alpha? \", p / 2 < alpha)\n"
   ]
  },
  {
   "cell_type": "markdown",
   "id": "2c438ed4-9bb8-4a29-ba3b-217e90aabe35",
   "metadata": {},
   "source": [
    "#### Load the mpg dataset and use it to answer the following questions:"
   ]
  },
  {
   "cell_type": "code",
   "execution_count": 50,
   "id": "9e68df23-0b7e-423f-bde8-009582317566",
   "metadata": {},
   "outputs": [],
   "source": [
    "mpg = sns.load_dataset('mpg')"
   ]
  },
  {
   "cell_type": "code",
   "execution_count": 52,
   "id": "20f36801-3005-46b7-bfad-4c6a67527785",
   "metadata": {},
   "outputs": [
    {
     "data": {
      "text/html": [
       "<div>\n",
       "<style scoped>\n",
       "    .dataframe tbody tr th:only-of-type {\n",
       "        vertical-align: middle;\n",
       "    }\n",
       "\n",
       "    .dataframe tbody tr th {\n",
       "        vertical-align: top;\n",
       "    }\n",
       "\n",
       "    .dataframe thead th {\n",
       "        text-align: right;\n",
       "    }\n",
       "</style>\n",
       "<table border=\"1\" class=\"dataframe\">\n",
       "  <thead>\n",
       "    <tr style=\"text-align: right;\">\n",
       "      <th></th>\n",
       "      <th>mpg</th>\n",
       "      <th>cylinders</th>\n",
       "      <th>displacement</th>\n",
       "      <th>horsepower</th>\n",
       "      <th>weight</th>\n",
       "      <th>acceleration</th>\n",
       "      <th>model_year</th>\n",
       "      <th>origin</th>\n",
       "      <th>name</th>\n",
       "    </tr>\n",
       "  </thead>\n",
       "  <tbody>\n",
       "    <tr>\n",
       "      <th>0</th>\n",
       "      <td>18.0</td>\n",
       "      <td>8</td>\n",
       "      <td>307.0</td>\n",
       "      <td>130.0</td>\n",
       "      <td>3504</td>\n",
       "      <td>12.0</td>\n",
       "      <td>70</td>\n",
       "      <td>usa</td>\n",
       "      <td>chevrolet chevelle malibu</td>\n",
       "    </tr>\n",
       "    <tr>\n",
       "      <th>1</th>\n",
       "      <td>15.0</td>\n",
       "      <td>8</td>\n",
       "      <td>350.0</td>\n",
       "      <td>165.0</td>\n",
       "      <td>3693</td>\n",
       "      <td>11.5</td>\n",
       "      <td>70</td>\n",
       "      <td>usa</td>\n",
       "      <td>buick skylark 320</td>\n",
       "    </tr>\n",
       "    <tr>\n",
       "      <th>2</th>\n",
       "      <td>18.0</td>\n",
       "      <td>8</td>\n",
       "      <td>318.0</td>\n",
       "      <td>150.0</td>\n",
       "      <td>3436</td>\n",
       "      <td>11.0</td>\n",
       "      <td>70</td>\n",
       "      <td>usa</td>\n",
       "      <td>plymouth satellite</td>\n",
       "    </tr>\n",
       "    <tr>\n",
       "      <th>3</th>\n",
       "      <td>16.0</td>\n",
       "      <td>8</td>\n",
       "      <td>304.0</td>\n",
       "      <td>150.0</td>\n",
       "      <td>3433</td>\n",
       "      <td>12.0</td>\n",
       "      <td>70</td>\n",
       "      <td>usa</td>\n",
       "      <td>amc rebel sst</td>\n",
       "    </tr>\n",
       "    <tr>\n",
       "      <th>4</th>\n",
       "      <td>17.0</td>\n",
       "      <td>8</td>\n",
       "      <td>302.0</td>\n",
       "      <td>140.0</td>\n",
       "      <td>3449</td>\n",
       "      <td>10.5</td>\n",
       "      <td>70</td>\n",
       "      <td>usa</td>\n",
       "      <td>ford torino</td>\n",
       "    </tr>\n",
       "    <tr>\n",
       "      <th>...</th>\n",
       "      <td>...</td>\n",
       "      <td>...</td>\n",
       "      <td>...</td>\n",
       "      <td>...</td>\n",
       "      <td>...</td>\n",
       "      <td>...</td>\n",
       "      <td>...</td>\n",
       "      <td>...</td>\n",
       "      <td>...</td>\n",
       "    </tr>\n",
       "    <tr>\n",
       "      <th>393</th>\n",
       "      <td>27.0</td>\n",
       "      <td>4</td>\n",
       "      <td>140.0</td>\n",
       "      <td>86.0</td>\n",
       "      <td>2790</td>\n",
       "      <td>15.6</td>\n",
       "      <td>82</td>\n",
       "      <td>usa</td>\n",
       "      <td>ford mustang gl</td>\n",
       "    </tr>\n",
       "    <tr>\n",
       "      <th>394</th>\n",
       "      <td>44.0</td>\n",
       "      <td>4</td>\n",
       "      <td>97.0</td>\n",
       "      <td>52.0</td>\n",
       "      <td>2130</td>\n",
       "      <td>24.6</td>\n",
       "      <td>82</td>\n",
       "      <td>europe</td>\n",
       "      <td>vw pickup</td>\n",
       "    </tr>\n",
       "    <tr>\n",
       "      <th>395</th>\n",
       "      <td>32.0</td>\n",
       "      <td>4</td>\n",
       "      <td>135.0</td>\n",
       "      <td>84.0</td>\n",
       "      <td>2295</td>\n",
       "      <td>11.6</td>\n",
       "      <td>82</td>\n",
       "      <td>usa</td>\n",
       "      <td>dodge rampage</td>\n",
       "    </tr>\n",
       "    <tr>\n",
       "      <th>396</th>\n",
       "      <td>28.0</td>\n",
       "      <td>4</td>\n",
       "      <td>120.0</td>\n",
       "      <td>79.0</td>\n",
       "      <td>2625</td>\n",
       "      <td>18.6</td>\n",
       "      <td>82</td>\n",
       "      <td>usa</td>\n",
       "      <td>ford ranger</td>\n",
       "    </tr>\n",
       "    <tr>\n",
       "      <th>397</th>\n",
       "      <td>31.0</td>\n",
       "      <td>4</td>\n",
       "      <td>119.0</td>\n",
       "      <td>82.0</td>\n",
       "      <td>2720</td>\n",
       "      <td>19.4</td>\n",
       "      <td>82</td>\n",
       "      <td>usa</td>\n",
       "      <td>chevy s-10</td>\n",
       "    </tr>\n",
       "  </tbody>\n",
       "</table>\n",
       "<p>398 rows × 9 columns</p>\n",
       "</div>"
      ],
      "text/plain": [
       "      mpg  cylinders  displacement  horsepower  weight  acceleration  \\\n",
       "0    18.0          8         307.0       130.0    3504          12.0   \n",
       "1    15.0          8         350.0       165.0    3693          11.5   \n",
       "2    18.0          8         318.0       150.0    3436          11.0   \n",
       "3    16.0          8         304.0       150.0    3433          12.0   \n",
       "4    17.0          8         302.0       140.0    3449          10.5   \n",
       "..    ...        ...           ...         ...     ...           ...   \n",
       "393  27.0          4         140.0        86.0    2790          15.6   \n",
       "394  44.0          4          97.0        52.0    2130          24.6   \n",
       "395  32.0          4         135.0        84.0    2295          11.6   \n",
       "396  28.0          4         120.0        79.0    2625          18.6   \n",
       "397  31.0          4         119.0        82.0    2720          19.4   \n",
       "\n",
       "     model_year  origin                       name  \n",
       "0            70     usa  chevrolet chevelle malibu  \n",
       "1            70     usa          buick skylark 320  \n",
       "2            70     usa         plymouth satellite  \n",
       "3            70     usa              amc rebel sst  \n",
       "4            70     usa                ford torino  \n",
       "..          ...     ...                        ...  \n",
       "393          82     usa            ford mustang gl  \n",
       "394          82  europe                  vw pickup  \n",
       "395          82     usa              dodge rampage  \n",
       "396          82     usa                ford ranger  \n",
       "397          82     usa                 chevy s-10  \n",
       "\n",
       "[398 rows x 9 columns]"
      ]
     },
     "execution_count": 52,
     "metadata": {},
     "output_type": "execute_result"
    }
   ],
   "source": [
    "mpg"
   ]
  },
  {
   "cell_type": "markdown",
   "id": "44093603-49f4-43fe-8d2a-27c26050a3d0",
   "metadata": {},
   "source": [
    "Is there a difference in fuel-efficiency in cars from 2008 vs 1999?"
   ]
  },
  {
   "cell_type": "markdown",
   "id": "a5e30836-84d3-49d1-9c7a-6d5dc951e2b6",
   "metadata": {},
   "source": [
    "H0: mpg is the same between 2008 and 1999\n",
    "Ha: mpg is not the same between 2008 and 1999"
   ]
  },
  {
   "cell_type": "code",
   "execution_count": 58,
   "id": "433d0aed-ef33-4cb9-a2a2-85e15a6a82cc",
   "metadata": {},
   "outputs": [],
   "source": [
    "alpha = 0.05"
   ]
  },
  {
   "cell_type": "code",
   "execution_count": 53,
   "id": "82effeae-b8a2-44f5-b31f-bf4445be8153",
   "metadata": {},
   "outputs": [],
   "source": [
    "fe_2008 = mpg[mpg.model_year == 78].mpg\n",
    "fe_1999 = mpg[mpg.model_year == 81].mpg"
   ]
  },
  {
   "cell_type": "code",
   "execution_count": 55,
   "id": "d223b14b-de6c-44dd-9c5b-157192e9a0c8",
   "metadata": {},
   "outputs": [
    {
     "data": {
      "text/plain": [
       "<AxesSubplot:>"
      ]
     },
     "execution_count": 55,
     "metadata": {},
     "output_type": "execute_result"
    },
    {
     "data": {
      "image/png": "[encoded data removed]",
      "text/plain": [
       "<Figure size 432x288 with 1 Axes>"
      ]
     },
     "metadata": {
      "needs_background": "light"
     },
     "output_type": "display_data"
    }
   ],
   "source": [
    "fe_2008.hist()"
   ]
  },
  {
   "cell_type": "code",
   "execution_count": 56,
   "id": "6e68c1d5-3148-4588-a037-858ea9aa23c3",
   "metadata": {},
   "outputs": [
    {
     "data": {
      "text/plain": [
       "<AxesSubplot:>"
      ]
     },
     "execution_count": 56,
     "metadata": {},
     "output_type": "execute_result"
    },
    {
     "data": {
      "image/png": "[encoded data removed]",
      "text/plain": [
       "<Figure size 432x288 with 1 Axes>"
      ]
     },
     "metadata": {
      "needs_background": "light"
     },
     "output_type": "display_data"
    }
   ],
   "source": [
    "fe_1999.hist()"
   ]
  },
  {
   "cell_type": "markdown",
   "id": "b3d53850-b80b-4fa2-b4a9-e61c4912f3d4",
   "metadata": {},
   "source": [
    "Assumptions:\n",
    "\n",
    "    1. Normal: YES\n",
    "    2. Independent: YES\n",
    "    3. Variance: Not quite"
   ]
  },
  {
   "cell_type": "code",
   "execution_count": null,
   "id": "a3302292-3f11-4b68-81a2-93b50f048ffa",
   "metadata": {},
   "outputs": [],
   "source": []
  },
  {
   "cell_type": "code",
   "execution_count": 59,
   "id": "3f35eadd-96bc-4fba-b236-34543ea18a53",
   "metadata": {},
   "outputs": [
    {
     "data": {
      "text/plain": [
       "31.26448275862069"
      ]
     },
     "execution_count": 59,
     "metadata": {},
     "output_type": "execute_result"
    }
   ],
   "source": [
    "fe_1999.var()"
   ]
  },
  {
   "cell_type": "code",
   "execution_count": 60,
   "id": "2fc101c2-eac2-4f8b-98f0-4f8164b4cd94",
   "metadata": {},
   "outputs": [
    {
     "data": {
      "text/plain": [
       "47.58301587301586"
      ]
     },
     "execution_count": 60,
     "metadata": {},
     "output_type": "execute_result"
    }
   ],
   "source": [
    "fe_2008.var()"
   ]
  },
  {
   "cell_type": "code",
   "execution_count": 62,
   "id": "83982d4b-4c6b-487b-9980-d19d4e2f1962",
   "metadata": {},
   "outputs": [
    {
     "data": {
      "text/plain": [
       "(4.04958230403348, 0.00014301051524102693)"
      ]
     },
     "execution_count": 62,
     "metadata": {},
     "output_type": "execute_result"
    }
   ],
   "source": [
    "t, p = stats.ttest_ind(fe_1999, fe_2008, equal_var = False)\n",
    "t, p"
   ]
  },
  {
   "cell_type": "code",
   "execution_count": 63,
   "id": "5e3fba96-1fd3-4871-99f6-495fc9fb8a11",
   "metadata": {},
   "outputs": [
    {
     "data": {
      "text/plain": [
       "True"
      ]
     },
     "execution_count": 63,
     "metadata": {},
     "output_type": "execute_result"
    }
   ],
   "source": [
    "p < alpha\n"
   ]
  },
  {
   "cell_type": "markdown",
   "id": "f854fc17-0604-4f53-b24d-d3b0a2a0a089",
   "metadata": {},
   "source": [
    "Reject null hypothesis - mpg between years is significantly different"
   ]
  },
  {
   "cell_type": "code",
   "execution_count": 64,
   "id": "cefb46b6-65a4-4e74-a49a-c41b98aed2a6",
   "metadata": {},
   "outputs": [
    {
     "data": {
      "text/plain": [
       "KruskalResult(statistic=14.050358167364976, pvalue=0.00017797993243739497)"
      ]
     },
     "execution_count": 64,
     "metadata": {},
     "output_type": "execute_result"
    }
   ],
   "source": [
    "stats.kruskal(fe_1999, fe_2008)"
   ]
  },
  {
   "cell_type": "markdown",
   "id": "b01cb760-3b20-4800-aa5f-dbb7bc482e40",
   "metadata": {},
   "source": [
    "Are compact cars more fuel-efficient than the average car?"
   ]
  },
  {
   "cell_type": "code",
   "execution_count": 65,
   "id": "222abe35-b026-47fa-a940-3b2a772b0e76",
   "metadata": {},
   "outputs": [
    {
     "data": {
      "text/plain": [
       "Index(['mpg', 'cylinders', 'displacement', 'horsepower', 'weight',\n",
       "       'acceleration', 'model_year', 'origin', 'name'],\n",
       "      dtype='object')"
      ]
     },
     "execution_count": 65,
     "metadata": {},
     "output_type": "execute_result"
    }
   ],
   "source": [
    "mpg.columns"
   ]
  },
  {
   "cell_type": "markdown",
   "id": "0dc871c8-eee7-4502-9604-472335b8cc93",
   "metadata": {},
   "source": [
    "H0: compact cars are no different in fuel efficiency as the average"
   ]
  },
  {
   "cell_type": "code",
   "execution_count": null,
   "id": "471dc843-c371-444e-9c1b-3f0b9a0976da",
   "metadata": {},
   "outputs": [],
   "source": []
  },
  {
   "cell_type": "code",
   "execution_count": null,
   "id": "d9e00658-e1d3-4636-934a-e5cd50a6eb3c",
   "metadata": {},
   "outputs": [],
   "source": []
  },
  {
   "cell_type": "code",
   "execution_count": null,
   "id": "05287c57-93b7-4a34-a411-df131dfacce6",
   "metadata": {},
   "outputs": [],
   "source": []
  },
  {
   "cell_type": "markdown",
   "id": "a1c09cc0-f543-49f0-b326-bfad8da82ab3",
   "metadata": {},
   "source": [
    "Do manual cars get better gas mileage than automatic cars?"
   ]
  }
 ],
 "metadata": {
  "kernelspec": {
   "display_name": "Python 3.9.7 64-bit ('base': conda)",
   "language": "python",
   "name": "python397jvsc74a57bd038cca0c38332a56087b24af0bc80247f4fced29cb4f7f437d91dc159adec9c4e"
  },
  "language_info": {
   "codemirror_mode": {
    "name": "ipython",
    "version": 3
   },
   "file_extension": ".py",
   "mimetype": "text/x-python",
   "name": "python",
   "nbconvert_exporter": "python",
   "pygments_lexer": "ipython3",
   "version": "3.9.7"
  }
 },
 "nbformat": 4,
 "nbformat_minor": 5
}
