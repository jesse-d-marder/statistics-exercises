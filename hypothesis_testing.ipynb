{
 "cells": [
  {
   "cell_type": "markdown",
   "id": "9cd48218-84a8-4434-83fa-b7dc853741d6",
   "metadata": {},
   "source": [
    "Exercises from:\n",
    "https://ds.codeup.com/stats/hypothesis-testing-overview/\n",
    "https://ds.codeup.com/stats/compare-means/"
   ]
  },
  {
   "cell_type": "markdown",
   "id": "b5afa2dd-bfde-459b-bd0e-c58cef7de5b0",
   "metadata": {},
   "source": [
    "For each of the following questions, formulate a null and alternative hypothesis (be as specific as you can be), then give an example of what a true positive, true negative, type I and type II errors would look like. Note that some of the questions are intentionally phrased in a vague way. It is your job to reword these as more precise questions that could be tested."
   ]
  },
  {
   "cell_type": "markdown",
   "id": "fcd5023f-0fd4-41e9-bd83-1340f20fa89e",
   "metadata": {},
   "source": [
    "##### Has the network latency gone up since we switched internet service providers?"
   ]
  },
  {
   "cell_type": "markdown",
   "id": "e323bc4e-8c35-4e2d-b7ed-f0889544fa1e",
   "metadata": {},
   "source": [
    "H0: Network latency has not gone up since switching internet service provers, ie the old provider was faster\n",
    "\n",
    "Ha: The new provider has resulted in network latency going up\n",
    "\n",
    "Accept H0 and H0 is true (True Negative):\n",
    "    We accepted that network latency has not gone up and indeed network latency has not gone up with the new provider\n",
    "    \n",
    "Accept H0 but H0 is false (False Negative):\n",
    "    We accepted that network latency has not gone up with the new provider but it actually has\n",
    "\n",
    "Reject H0 but H0 is true (False positive):\n",
    "    We rejected that network latency has not gone up with the new provider (ie we accepted that it has gone up with new provider) but actually latency has not gone up with the new provider.\n",
    "    \n",
    "Reject H0 and H0 is false (True Positive):\n",
    "    We rejected that network latency has not gone up with the new provider (ie we accepted that it has gone up with the new provider) and latency has indeed gone up with the new provider"
   ]
  },
  {
   "cell_type": "markdown",
   "id": "c03be596-72dd-4b55-bce4-eafa87236562",
   "metadata": {},
   "source": [
    "##### Is the website redesign any good?"
   ]
  },
  {
   "cell_type": "markdown",
   "id": "5398fec5-e7d5-4f06-914e-c77b9155038c",
   "metadata": {},
   "source": [
    "H0: The old and new website versions are no better than each other, say for attracting traffic or clicks\n",
    "\n",
    "Ha: The new website version is better than the old, say at attracting traffic/clicks\n",
    "\n",
    "True Negative (Accept H0 and H0 is True): Accepted that the two versions of the website are no better than each other and that is true\n",
    "\n",
    "Accept H0 but H0 is false (False negative): Accepted that the two versons are no better from each other but actually the redesign (new version) is better\n",
    "\n",
    "Reject H0 but H0 is True (False positive): We rejected that the two versions are no better from each other ( so we thought the redesign is better) but actually they are no better from each other\n",
    "\n",
    "Reject H0 and H0 is False (True positive): We rejected that the two versions are no better from each other (accepted that the redesign is better) and the new version is in fact better"
   ]
  },
  {
   "cell_type": "markdown",
   "id": "3745fc3d-f213-4eec-814d-2ab1ac504859",
   "metadata": {},
   "source": [
    "##### Is our television ad driving more sales?"
   ]
  },
  {
   "cell_type": "markdown",
   "id": "08d2f8fe-814a-4d15-9e76-a65f13572bb5",
   "metadata": {},
   "source": [
    "H0: The tv ad has no effect on sales - sales are the same before and after the ad\n",
    "\n",
    "Ha: The tv ad has caused greater sales - sales are greater after the ad than before\n",
    "\n",
    "Accept H0 and H0 is True (True negative): Accepted that the tv ad has not had any effect on sales and it hasn't\n",
    "\n",
    "Accept H0 but H0 is False (False negative): Accepted that the tv ad has not had any effect on sales but it has in fact had an effect\n",
    "\n",
    "Reject H0 but H0 is True (False positive): We rejected that the tv ad is not causing sales to go up but sales are not actually going up from the ad\n",
    "\n",
    "Reject H0 and H0 is False (True positive): we rejected that the tv ad is not causing sales to go up and sales are in fact going up after all - ie the ad is causing sales to go up"
   ]
  },
  {
   "cell_type": "markdown",
   "id": "fca4e8fc-0ea0-48ac-b9de-ad85f088b003",
   "metadata": {},
   "source": [
    "### T-Test Exercises"
   ]
  },
  {
   "cell_type": "code",
   "execution_count": 1,
   "id": "447a5d9f-e104-420d-be0e-1386ded62398",
   "metadata": {},
   "outputs": [],
   "source": [
    "import pandas as pd\n",
    "import scipy.stats as stats\n",
    "import numpy as np\n",
    "import seaborn as sns\n",
    "from env import get_db_url\n",
    "import matplotlib.pyplot as plt\n",
    "from pydataset import data"
   ]
  },
  {
   "cell_type": "markdown",
   "id": "aadc58c6-68d8-48f8-9f67-9e903072d260",
   "metadata": {},
   "source": [
    "1. Ace Realty wants to determine whether the average time it takes to sell homes is different for its two offices. A sample of 40 sales from office #1 revealed a mean of 90 days and a standard deviation of 15 days. A sample of 50 sales from office #2 revealed a mean of 100 days and a standard deviation of 20 days. Use a .05 level of significance."
   ]
  },
  {
   "cell_type": "markdown",
   "id": "aba0cae8-b8dd-4a49-b4db-471c6cb1e5fc",
   "metadata": {},
   "source": [
    "Use an independent t-test (2 sample)\n",
    "\n",
    "Is office 2's selling time significantly different than office 1's? <br>\n",
    "H0: sell time for office 2 is equal to office 1's <br>\n",
    "Ha: sell time for office 2 is different from office 1's"
   ]
  },
  {
   "cell_type": "code",
   "execution_count": 87,
   "id": "efdaebd1-632c-4c11-a1fb-83ebdefe07aa",
   "metadata": {},
   "outputs": [],
   "source": [
    "alpha = 0.05\n",
    "# office_1 = np.random.normal(90,15,40)\n",
    "# office_2 = np.random.normal(100,20,50)\n",
    "\n",
    "# print(f\"Office 1 variance: {office_1.var()}\")\n",
    "# print(f\"Office 2 variance: {office_2.var()}\")"
   ]
  },
  {
   "cell_type": "markdown",
   "id": "b6d6ed65-ebaa-43cc-93f8-1c9c1295239c",
   "metadata": {},
   "source": [
    "Verify assumptions:\n",
    "\n",
    "    1. Independent samples: YES, two different offices\n",
    "    2. Normal distribution: Not sure but there's a ttest_ind_from_stats\n",
    "    3. Equal variances: not equal"
   ]
  },
  {
   "cell_type": "code",
   "execution_count": 93,
   "id": "7c2d19a9-d846-4642-bd77-da60129b352f",
   "metadata": {},
   "outputs": [
    {
     "data": {
      "text/plain": [
       "(-2.7091418459143854, 0.00811206270346016)"
      ]
     },
     "execution_count": 93,
     "metadata": {},
     "output_type": "execute_result"
    }
   ],
   "source": [
    "t, p = stats.ttest_ind_from_stats(90,15,40,100,20,50, equal_var=False)\n",
    "t, p"
   ]
  },
  {
   "cell_type": "code",
   "execution_count": 94,
   "id": "1dce4604-326d-4764-8017-32f6cb5a74fc",
   "metadata": {},
   "outputs": [
    {
     "name": "stdout",
     "output_type": "stream",
     "text": [
      "The t-statistic for the two sample t-test comparing office 1 and office 2 selling time is -2.709.\n",
      "Our p-value is 0.008.\n",
      "This means there is about a 0.81% chance that we observe the data we have.\n",
      "Our p-value is less than our alpha (0.05): True\n"
     ]
    }
   ],
   "source": [
    "print(f'The t-statistic for the two sample t-test comparing office 1 and office 2 selling time is {round(t,3)}.')\n",
    "print(f'Our p-value is {round(p, 3)}.')\n",
    "print(f'This means there is about a {round(p * 100, 2)}% chance that we observe the data we have.')\n",
    "print(f'Our p-value is less than our alpha ({alpha}): {p < alpha}')"
   ]
  },
  {
   "cell_type": "markdown",
   "id": "2289d56c-a6cd-45b3-803f-56147c7ec381",
   "metadata": {},
   "source": [
    "##### Is the average time for office 1 to sell greater than the average time for office 2 to sell?"
   ]
  },
  {
   "cell_type": "markdown",
   "id": "04d4cbb4-f4cf-4a44-a824-c1d09e0b95b4",
   "metadata": {},
   "source": [
    "Hypothesis: <br>\n",
    "H0 = no difference in average time it takes to sell homes for different offices <br>\n",
    "Ha = Office 2 average time to sell > Office 1 average time to sell"
   ]
  },
  {
   "cell_type": "code",
   "execution_count": 95,
   "id": "a56d8817-50af-4bab-a3ff-bc0f915aabe7",
   "metadata": {},
   "outputs": [
    {
     "data": {
      "text/plain": [
       "(-2.7091418459143854, 0.00405603135173008)"
      ]
     },
     "execution_count": 95,
     "metadata": {},
     "output_type": "execute_result"
    }
   ],
   "source": [
    "t, p = stats.ttest_ind_from_stats(90,15,40,100,20,50, equal_var=False)\n",
    "t, p / 2"
   ]
  },
  {
   "cell_type": "code",
   "execution_count": 96,
   "id": "fee73a71-a6b6-4761-9dd3-9a9330802c1b",
   "metadata": {},
   "outputs": [
    {
     "name": "stdout",
     "output_type": "stream",
     "text": [
      "is p/2 < alpha?  True\n",
      "is t > 0?  False\n"
     ]
    }
   ],
   "source": [
    "print(\"is p/2 < alpha? \", p / 2 < alpha)\n",
    "print(\"is t > 0? \", t > 0)\n"
   ]
  },
  {
   "cell_type": "code",
   "execution_count": 97,
   "id": "45e76c5d-3b86-4e14-b6c9-fe14227ba55e",
   "metadata": {},
   "outputs": [
    {
     "name": "stdout",
     "output_type": "stream",
     "text": [
      "We fail to reject \\$H_{0}$\n"
     ]
    }
   ],
   "source": [
    "if p / 2 > alpha:\n",
    "    print(\"We fail to reject \\$H_{0}$\")\n",
    "elif t < 0:\n",
    "    print(\"We fail to reject \\$H_{0}$\")\n",
    "else:\n",
    "    print(\"We reject $H_{0}$\")\n"
   ]
  },
  {
   "cell_type": "markdown",
   "id": "199a148f-2a82-4224-be12-53cc297b7f16",
   "metadata": {},
   "source": [
    "##### Is office 1's selling time significantly less than office 2's? <br>\n",
    "H0: sell time for office 2 is equal to sell time for office 1 <br>\n",
    "Ha: sell time for office 2 is less than that of office 1"
   ]
  },
  {
   "cell_type": "code",
   "execution_count": 98,
   "id": "8c64df85-811d-4ddb-9652-dd5fd2d7f1e3",
   "metadata": {},
   "outputs": [
    {
     "data": {
      "text/plain": [
       "(-2.7091418459143854, 0.00811206270346016)"
      ]
     },
     "execution_count": 98,
     "metadata": {},
     "output_type": "execute_result"
    }
   ],
   "source": [
    "t, p = stats.ttest_ind_from_stats(90,15,40,100,20,50, equal_var=False)\n",
    "t, p"
   ]
  },
  {
   "cell_type": "code",
   "execution_count": 102,
   "id": "f74a4988-8525-4655-85e9-7b2a039c2c10",
   "metadata": {},
   "outputs": [
    {
     "name": "stdout",
     "output_type": "stream",
     "text": [
      "Is t < 0?  True\n",
      "is p/2 < alpha?  True\n",
      "We reject $H_{0}$\n"
     ]
    }
   ],
   "source": [
    "print(\"Is t < 0? \", t < 0)\n",
    "\n",
    "print(\"is p/2 < alpha? \", p / 2 < alpha)\n",
    "if p / 2 > alpha:\n",
    "    print(\"We fail to reject $H_{0}$\")\n",
    "    # Changed t> 0 for this one as we're testing if office 1 is less than 2\n",
    "elif t > 0:\n",
    "    print(\"We fail to reject $H_{0}$\")\n",
    "else:\n",
    "    print(\"We reject $H_{0}$\")\n"
   ]
  },
  {
   "cell_type": "markdown",
   "id": "2c438ed4-9bb8-4a29-ba3b-217e90aabe35",
   "metadata": {},
   "source": [
    "#### Load the mpg dataset and use it to answer the following questions:"
   ]
  },
  {
   "cell_type": "code",
   "execution_count": 14,
   "id": "9e68df23-0b7e-423f-bde8-009582317566",
   "metadata": {},
   "outputs": [],
   "source": [
    "mpg = data('mpg')"
   ]
  },
  {
   "cell_type": "code",
   "execution_count": 84,
   "id": "20f36801-3005-46b7-bfad-4c6a67527785",
   "metadata": {},
   "outputs": [],
   "source": [
    "mpg = mpg.assign(avg_mpg = lambda avg: (mpg.cty+mpg.hwy)/2)"
   ]
  },
  {
   "cell_type": "markdown",
   "id": "44093603-49f4-43fe-8d2a-27c26050a3d0",
   "metadata": {},
   "source": [
    "#### Is there a difference in fuel-efficiency in cars from 2008 vs 1999?"
   ]
  },
  {
   "cell_type": "markdown",
   "id": "a5e30836-84d3-49d1-9c7a-6d5dc951e2b6",
   "metadata": {},
   "source": [
    "Use an independent t-test (2 sample)\n",
    "\n",
    "H0: mpg is the same between 2008 and 1999 <br>\n",
    "Ha: mpg is not the same between 2008 and 1999"
   ]
  },
  {
   "cell_type": "code",
   "execution_count": 22,
   "id": "433d0aed-ef33-4cb9-a2a2-85e15a6a82cc",
   "metadata": {},
   "outputs": [],
   "source": [
    "alpha = 0.05"
   ]
  },
  {
   "cell_type": "code",
   "execution_count": 23,
   "id": "82effeae-b8a2-44f5-b31f-bf4445be8153",
   "metadata": {},
   "outputs": [],
   "source": [
    "fe_2008 = mpg[mpg.year == 2008].avg_mpg\n",
    "fe_1999 = mpg[mpg.year == 1999].avg_mpg"
   ]
  },
  {
   "cell_type": "code",
   "execution_count": 38,
   "id": "d223b14b-de6c-44dd-9c5b-157192e9a0c8",
   "metadata": {},
   "outputs": [
    {
     "name": "stdout",
     "output_type": "stream",
     "text": [
      "Median: 20.5\n",
      "Mean: 20.076923076923077\n"
     ]
    },
    {
     "data": {
      "image/png": "[encoded data removed]",
      "text/plain": [
       "<Figure size 432x288 with 1 Axes>"
      ]
     },
     "metadata": {
      "needs_background": "light"
     },
     "output_type": "display_data"
    }
   ],
   "source": [
    "fe_2008.hist()\n",
    "print(f\"Median: {fe_2008.median()}\")\n",
    "print(f\"Mean: {fe_2008.mean()}\")"
   ]
  },
  {
   "cell_type": "code",
   "execution_count": 39,
   "id": "6e68c1d5-3148-4588-a037-858ea9aa23c3",
   "metadata": {},
   "outputs": [
    {
     "name": "stdout",
     "output_type": "stream",
     "text": [
      "Median: 21.0\n",
      "Mean: 20.22222222222222\n"
     ]
    },
    {
     "data": {
      "image/png": "[encoded data removed]",
      "text/plain": [
       "<Figure size 432x288 with 1 Axes>"
      ]
     },
     "metadata": {
      "needs_background": "light"
     },
     "output_type": "display_data"
    }
   ],
   "source": [
    "fe_1999.hist()\n",
    "print(f\"Median: {fe_1999.median()}\")\n",
    "print(f\"Mean: {fe_1999.mean()}\")"
   ]
  },
  {
   "cell_type": "markdown",
   "id": "b3d53850-b80b-4fa2-b4a9-e61c4912f3d4",
   "metadata": {},
   "source": [
    "Assumptions:\n",
    "\n",
    "    1. Normal: YES\n",
    "    2. Independent: YES\n",
    "    3. Variance: Close"
   ]
  },
  {
   "cell_type": "code",
   "execution_count": 26,
   "id": "3f35eadd-96bc-4fba-b236-34543ea18a53",
   "metadata": {},
   "outputs": [
    {
     "data": {
      "text/plain": [
       "27.122605363984682"
      ]
     },
     "execution_count": 26,
     "metadata": {},
     "output_type": "execute_result"
    }
   ],
   "source": [
    "fe_1999.var()"
   ]
  },
  {
   "cell_type": "code",
   "execution_count": 27,
   "id": "2fc101c2-eac2-4f8b-98f0-4f8164b4cd94",
   "metadata": {},
   "outputs": [
    {
     "data": {
      "text/plain": [
       "24.097480106100797"
      ]
     },
     "execution_count": 27,
     "metadata": {},
     "output_type": "execute_result"
    }
   ],
   "source": [
    "fe_2008.var()"
   ]
  },
  {
   "cell_type": "code",
   "execution_count": 28,
   "id": "83982d4b-4c6b-487b-9980-d19d4e2f1962",
   "metadata": {},
   "outputs": [
    {
     "data": {
      "text/plain": [
       "(0.21960177245940962, 0.8263744040323578)"
      ]
     },
     "execution_count": 28,
     "metadata": {},
     "output_type": "execute_result"
    }
   ],
   "source": [
    "t, p = stats.ttest_ind(fe_1999, fe_2008, equal_var = True)\n",
    "t, p"
   ]
  },
  {
   "cell_type": "code",
   "execution_count": 29,
   "id": "5e3fba96-1fd3-4871-99f6-495fc9fb8a11",
   "metadata": {},
   "outputs": [
    {
     "data": {
      "text/plain": [
       "False"
      ]
     },
     "execution_count": 29,
     "metadata": {},
     "output_type": "execute_result"
    }
   ],
   "source": [
    "p < alpha\n"
   ]
  },
  {
   "cell_type": "markdown",
   "id": "f854fc17-0604-4f53-b24d-d3b0a2a0a089",
   "metadata": {},
   "source": [
    "Fail to Reject null hypothesis - mpg between years is not significantly different"
   ]
  },
  {
   "cell_type": "code",
   "execution_count": 31,
   "id": "cefb46b6-65a4-4e74-a49a-c41b98aed2a6",
   "metadata": {},
   "outputs": [
    {
     "data": {
      "text/plain": [
       "KruskalResult(statistic=0.10300393353208691, pvalue=0.7482541485808683)"
      ]
     },
     "execution_count": 31,
     "metadata": {},
     "output_type": "execute_result"
    }
   ],
   "source": [
    "stats.kruskal(fe_1999, fe_2008)"
   ]
  },
  {
   "cell_type": "markdown",
   "id": "b01cb760-3b20-4800-aa5f-dbb7bc482e40",
   "metadata": {},
   "source": [
    "#### Are compact cars more fuel-efficient than the average car?"
   ]
  },
  {
   "cell_type": "code",
   "execution_count": 34,
   "id": "222abe35-b026-47fa-a940-3b2a772b0e76",
   "metadata": {},
   "outputs": [
    {
     "data": {
      "text/plain": [
       "Index(['manufacturer', 'model', 'displ', 'year', 'cyl', 'trans', 'drv', 'cty',\n",
       "       'hwy', 'fl', 'class', 'avg_mpg'],\n",
       "      dtype='object')"
      ]
     },
     "execution_count": 34,
     "metadata": {},
     "output_type": "execute_result"
    }
   ],
   "source": [
    "mpg.columns"
   ]
  },
  {
   "cell_type": "markdown",
   "id": "b0c85097-4834-4cfd-b652-7bd1293285ce",
   "metadata": {},
   "source": [
    "Comparing observed mean to the theoretic one - one sample t test. A one-tailed test looks for a specific difference: appropriate if I only want to determine if there is a difference between groups in a specific direction, positive only or negative only. Here I'm looking for whether subset mean (compact) is greater than overall mean, so evaluate p/2 < a and t > 0"
   ]
  },
  {
   "cell_type": "markdown",
   "id": "0dc871c8-eee7-4502-9604-472335b8cc93",
   "metadata": {},
   "source": [
    "H0: compact cars are no different in fuel efficiency as the average <br>\n",
    "Ha: compact cars are more efficient than the average car"
   ]
  },
  {
   "cell_type": "markdown",
   "id": "749d3e3a-83ed-4969-9d4b-ac2e3afb9c36",
   "metadata": {},
   "source": [
    "Assumptions:\n",
    "\n",
    "    1. Normal: YES\n",
    "    2. Independent: YES, or are they? Compact cars are subset of all\n",
    "    3. Variance: Quite different"
   ]
  },
  {
   "cell_type": "code",
   "execution_count": 35,
   "id": "d9e00658-e1d3-4636-934a-e5cd50a6eb3c",
   "metadata": {},
   "outputs": [],
   "source": [
    "compact = mpg[mpg['class'] == 'compact'].avg_mpg\n"
   ]
  },
  {
   "cell_type": "code",
   "execution_count": 36,
   "id": "05287c57-93b7-4a34-a411-df131dfacce6",
   "metadata": {},
   "outputs": [
    {
     "data": {
      "text/plain": [
       "12.442876965772433"
      ]
     },
     "execution_count": 36,
     "metadata": {},
     "output_type": "execute_result"
    }
   ],
   "source": [
    "compact.var()"
   ]
  },
  {
   "cell_type": "code",
   "execution_count": 37,
   "id": "a8267699-a4a7-4d14-9e11-2385c2dfdd62",
   "metadata": {},
   "outputs": [
    {
     "data": {
      "text/plain": [
       "25.50542900113715"
      ]
     },
     "execution_count": 37,
     "metadata": {},
     "output_type": "execute_result"
    }
   ],
   "source": [
    "mpg.avg_mpg.var()"
   ]
  },
  {
   "cell_type": "code",
   "execution_count": 62,
   "id": "e867259d-f33c-4c98-abfe-374941657756",
   "metadata": {},
   "outputs": [
    {
     "name": "stdout",
     "output_type": "stream",
     "text": [
      "2.0992818971585668e-10\n"
     ]
    }
   ],
   "source": [
    "t, p = stats.ttest_1samp(compact, mpg.avg_mpg.mean())"
   ]
  },
  {
   "cell_type": "code",
   "execution_count": 65,
   "id": "a95e4194-0bff-47c4-8650-c3e38bea54df",
   "metadata": {},
   "outputs": [
    {
     "name": "stdout",
     "output_type": "stream",
     "text": [
      "The t-statistic for the one sample t-test comparing compact car mpg to overall mpg is 7.897.\n",
      "The t-statistic is greater than 0: True.\n",
      "Our p-value/2 is 0.0.\n",
      "Our p-value/2 is less than our alpha (0.05): True\n",
      "We reject $H_{0}$\n"
     ]
    }
   ],
   "source": [
    "print(f'The t-statistic for the one sample t-test comparing compact car mpg to overall mpg is {round(t,3)}.')\n",
    "print(f'The t-statistic is greater than 0: {round(t,3)>0}.')\n",
    "print(f'Our p-value/2 is {round(p/2, 5)}.')\n",
    "print(f'Our p-value/2 is less than our alpha ({alpha}): {p/2 < alpha}')\n",
    "if p/2 > alpha:\n",
    "    print(\"We fail to reject $H_{0}$\")\n",
    "elif t < 0:\n",
    "    print(\"We fail to reject $H_{0}$\")\n",
    "else:\n",
    "    print(\"We reject $H_{0}$\")\n"
   ]
  },
  {
   "cell_type": "markdown",
   "id": "a1c09cc0-f543-49f0-b326-bfad8da82ab3",
   "metadata": {},
   "source": [
    "#### Do manual cars get better gas mileage than automatic cars?"
   ]
  },
  {
   "cell_type": "markdown",
   "id": "b87e2249-da71-44fa-890d-0a92863e321b",
   "metadata": {},
   "source": [
    "This is comparing the means of two different groups - independent t-test, 1 tail, significantly larger"
   ]
  },
  {
   "cell_type": "code",
   "execution_count": 81,
   "id": "658856ca-d2fd-4584-a7f7-b11f1c888850",
   "metadata": {},
   "outputs": [],
   "source": [
    "manual = mpg[mpg.trans.str.contains('manual')].avg_mpg\n",
    "automatic = mpg[mpg.trans.str.contains('auto')].avg_mpg"
   ]
  },
  {
   "cell_type": "markdown",
   "id": "fc858bf8-73ab-428f-8a5e-5229f16d8eaa",
   "metadata": {},
   "source": [
    "H0 = gas mileage is the same between manual and automatic cars <br>\n",
    "Ha = manual cars get better gas mileage than automatic cars"
   ]
  },
  {
   "cell_type": "code",
   "execution_count": 82,
   "id": "2c070a49-ab98-409e-9ca7-27019082dab0",
   "metadata": {},
   "outputs": [
    {
     "name": "stdout",
     "output_type": "stream",
     "text": [
      "Manual var: 26.635167464114826, median: 22.0, mean: 22.227272727272727\n"
     ]
    },
    {
     "data": {
      "image/png": "[encoded data removed]",
      "text/plain": [
       "<Figure size 432x288 with 1 Axes>"
      ]
     },
     "metadata": {
      "needs_background": "light"
     },
     "output_type": "display_data"
    }
   ],
   "source": [
    "manual.hist()\n",
    "print(f\"Manual var: {manual.var()}, median: {manual.median()}, mean: {manual.mean()}\")"
   ]
  },
  {
   "cell_type": "code",
   "execution_count": 83,
   "id": "55c412b6-191d-4494-9471-694766780199",
   "metadata": {},
   "outputs": [
    {
     "name": "stdout",
     "output_type": "stream",
     "text": [
      "Automatic var: 21.942777233382337, median: 19.0, mean: 19.130573248407643\n"
     ]
    },
    {
     "data": {
      "image/png": "[encoded data removed]",
      "text/plain": [
       "<Figure size 432x288 with 1 Axes>"
      ]
     },
     "metadata": {
      "needs_background": "light"
     },
     "output_type": "display_data"
    }
   ],
   "source": [
    "automatic.hist()\n",
    "print(f\"Automatic var: {automatic.var()}, median: {automatic.median()}, mean: {automatic.mean()}\")"
   ]
  },
  {
   "cell_type": "markdown",
   "id": "75716b2e-d050-43c5-a791-223cd3e89568",
   "metadata": {},
   "source": [
    "Assumptions:\n",
    "\n",
    "    1. Normal: YES\n",
    "    2. Independent: YES\n",
    "    3. Variance: different"
   ]
  },
  {
   "cell_type": "code",
   "execution_count": 85,
   "id": "3f68ae56-eedb-4558-97c6-965a9f9b01b8",
   "metadata": {},
   "outputs": [
    {
     "data": {
      "text/plain": [
       "(4.443514012903071, 8.976124499958965e-06)"
      ]
     },
     "execution_count": 85,
     "metadata": {},
     "output_type": "execute_result"
    }
   ],
   "source": [
    "t, p = stats.ttest_ind(manual, automatic, equal_var=False)\n",
    "\n",
    "t, p/2"
   ]
  },
  {
   "cell_type": "code",
   "execution_count": 86,
   "id": "288b04a1-e3b4-453a-ba6c-ac17ec670c05",
   "metadata": {},
   "outputs": [
    {
     "name": "stdout",
     "output_type": "stream",
     "text": [
      "is p/2 < alpha?  True\n",
      "is t > 0?  True\n",
      "We reject $H_{0}$\n"
     ]
    }
   ],
   "source": [
    "print(\"is p/2 < alpha? \", p / 2 < alpha)\n",
    "print(\"is t > 0? \", t > 0)\n",
    "if p / 2 > alpha:\n",
    "    print(\"We fail to reject $H_{0}$\")\n",
    "elif t < 0:\n",
    "    print(\"We fail to reject $H_{0}$\")\n",
    "else:\n",
    "    print(\"We reject $H_{0}$\")\n"
   ]
  },
  {
   "cell_type": "markdown",
   "id": "953fed6d-b241-40f7-9115-714f452a9c44",
   "metadata": {},
   "source": [
    "This means manual cars do have higher mpg on average than automatic cars"
   ]
  },
  {
   "cell_type": "markdown",
   "id": "4e507a13-193a-4c9a-8b0b-4a0163f2744d",
   "metadata": {},
   "source": [
    "### Correlation Exercises"
   ]
  },
  {
   "cell_type": "markdown",
   "id": "68be237e-90f6-4ca4-80fe-c6d3c48e7577",
   "metadata": {},
   "source": [
    "1. Telco Churn: Does tenure correlate with monthly charges?"
   ]
  },
  {
   "cell_type": "code",
   "execution_count": null,
   "id": "f5e32f10-9bda-44a1-9e8d-a87adb9b28d6",
   "metadata": {},
   "outputs": [],
   "source": []
  },
  {
   "cell_type": "markdown",
   "id": "aefa67a8-d50d-4c2e-83d0-fe9a94cb1e6c",
   "metadata": {},
   "source": [
    "Total charges? "
   ]
  },
  {
   "cell_type": "code",
   "execution_count": null,
   "id": "42dd67c6-fd59-4a08-bbf2-d81e95c1669d",
   "metadata": {},
   "outputs": [],
   "source": []
  },
  {
   "cell_type": "markdown",
   "id": "4b4f34a4-d85d-4c1e-9c62-300e1ac3dd4e",
   "metadata": {},
   "source": [
    "What happens if you control for phone and internet service?"
   ]
  },
  {
   "cell_type": "code",
   "execution_count": null,
   "id": "3f12e599-a6fe-48c7-aa60-8301044a41b4",
   "metadata": {},
   "outputs": [],
   "source": []
  },
  {
   "cell_type": "markdown",
   "id": "e80a8e20-6d29-4c64-b105-e0f1bd168e9c",
   "metadata": {},
   "source": [
    "2. Use Employees: Is there a relationship between how long an employee has been with the company and their salary?"
   ]
  },
  {
   "cell_type": "code",
   "execution_count": 104,
   "id": "b705168a-ef8d-4d57-ab06-0078c4ff683c",
   "metadata": {},
   "outputs": [],
   "source": [
    "sql = \"\"\"SELECT * FROM employees JOIN salaries USING (emp_no);\"\"\"\n",
    "emp_sal = pd.read_sql(sql, get_db_url('employees'))"
   ]
  },
  {
   "cell_type": "markdown",
   "id": "a7b985fc-7957-4856-9547-f9b47cdf8597",
   "metadata": {},
   "source": [
    "Is there a relationship between how long an employee has been with the company and the number of titles they have had?"
   ]
  },
  {
   "cell_type": "code",
   "execution_count": null,
   "id": "f2680240-2b3d-4d9f-9625-d126fa16bb48",
   "metadata": {},
   "outputs": [],
   "source": []
  }
 ],
 "metadata": {
  "kernelspec": {
   "display_name": "Python 3.9.7 64-bit ('base': conda)",
   "language": "python",
   "name": "python397jvsc74a57bd038cca0c38332a56087b24af0bc80247f4fced29cb4f7f437d91dc159adec9c4e"
  },
  "language_info": {
   "codemirror_mode": {
    "name": "ipython",
    "version": 3
   },
   "file_extension": ".py",
   "mimetype": "text/x-python",
   "name": "python",
   "nbconvert_exporter": "python",
   "pygments_lexer": "ipython3",
   "version": "3.9.7"
  }
 },
 "nbformat": 4,
 "nbformat_minor": 5
}
