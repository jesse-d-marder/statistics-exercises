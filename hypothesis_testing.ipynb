{
 "cells": [
  {
   "cell_type": "markdown",
   "id": "9cd48218-84a8-4434-83fa-b7dc853741d6",
   "metadata": {},
   "source": [
    "Exercises from:\n",
    "https://ds.codeup.com/stats/hypothesis-testing-overview/\n",
    "https://ds.codeup.com/stats/compare-means/"
   ]
  },
  {
   "cell_type": "markdown",
   "id": "b5afa2dd-bfde-459b-bd0e-c58cef7de5b0",
   "metadata": {},
   "source": [
    "For each of the following questions, formulate a null and alternative hypothesis (be as specific as you can be), then give an example of what a true positive, true negative, type I and type II errors would look like. Note that some of the questions are intentionally phrased in a vague way. It is your job to reword these as more precise questions that could be tested."
   ]
  },
  {
   "cell_type": "markdown",
   "id": "fcd5023f-0fd4-41e9-bd83-1340f20fa89e",
   "metadata": {},
   "source": [
    "##### Has the network latency gone up since we switched internet service providers?"
   ]
  },
  {
   "cell_type": "markdown",
   "id": "e323bc4e-8c35-4e2d-b7ed-f0889544fa1e",
   "metadata": {},
   "source": [
    "H0: Network latency has not gone up since switching internet service provers, ie the old provider was faster\n",
    "\n",
    "Ha: The new provider has resulted in network latency going up\n",
    "\n",
    "Accept H0 and H0 is true (True Negative):\n",
    "    We accepted that network latency has not gone up and indeed network latency has not gone up with the new provider\n",
    "    \n",
    "Accept H0 but H0 is false (False Negative):\n",
    "    We accepted that network latency has not gone up with the new provider but it actually has\n",
    "\n",
    "Reject H0 but H0 is true (False positive):\n",
    "    We rejected that network latency has not gone up with the new provider (ie we accepted that it has gone up with new provider) but actually latency has not gone up with the new provider.\n",
    "    \n",
    "Reject H0 and H0 is false (True Positive):\n",
    "    We rejected that network latency has not gone up with the new provider (ie we accepted that it has gone up with the new provider) and latency has indeed gone up with the new provider"
   ]
  },
  {
   "cell_type": "markdown",
   "id": "c03be596-72dd-4b55-bce4-eafa87236562",
   "metadata": {},
   "source": [
    "##### Is the website redesign any good?"
   ]
  },
  {
   "cell_type": "markdown",
   "id": "5398fec5-e7d5-4f06-914e-c77b9155038c",
   "metadata": {},
   "source": [
    "H0: The old and new website versions are no better than each other, say for attracting traffic or clicks\n",
    "\n",
    "Ha: The new website version is better than the old, say at attracting traffic/clicks\n",
    "\n",
    "True Negative (Accept H0 and H0 is True): Accepted that the two versions of the website are no better than each other and that is true\n",
    "\n",
    "Accept H0 but H0 is false (False negative): Accepted that the two versons are no better from each other but actually the redesign (new version) is better\n",
    "\n",
    "Reject H0 but H0 is True (False positive): We rejected that the two versions are no better from each other ( so we thought the redesign is better) but actually they are no better from each other\n",
    "\n",
    "Reject H0 and H0 is False (True positive): We rejected that the two versions are no better from each other (accepted that the redesign is better) and the new version is in fact better"
   ]
  },
  {
   "cell_type": "markdown",
   "id": "3745fc3d-f213-4eec-814d-2ab1ac504859",
   "metadata": {},
   "source": [
    "##### Is our television ad driving more sales?"
   ]
  },
  {
   "cell_type": "markdown",
   "id": "08d2f8fe-814a-4d15-9e76-a65f13572bb5",
   "metadata": {},
   "source": [
    "H0: The tv ad has no effect on sales - sales are the same before and after the ad\n",
    "\n",
    "Ha: The tv ad has caused greater sales - sales are greater after the ad than before\n",
    "\n",
    "Accept H0 and H0 is True (True negative): Accepted that the tv ad has not had any effect on sales and it hasn't\n",
    "\n",
    "Accept H0 but H0 is False (False negative): Accepted that the tv ad has not had any effect on sales but it has in fact had an effect\n",
    "\n",
    "Reject H0 but H0 is True (False positive): We rejected that the tv ad is not causing sales to go up but sales are not actually going up from the ad\n",
    "\n",
    "Reject H0 and H0 is False (True positive): we rejected that the tv ad is not causing sales to go up and sales are in fact going up after all - ie the ad is causing sales to go up"
   ]
  },
  {
   "cell_type": "markdown",
   "id": "fca4e8fc-0ea0-48ac-b9de-ad85f088b003",
   "metadata": {},
   "source": [
    "### T-Test Exercises"
   ]
  },
  {
   "cell_type": "markdown",
   "id": "aadc58c6-68d8-48f8-9f67-9e903072d260",
   "metadata": {},
   "source": [
    "Ace Realty wants to determine whether the average time it takes to sell homes is different for its two offices. A sample of 40 sales from office #1 revealed a mean of 90 days and a standard deviation of 15 days. A sample of 50 sales from office #2 revealed a mean of 100 days and a standard deviation of 20 days. Use a .05 level of significance."
   ]
  },
  {
   "cell_type": "markdown",
   "id": "2289d56c-a6cd-45b3-803f-56147c7ec381",
   "metadata": {},
   "source": [
    "Use an independent t-test (2 sample)"
   ]
  },
  {
   "cell_type": "markdown",
   "id": "04d4cbb4-f4cf-4a44-a824-c1d09e0b95b4",
   "metadata": {},
   "source": [
    "Hypothesis:\n",
    "H0 = no difference in average time it takes to sell homes for different offices\n",
    "Ha = Office 2 average time < Office 1 average time to sell"
   ]
  },
  {
   "cell_type": "code",
   "execution_count": 1,
   "id": "efdaebd1-632c-4c11-a1fb-83ebdefe07aa",
   "metadata": {},
   "outputs": [],
   "source": [
    "alpha = 0.05"
   ]
  },
  {
   "cell_type": "markdown",
   "id": "b6d6ed65-ebaa-43cc-93f8-1c9c1295239c",
   "metadata": {},
   "source": [
    "Verify assumptions:\n",
    "\n",
    "    1. Independent samples: YES, two different offices\n",
    "    2. Normal distribution: YES, we're given mean and standard deviation. Also > 30 samples.\n",
    "    3. Equal variances: 225 vs 400 , not equal"
   ]
  },
  {
   "cell_type": "code",
   "execution_count": 2,
   "id": "63f071a9-93df-4738-9786-9fdbc3f700ed",
   "metadata": {},
   "outputs": [
    {
     "data": {
      "text/plain": [
       "225"
      ]
     },
     "execution_count": 2,
     "metadata": {},
     "output_type": "execute_result"
    }
   ],
   "source": [
    "15**2"
   ]
  },
  {
   "cell_type": "code",
   "execution_count": 3,
   "id": "4f0c3072-ee62-4073-b3b7-4dae080be73e",
   "metadata": {},
   "outputs": [
    {
     "data": {
      "text/plain": [
       "400"
      ]
     },
     "execution_count": 3,
     "metadata": {},
     "output_type": "execute_result"
    }
   ],
   "source": [
    "20**2"
   ]
  },
  {
   "cell_type": "markdown",
   "id": "2c438ed4-9bb8-4a29-ba3b-217e90aabe35",
   "metadata": {},
   "source": [
    "Load the mpg dataset and use it to answer the following questions:"
   ]
  },
  {
   "cell_type": "markdown",
   "id": "e1e062ee-38af-4f9c-a9a9-e07a9ba90f5e",
   "metadata": {},
   "source": []
  },
  {
   "cell_type": "markdown",
   "id": "44093603-49f4-43fe-8d2a-27c26050a3d0",
   "metadata": {},
   "source": [
    "Is there a difference in fuel-efficiency in cars from 2008 vs 1999?"
   ]
  },
  {
   "cell_type": "markdown",
   "id": "56a1340d-8eb6-4393-bc69-5a69d718fb8f",
   "metadata": {},
   "source": []
  },
  {
   "cell_type": "markdown",
   "id": "b01cb760-3b20-4800-aa5f-dbb7bc482e40",
   "metadata": {},
   "source": [
    "Are compact cars more fuel-efficient than the average car?"
   ]
  },
  {
   "cell_type": "markdown",
   "id": "d85e75e9-4a59-4ced-9c3b-c6f40f7d3940",
   "metadata": {},
   "source": []
  },
  {
   "cell_type": "markdown",
   "id": "a1c09cc0-f543-49f0-b326-bfad8da82ab3",
   "metadata": {},
   "source": [
    "Do manual cars get better gas mileage than automatic cars?"
   ]
  }
 ],
 "metadata": {
  "kernelspec": {
   "display_name": "Python 3.9.7 64-bit ('base': conda)",
   "language": "python",
   "name": "python397jvsc74a57bd038cca0c38332a56087b24af0bc80247f4fced29cb4f7f437d91dc159adec9c4e"
  },
  "language_info": {
   "codemirror_mode": {
    "name": "ipython",
    "version": 3
   },
   "file_extension": ".py",
   "mimetype": "text/x-python",
   "name": "python",
   "nbconvert_exporter": "python",
   "pygments_lexer": "ipython3",
   "version": "3.9.7"
  }
 },
 "nbformat": 4,
 "nbformat_minor": 5
}
