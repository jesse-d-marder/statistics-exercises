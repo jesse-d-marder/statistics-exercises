{
 "cells": [
  {
   "cell_type": "markdown",
   "id": "9cd48218-84a8-4434-83fa-b7dc853741d6",
   "metadata": {},
   "source": [
    "Exercises from:\n",
    "https://ds.codeup.com/stats/hypothesis-testing-overview/\n",
    "https://ds.codeup.com/stats/compare-means/"
   ]
  },
  {
   "cell_type": "markdown",
   "id": "b5afa2dd-bfde-459b-bd0e-c58cef7de5b0",
   "metadata": {},
   "source": [
    "For each of the following questions, formulate a null and alternative hypothesis (be as specific as you can be), then give an example of what a true positive, true negative, type I and type II errors would look like. Note that some of the questions are intentionally phrased in a vague way. It is your job to reword these as more precise questions that could be tested."
   ]
  },
  {
   "cell_type": "markdown",
   "id": "fcd5023f-0fd4-41e9-bd83-1340f20fa89e",
   "metadata": {},
   "source": [
    "##### Has the network latency gone up since we switched internet service providers?"
   ]
  },
  {
   "cell_type": "markdown",
   "id": "e323bc4e-8c35-4e2d-b7ed-f0889544fa1e",
   "metadata": {},
   "source": [
    "H0: Network latency has not gone up since switching internet service provers, ie the old provider was faster\n",
    "\n",
    "Ha: The new provider has resulted in network latency going up\n",
    "\n",
    "Accept H0 and H0 is true (True Negative):\n",
    "    We accepted that network latency has not gone up and indeed network latency has not gone up with the new provider\n",
    "    \n",
    "Accept H0 but H0 is false (False Negative):\n",
    "    We accepted that network latency has not gone up with the new provider but it actually has\n",
    "\n",
    "Reject H0 but H0 is true (False positive):\n",
    "    We rejected that network latency has not gone up with the new provider (ie we accepted that it has gone up with new provider) but actually latency has not gone up with the new provider.\n",
    "    \n",
    "Reject H0 and H0 is false (True Positive):\n",
    "    We rejected that network latency has not gone up with the new provider (ie we accepted that it has gone up with the new provider) and latency has indeed gone up with the new provider"
   ]
  },
  {
   "cell_type": "markdown",
   "id": "c03be596-72dd-4b55-bce4-eafa87236562",
   "metadata": {},
   "source": [
    "##### Is the website redesign any good?"
   ]
  },
  {
   "cell_type": "markdown",
   "id": "5398fec5-e7d5-4f06-914e-c77b9155038c",
   "metadata": {},
   "source": [
    "H0: The old and new website versions are no better than each other, say for attracting traffic or clicks\n",
    "\n",
    "Ha: The new website version is better than the old, say at attracting traffic/clicks\n",
    "\n",
    "True Negative (Accept H0 and H0 is True): Accepted that the two versions of the website are no better than each other and that is true\n",
    "\n",
    "Accept H0 but H0 is false (False negative): Accepted that the two versons are no better from each other but actually the redesign (new version) is better\n",
    "\n",
    "Reject H0 but H0 is True (False positive): We rejected that the two versions are no better from each other ( so we thought the redesign is better) but actually they are no better from each other\n",
    "\n",
    "Reject H0 and H0 is False (True positive): We rejected that the two versions are no better from each other (accepted that the redesign is better) and the new version is in fact better"
   ]
  },
  {
   "cell_type": "markdown",
   "id": "3745fc3d-f213-4eec-814d-2ab1ac504859",
   "metadata": {},
   "source": [
    "##### Is our television ad driving more sales?"
   ]
  },
  {
   "cell_type": "markdown",
   "id": "08d2f8fe-814a-4d15-9e76-a65f13572bb5",
   "metadata": {},
   "source": [
    "H0: The tv ad has no effect on sales - sales are the same before and after the ad\n",
    "\n",
    "Ha: The tv ad has caused greater sales - sales are greater after the ad than before\n",
    "\n",
    "Accept H0 and H0 is True (True negative): Accepted that the tv ad has not had any effect on sales and it hasn't\n",
    "\n",
    "Accept H0 but H0 is False (False negative): Accepted that the tv ad has not had any effect on sales but it has in fact had an effect\n",
    "\n",
    "Reject H0 but H0 is True (False positive): We rejected that the tv ad is not causing sales to go up but sales are not actually going up from the ad\n",
    "\n",
    "Reject H0 and H0 is False (True positive): we rejected that the tv ad is not causing sales to go up and sales are in fact going up after all - ie the ad is causing sales to go up"
   ]
  },
  {
   "cell_type": "markdown",
   "id": "fca4e8fc-0ea0-48ac-b9de-ad85f088b003",
   "metadata": {},
   "source": [
    "### T-Test Exercises"
   ]
  },
  {
   "cell_type": "code",
   "execution_count": 4,
   "id": "447a5d9f-e104-420d-be0e-1386ded62398",
   "metadata": {},
   "outputs": [],
   "source": [
    "import pandas as pd\n",
    "import scipy.stats as stats\n",
    "import numpy as np\n",
    "import seaborn as sns\n",
    "from env import get_db_url\n",
    "import matplotlib.pyplot as plt\n",
    "from pydataset import data"
   ]
  },
  {
   "cell_type": "markdown",
   "id": "aadc58c6-68d8-48f8-9f67-9e903072d260",
   "metadata": {},
   "source": [
    "1. Ace Realty wants to determine whether the average time it takes to sell homes is different for its two offices. A sample of 40 sales from office #1 revealed a mean of 90 days and a standard deviation of 15 days. A sample of 50 sales from office #2 revealed a mean of 100 days and a standard deviation of 20 days. Use a .05 level of significance."
   ]
  },
  {
   "cell_type": "markdown",
   "id": "aba0cae8-b8dd-4a49-b4db-471c6cb1e5fc",
   "metadata": {},
   "source": [
    "#### Use an independent t-test (2 sample), 2 tail\n",
    "\n",
    "Is office 2's selling time significantly different than office 1's? <br>\n",
    "$H_0$: sell time for office 2 is equal to office 1's <br>\n",
    "$H_a$: sell time for office 2 is different from office 1's"
   ]
  },
  {
   "cell_type": "code",
   "execution_count": 5,
   "id": "efdaebd1-632c-4c11-a1fb-83ebdefe07aa",
   "metadata": {},
   "outputs": [],
   "source": [
    "alpha = 0.05\n"
   ]
  },
  {
   "cell_type": "markdown",
   "id": "b6d6ed65-ebaa-43cc-93f8-1c9c1295239c",
   "metadata": {},
   "source": [
    "Verify assumptions:\n",
    "\n",
    "    1. Independent samples: YES, two different offices\n",
    "    2. Normal distribution: Not sure but there's a ttest_ind_from_stats\n",
    "    3. Equal variances: not equal"
   ]
  },
  {
   "cell_type": "code",
   "execution_count": 6,
   "id": "7c2d19a9-d846-4642-bd77-da60129b352f",
   "metadata": {},
   "outputs": [
    {
     "data": {
      "text/plain": [
       "(-2.7091418459143854, 0.00811206270346016)"
      ]
     },
     "execution_count": 6,
     "metadata": {},
     "output_type": "execute_result"
    }
   ],
   "source": [
    "t, p = stats.ttest_ind_from_stats(90,15,40,100,20,50, equal_var=False)\n",
    "t, p"
   ]
  },
  {
   "cell_type": "code",
   "execution_count": 7,
   "id": "1dce4604-326d-4764-8017-32f6cb5a74fc",
   "metadata": {},
   "outputs": [
    {
     "name": "stdout",
     "output_type": "stream",
     "text": [
      "The t-statistic for the two sample t-test comparing office 1 and office 2 selling time is -2.709.\n",
      "Our p-value is 0.008.\n",
      "This means there is about a 0.81% chance that we observe the data we have.\n",
      "Our p-value is less than our alpha (0.05): True\n",
      "Therefore we can reject the null hypothesis and conclude the two offices have significantly different average selling times\n"
     ]
    }
   ],
   "source": [
    "print(f'The t-statistic for the two sample t-test comparing office 1 and office 2 selling time is {round(t,3)}.')\n",
    "print(f'Our p-value is {round(p, 3)}.')\n",
    "print(f'This means there is about a {round(p * 100, 2)}% chance that we observe the data we have.')\n",
    "print(f'Our p-value is less than our alpha ({alpha}): {p < alpha}')\n",
    "if p<alpha:\n",
    "    print('Therefore we can reject the null hypothesis and conclude the two offices have significantly different average selling times')\n",
    "else:\n",
    "    print('No significant difference between offices')"
   ]
  },
  {
   "cell_type": "markdown",
   "id": "2c438ed4-9bb8-4a29-ba3b-217e90aabe35",
   "metadata": {},
   "source": [
    "## Load the mpg dataset and use it to answer the following questions:"
   ]
  },
  {
   "cell_type": "code",
   "execution_count": 8,
   "id": "9e68df23-0b7e-423f-bde8-009582317566",
   "metadata": {},
   "outputs": [],
   "source": [
    "mpg = data('mpg')"
   ]
  },
  {
   "cell_type": "code",
   "execution_count": 9,
   "id": "20f36801-3005-46b7-bfad-4c6a67527785",
   "metadata": {},
   "outputs": [],
   "source": [
    "mpg = mpg.assign(avg_mpg = lambda avg: (mpg.cty+mpg.hwy)/2)\n",
    "\n",
    "# Can use harmonic mean when talking about average of different rates\n",
    "mpg['hmpg'] = stats.hmean(mpg[['cty','hwy']],axis=1)"
   ]
  },
  {
   "cell_type": "code",
   "execution_count": 10,
   "id": "d86f1714-4c16-4964-84bf-26c3caf9d4d0",
   "metadata": {},
   "outputs": [
    {
     "data": {
      "text/html": [
       "<div>\n",
       "<style scoped>\n",
       "    .dataframe tbody tr th:only-of-type {\n",
       "        vertical-align: middle;\n",
       "    }\n",
       "\n",
       "    .dataframe tbody tr th {\n",
       "        vertical-align: top;\n",
       "    }\n",
       "\n",
       "    .dataframe thead th {\n",
       "        text-align: right;\n",
       "    }\n",
       "</style>\n",
       "<table border=\"1\" class=\"dataframe\">\n",
       "  <thead>\n",
       "    <tr style=\"text-align: right;\">\n",
       "      <th></th>\n",
       "      <th>manufacturer</th>\n",
       "      <th>model</th>\n",
       "      <th>displ</th>\n",
       "      <th>year</th>\n",
       "      <th>cyl</th>\n",
       "      <th>trans</th>\n",
       "      <th>drv</th>\n",
       "      <th>cty</th>\n",
       "      <th>hwy</th>\n",
       "      <th>fl</th>\n",
       "      <th>class</th>\n",
       "      <th>avg_mpg</th>\n",
       "      <th>hmpg</th>\n",
       "    </tr>\n",
       "  </thead>\n",
       "  <tbody>\n",
       "    <tr>\n",
       "      <th>1</th>\n",
       "      <td>audi</td>\n",
       "      <td>a4</td>\n",
       "      <td>1.8</td>\n",
       "      <td>1999</td>\n",
       "      <td>4</td>\n",
       "      <td>auto(l5)</td>\n",
       "      <td>f</td>\n",
       "      <td>18</td>\n",
       "      <td>29</td>\n",
       "      <td>p</td>\n",
       "      <td>compact</td>\n",
       "      <td>23.5</td>\n",
       "      <td>22.212766</td>\n",
       "    </tr>\n",
       "    <tr>\n",
       "      <th>2</th>\n",
       "      <td>audi</td>\n",
       "      <td>a4</td>\n",
       "      <td>1.8</td>\n",
       "      <td>1999</td>\n",
       "      <td>4</td>\n",
       "      <td>manual(m5)</td>\n",
       "      <td>f</td>\n",
       "      <td>21</td>\n",
       "      <td>29</td>\n",
       "      <td>p</td>\n",
       "      <td>compact</td>\n",
       "      <td>25.0</td>\n",
       "      <td>24.360000</td>\n",
       "    </tr>\n",
       "    <tr>\n",
       "      <th>3</th>\n",
       "      <td>audi</td>\n",
       "      <td>a4</td>\n",
       "      <td>2.0</td>\n",
       "      <td>2008</td>\n",
       "      <td>4</td>\n",
       "      <td>manual(m6)</td>\n",
       "      <td>f</td>\n",
       "      <td>20</td>\n",
       "      <td>31</td>\n",
       "      <td>p</td>\n",
       "      <td>compact</td>\n",
       "      <td>25.5</td>\n",
       "      <td>24.313725</td>\n",
       "    </tr>\n",
       "    <tr>\n",
       "      <th>4</th>\n",
       "      <td>audi</td>\n",
       "      <td>a4</td>\n",
       "      <td>2.0</td>\n",
       "      <td>2008</td>\n",
       "      <td>4</td>\n",
       "      <td>auto(av)</td>\n",
       "      <td>f</td>\n",
       "      <td>21</td>\n",
       "      <td>30</td>\n",
       "      <td>p</td>\n",
       "      <td>compact</td>\n",
       "      <td>25.5</td>\n",
       "      <td>24.705882</td>\n",
       "    </tr>\n",
       "    <tr>\n",
       "      <th>5</th>\n",
       "      <td>audi</td>\n",
       "      <td>a4</td>\n",
       "      <td>2.8</td>\n",
       "      <td>1999</td>\n",
       "      <td>6</td>\n",
       "      <td>auto(l5)</td>\n",
       "      <td>f</td>\n",
       "      <td>16</td>\n",
       "      <td>26</td>\n",
       "      <td>p</td>\n",
       "      <td>compact</td>\n",
       "      <td>21.0</td>\n",
       "      <td>19.809524</td>\n",
       "    </tr>\n",
       "    <tr>\n",
       "      <th>...</th>\n",
       "      <td>...</td>\n",
       "      <td>...</td>\n",
       "      <td>...</td>\n",
       "      <td>...</td>\n",
       "      <td>...</td>\n",
       "      <td>...</td>\n",
       "      <td>...</td>\n",
       "      <td>...</td>\n",
       "      <td>...</td>\n",
       "      <td>...</td>\n",
       "      <td>...</td>\n",
       "      <td>...</td>\n",
       "      <td>...</td>\n",
       "    </tr>\n",
       "    <tr>\n",
       "      <th>230</th>\n",
       "      <td>volkswagen</td>\n",
       "      <td>passat</td>\n",
       "      <td>2.0</td>\n",
       "      <td>2008</td>\n",
       "      <td>4</td>\n",
       "      <td>auto(s6)</td>\n",
       "      <td>f</td>\n",
       "      <td>19</td>\n",
       "      <td>28</td>\n",
       "      <td>p</td>\n",
       "      <td>midsize</td>\n",
       "      <td>23.5</td>\n",
       "      <td>22.638298</td>\n",
       "    </tr>\n",
       "    <tr>\n",
       "      <th>231</th>\n",
       "      <td>volkswagen</td>\n",
       "      <td>passat</td>\n",
       "      <td>2.0</td>\n",
       "      <td>2008</td>\n",
       "      <td>4</td>\n",
       "      <td>manual(m6)</td>\n",
       "      <td>f</td>\n",
       "      <td>21</td>\n",
       "      <td>29</td>\n",
       "      <td>p</td>\n",
       "      <td>midsize</td>\n",
       "      <td>25.0</td>\n",
       "      <td>24.360000</td>\n",
       "    </tr>\n",
       "    <tr>\n",
       "      <th>232</th>\n",
       "      <td>volkswagen</td>\n",
       "      <td>passat</td>\n",
       "      <td>2.8</td>\n",
       "      <td>1999</td>\n",
       "      <td>6</td>\n",
       "      <td>auto(l5)</td>\n",
       "      <td>f</td>\n",
       "      <td>16</td>\n",
       "      <td>26</td>\n",
       "      <td>p</td>\n",
       "      <td>midsize</td>\n",
       "      <td>21.0</td>\n",
       "      <td>19.809524</td>\n",
       "    </tr>\n",
       "    <tr>\n",
       "      <th>233</th>\n",
       "      <td>volkswagen</td>\n",
       "      <td>passat</td>\n",
       "      <td>2.8</td>\n",
       "      <td>1999</td>\n",
       "      <td>6</td>\n",
       "      <td>manual(m5)</td>\n",
       "      <td>f</td>\n",
       "      <td>18</td>\n",
       "      <td>26</td>\n",
       "      <td>p</td>\n",
       "      <td>midsize</td>\n",
       "      <td>22.0</td>\n",
       "      <td>21.272727</td>\n",
       "    </tr>\n",
       "    <tr>\n",
       "      <th>234</th>\n",
       "      <td>volkswagen</td>\n",
       "      <td>passat</td>\n",
       "      <td>3.6</td>\n",
       "      <td>2008</td>\n",
       "      <td>6</td>\n",
       "      <td>auto(s6)</td>\n",
       "      <td>f</td>\n",
       "      <td>17</td>\n",
       "      <td>26</td>\n",
       "      <td>p</td>\n",
       "      <td>midsize</td>\n",
       "      <td>21.5</td>\n",
       "      <td>20.558140</td>\n",
       "    </tr>\n",
       "  </tbody>\n",
       "</table>\n",
       "<p>234 rows × 13 columns</p>\n",
       "</div>"
      ],
      "text/plain": [
       "    manufacturer   model  displ  year  cyl       trans drv  cty  hwy fl  \\\n",
       "1           audi      a4    1.8  1999    4    auto(l5)   f   18   29  p   \n",
       "2           audi      a4    1.8  1999    4  manual(m5)   f   21   29  p   \n",
       "3           audi      a4    2.0  2008    4  manual(m6)   f   20   31  p   \n",
       "4           audi      a4    2.0  2008    4    auto(av)   f   21   30  p   \n",
       "5           audi      a4    2.8  1999    6    auto(l5)   f   16   26  p   \n",
       "..           ...     ...    ...   ...  ...         ...  ..  ...  ... ..   \n",
       "230   volkswagen  passat    2.0  2008    4    auto(s6)   f   19   28  p   \n",
       "231   volkswagen  passat    2.0  2008    4  manual(m6)   f   21   29  p   \n",
       "232   volkswagen  passat    2.8  1999    6    auto(l5)   f   16   26  p   \n",
       "233   volkswagen  passat    2.8  1999    6  manual(m5)   f   18   26  p   \n",
       "234   volkswagen  passat    3.6  2008    6    auto(s6)   f   17   26  p   \n",
       "\n",
       "       class  avg_mpg       hmpg  \n",
       "1    compact     23.5  22.212766  \n",
       "2    compact     25.0  24.360000  \n",
       "3    compact     25.5  24.313725  \n",
       "4    compact     25.5  24.705882  \n",
       "5    compact     21.0  19.809524  \n",
       "..       ...      ...        ...  \n",
       "230  midsize     23.5  22.638298  \n",
       "231  midsize     25.0  24.360000  \n",
       "232  midsize     21.0  19.809524  \n",
       "233  midsize     22.0  21.272727  \n",
       "234  midsize     21.5  20.558140  \n",
       "\n",
       "[234 rows x 13 columns]"
      ]
     },
     "execution_count": 10,
     "metadata": {},
     "output_type": "execute_result"
    }
   ],
   "source": [
    "mpg"
   ]
  },
  {
   "cell_type": "markdown",
   "id": "44093603-49f4-43fe-8d2a-27c26050a3d0",
   "metadata": {},
   "source": [
    "### Is there a difference in fuel-efficiency in cars from 2008 vs 1999?"
   ]
  },
  {
   "cell_type": "markdown",
   "id": "a5e30836-84d3-49d1-9c7a-6d5dc951e2b6",
   "metadata": {},
   "source": [
    "Use an independent t-test (2 sample)\n",
    "\n",
    "$H_0$: mpg is the same between 2008 and 1999 <br>\n",
    "$H_a$: mpg is not the same between 2008 and 1999"
   ]
  },
  {
   "cell_type": "code",
   "execution_count": 11,
   "id": "433d0aed-ef33-4cb9-a2a2-85e15a6a82cc",
   "metadata": {},
   "outputs": [],
   "source": [
    "alpha = 0.05"
   ]
  },
  {
   "cell_type": "code",
   "execution_count": 12,
   "id": "82effeae-b8a2-44f5-b31f-bf4445be8153",
   "metadata": {},
   "outputs": [],
   "source": [
    "fe_2008 = mpg[mpg.year == 2008].avg_mpg\n",
    "fe_1999 = mpg[mpg.year == 1999].avg_mpg"
   ]
  },
  {
   "cell_type": "code",
   "execution_count": 13,
   "id": "d223b14b-de6c-44dd-9c5b-157192e9a0c8",
   "metadata": {},
   "outputs": [
    {
     "name": "stdout",
     "output_type": "stream",
     "text": [
      "Median: 20.5\n",
      "Mean: 20.076923076923077\n"
     ]
    },
    {
     "data": {
      "image/png": "[encoded data removed]",
      "text/plain": [
       "<Figure size 432x288 with 1 Axes>"
      ]
     },
     "metadata": {
      "needs_background": "light"
     },
     "output_type": "display_data"
    }
   ],
   "source": [
    "fe_2008.hist()\n",
    "print(f\"Median: {fe_2008.median()}\")\n",
    "print(f\"Mean: {fe_2008.mean()}\")"
   ]
  },
  {
   "cell_type": "code",
   "execution_count": 14,
   "id": "6e68c1d5-3148-4588-a037-858ea9aa23c3",
   "metadata": {},
   "outputs": [
    {
     "name": "stdout",
     "output_type": "stream",
     "text": [
      "Median: 21.0\n",
      "Mean: 20.22222222222222\n"
     ]
    },
    {
     "data": {
      "image/png": "[encoded data removed]",
      "text/plain": [
       "<Figure size 432x288 with 1 Axes>"
      ]
     },
     "metadata": {
      "needs_background": "light"
     },
     "output_type": "display_data"
    }
   ],
   "source": [
    "fe_1999.hist()\n",
    "print(f\"Median: {fe_1999.median()}\")\n",
    "print(f\"Mean: {fe_1999.mean()}\")"
   ]
  },
  {
   "cell_type": "markdown",
   "id": "b3d53850-b80b-4fa2-b4a9-e61c4912f3d4",
   "metadata": {},
   "source": [
    "Assumptions:\n",
    "\n",
    "    1. Normal: YES\n",
    "    2. Independent: YES\n",
    "    3. Variance: Close"
   ]
  },
  {
   "cell_type": "code",
   "execution_count": 15,
   "id": "3f35eadd-96bc-4fba-b236-34543ea18a53",
   "metadata": {},
   "outputs": [
    {
     "data": {
      "text/plain": [
       "27.122605363984682"
      ]
     },
     "execution_count": 15,
     "metadata": {},
     "output_type": "execute_result"
    }
   ],
   "source": [
    "fe_1999.var()"
   ]
  },
  {
   "cell_type": "code",
   "execution_count": 16,
   "id": "2fc101c2-eac2-4f8b-98f0-4f8164b4cd94",
   "metadata": {},
   "outputs": [
    {
     "data": {
      "text/plain": [
       "24.097480106100797"
      ]
     },
     "execution_count": 16,
     "metadata": {},
     "output_type": "execute_result"
    }
   ],
   "source": [
    "fe_2008.var()"
   ]
  },
  {
   "cell_type": "code",
   "execution_count": 17,
   "id": "83982d4b-4c6b-487b-9980-d19d4e2f1962",
   "metadata": {},
   "outputs": [
    {
     "data": {
      "text/plain": [
       "(0.21960177245940962, 0.8263744040323578)"
      ]
     },
     "execution_count": 17,
     "metadata": {},
     "output_type": "execute_result"
    }
   ],
   "source": [
    "t, p = stats.ttest_ind(fe_1999, fe_2008, equal_var = True)\n",
    "t, p"
   ]
  },
  {
   "cell_type": "code",
   "execution_count": 18,
   "id": "5e3fba96-1fd3-4871-99f6-495fc9fb8a11",
   "metadata": {},
   "outputs": [
    {
     "name": "stdout",
     "output_type": "stream",
     "text": [
      "Fail to reject - no difference in mpg\n"
     ]
    }
   ],
   "source": [
    "if p < alpha:\n",
    "    print(\"Reject the null - there is a difference in mpg\")\n",
    "else:\n",
    "    print(\"Fail to reject - no difference in mpg\")\n"
   ]
  },
  {
   "cell_type": "markdown",
   "id": "b01cb760-3b20-4800-aa5f-dbb7bc482e40",
   "metadata": {},
   "source": [
    "### Are compact cars more fuel-efficient than the average car?"
   ]
  },
  {
   "cell_type": "code",
   "execution_count": 19,
   "id": "222abe35-b026-47fa-a940-3b2a772b0e76",
   "metadata": {},
   "outputs": [
    {
     "data": {
      "text/plain": [
       "Index(['manufacturer', 'model', 'displ', 'year', 'cyl', 'trans', 'drv', 'cty',\n",
       "       'hwy', 'fl', 'class', 'avg_mpg', 'hmpg'],\n",
       "      dtype='object')"
      ]
     },
     "execution_count": 19,
     "metadata": {},
     "output_type": "execute_result"
    }
   ],
   "source": [
    "mpg.columns"
   ]
  },
  {
   "cell_type": "markdown",
   "id": "b0c85097-4834-4cfd-b652-7bd1293285ce",
   "metadata": {},
   "source": [
    "Comparing observed mean to the theoretic one - one sample t test. A one-tailed test looks for a specific difference: appropriate if I only want to determine if there is a difference between groups in a specific direction, positive only or negative only. Here I'm looking for whether subset mean (compact) is greater than overall mean, so evaluate p/2 < a and t > 0"
   ]
  },
  {
   "cell_type": "markdown",
   "id": "0dc871c8-eee7-4502-9604-472335b8cc93",
   "metadata": {},
   "source": [
    "$H_0$: compact cars are no different in fuel efficiency as the average <br>\n",
    "$H_a$: compact cars are more efficient than the average car"
   ]
  },
  {
   "cell_type": "markdown",
   "id": "749d3e3a-83ed-4969-9d4b-ac2e3afb9c36",
   "metadata": {},
   "source": [
    "Assumptions:\n",
    "\n",
    "    1. Normal: YES\n",
    "    2. Independent: YES, or are they? Compact cars are subset of all\n",
    "    3. Variance: Quite different"
   ]
  },
  {
   "cell_type": "code",
   "execution_count": 20,
   "id": "d9e00658-e1d3-4636-934a-e5cd50a6eb3c",
   "metadata": {},
   "outputs": [],
   "source": [
    "compact = mpg[mpg['class'] == 'compact'].avg_mpg\n",
    "\n",
    "# Should use harmonic mean to be more accurate"
   ]
  },
  {
   "cell_type": "code",
   "execution_count": 21,
   "id": "05287c57-93b7-4a34-a411-df131dfacce6",
   "metadata": {},
   "outputs": [
    {
     "data": {
      "text/plain": [
       "12.442876965772433"
      ]
     },
     "execution_count": 21,
     "metadata": {},
     "output_type": "execute_result"
    }
   ],
   "source": [
    "compact.var()"
   ]
  },
  {
   "cell_type": "code",
   "execution_count": 22,
   "id": "a8267699-a4a7-4d14-9e11-2385c2dfdd62",
   "metadata": {},
   "outputs": [
    {
     "data": {
      "text/plain": [
       "25.50542900113715"
      ]
     },
     "execution_count": 22,
     "metadata": {},
     "output_type": "execute_result"
    }
   ],
   "source": [
    "mpg.avg_mpg.var()"
   ]
  },
  {
   "cell_type": "code",
   "execution_count": 23,
   "id": "e867259d-f33c-4c98-abfe-374941657756",
   "metadata": {},
   "outputs": [],
   "source": [
    "t, p = stats.ttest_1samp(compact, mpg.avg_mpg.mean())"
   ]
  },
  {
   "cell_type": "code",
   "execution_count": 24,
   "id": "a95e4194-0bff-47c4-8650-c3e38bea54df",
   "metadata": {},
   "outputs": [
    {
     "name": "stdout",
     "output_type": "stream",
     "text": [
      "The t-statistic for the one sample t-test comparing compact car mpg to overall mpg is 7.897.\n",
      "The t-statistic is greater than 0: True.\n",
      "Our p-value/2 is 2.0992818971585668e-10.\n",
      "Our p-value/2 is less than our alpha (0.05): True\n",
      "We reject $H_0$ - compact cars are more efficient than average car\n"
     ]
    }
   ],
   "source": [
    "print(f'The t-statistic for the one sample t-test comparing compact car mpg to overall mpg is {round(t,3)}.')\n",
    "print(f'The t-statistic is greater than 0: {round(t,3)>0}.')\n",
    "print(f'Our p-value/2 is {p/2}.')\n",
    "print(f'Our p-value/2 is less than our alpha ({alpha}): {p/2 < alpha}')\n",
    "if (p/2 < alpha) and (t>0):\n",
    "    print(f\"We reject $H_{0}$ - compact cars are more efficient than average car\")\n",
    "else:\n",
    "    print(f\"We fail to reject \\$H_{0}$- compact cars are not different in efficiency from the average car\")\n"
   ]
  },
  {
   "cell_type": "markdown",
   "id": "a1c09cc0-f543-49f0-b326-bfad8da82ab3",
   "metadata": {},
   "source": [
    "### Do manual cars get better gas mileage than automatic cars?"
   ]
  },
  {
   "cell_type": "markdown",
   "id": "b87e2249-da71-44fa-890d-0a92863e321b",
   "metadata": {},
   "source": [
    "This is comparing the means of two different groups - independent t-test, 1 tail, significantly larger"
   ]
  },
  {
   "cell_type": "code",
   "execution_count": 25,
   "id": "658856ca-d2fd-4584-a7f7-b11f1c888850",
   "metadata": {},
   "outputs": [],
   "source": [
    "manual = mpg[mpg.trans.str.contains('manual')].avg_mpg\n",
    "automatic = mpg[mpg.trans.str.contains('auto')].avg_mpg"
   ]
  },
  {
   "cell_type": "markdown",
   "id": "fc858bf8-73ab-428f-8a5e-5229f16d8eaa",
   "metadata": {},
   "source": [
    "H0 = gas mileage is the same between manual and automatic cars <br>\n",
    "Ha = manual cars get better gas mileage than automatic cars"
   ]
  },
  {
   "cell_type": "code",
   "execution_count": 26,
   "id": "2c070a49-ab98-409e-9ca7-27019082dab0",
   "metadata": {},
   "outputs": [
    {
     "name": "stdout",
     "output_type": "stream",
     "text": [
      "Manual var: 26.635167464114826, median: 22.0, mean: 22.227272727272727\n"
     ]
    },
    {
     "data": {
      "image/png": "[encoded data removed]",
      "text/plain": [
       "<Figure size 432x288 with 1 Axes>"
      ]
     },
     "metadata": {
      "needs_background": "light"
     },
     "output_type": "display_data"
    }
   ],
   "source": [
    "manual.hist()\n",
    "print(f\"Manual var: {manual.var()}, median: {manual.median()}, mean: {manual.mean()}\")"
   ]
  },
  {
   "cell_type": "code",
   "execution_count": 27,
   "id": "55c412b6-191d-4494-9471-694766780199",
   "metadata": {},
   "outputs": [
    {
     "name": "stdout",
     "output_type": "stream",
     "text": [
      "Automatic var: 21.942777233382337, median: 19.0, mean: 19.130573248407643\n"
     ]
    },
    {
     "data": {
      "image/png": "[encoded data removed]",
      "text/plain": [
       "<Figure size 432x288 with 1 Axes>"
      ]
     },
     "metadata": {
      "needs_background": "light"
     },
     "output_type": "display_data"
    }
   ],
   "source": [
    "automatic.hist()\n",
    "print(f\"Automatic var: {automatic.var()}, median: {automatic.median()}, mean: {automatic.mean()}\")"
   ]
  },
  {
   "cell_type": "code",
   "execution_count": 28,
   "id": "84ea0f80-1092-4d0b-a5e2-6eff3695bea5",
   "metadata": {},
   "outputs": [
    {
     "data": {
      "text/plain": [
       "(0.20075824847529639, 0.6545276355131857)"
      ]
     },
     "execution_count": 28,
     "metadata": {},
     "output_type": "execute_result"
    }
   ],
   "source": [
    "tlev, plev = stats.levene(manual, automatic)\n",
    "tlev, plev"
   ]
  },
  {
   "cell_type": "code",
   "execution_count": 29,
   "id": "2e318166-1471-4b16-85d7-162e1439e058",
   "metadata": {},
   "outputs": [
    {
     "name": "stdout",
     "output_type": "stream",
     "text": [
      "Variances equal\n"
     ]
    }
   ],
   "source": [
    "if plev < 0.05:\n",
    "    print(\"Variances not equal\")\n",
    "else:\n",
    "    print(\"Variances equal\")"
   ]
  },
  {
   "cell_type": "markdown",
   "id": "75716b2e-d050-43c5-a791-223cd3e89568",
   "metadata": {},
   "source": [
    "Assumptions:\n",
    "\n",
    "    1. Normal: YES\n",
    "    2. Independent: YES\n",
    "    3. Variance: similar enough based on levene"
   ]
  },
  {
   "cell_type": "code",
   "execution_count": 30,
   "id": "3f68ae56-eedb-4558-97c6-965a9f9b01b8",
   "metadata": {},
   "outputs": [
    {
     "data": {
      "text/plain": [
       "(4.593437735750014, 3.5771872005728416e-06)"
      ]
     },
     "execution_count": 30,
     "metadata": {},
     "output_type": "execute_result"
    }
   ],
   "source": [
    "t, p = stats.ttest_ind(manual, automatic, equal_var=True)\n",
    "\n",
    "t, p/2"
   ]
  },
  {
   "cell_type": "code",
   "execution_count": 31,
   "id": "288b04a1-e3b4-453a-ba6c-ac17ec670c05",
   "metadata": {},
   "outputs": [
    {
     "name": "stdout",
     "output_type": "stream",
     "text": [
      "is p/2 < alpha?  True\n",
      "is t > 0?  True\n",
      "We reject H0 - manual cars have higher mpg than automatic\n"
     ]
    }
   ],
   "source": [
    "print(\"is p/2 < alpha? \", p / 2 < alpha)\n",
    "print(\"is t > 0? \", t > 0)\n",
    "if p / 2 > alpha:\n",
    "    print(\"We fail to reject $H_{0}$\")\n",
    "elif t < 0:\n",
    "    print(\"We fail to reject $H_{0}$\")\n",
    "elif (p / 2 < alpha) and (t>0):\n",
    "    print(\"We reject H0 - manual cars have higher mpg than automatic\")\n",
    "else:\n",
    "    print(\"We reject $H_{0}$\")\n"
   ]
  },
  {
   "cell_type": "markdown",
   "id": "4e507a13-193a-4c9a-8b0b-4a0163f2744d",
   "metadata": {},
   "source": [
    "# Correlation Exercises"
   ]
  },
  {
   "cell_type": "code",
   "execution_count": 117,
   "id": "130a5ea0-1cee-40d2-96ba-60d6833d0acf",
   "metadata": {},
   "outputs": [],
   "source": [
    "def how_correlated(r):\n",
    "    \"\"\"Utility function to output a qualitative measure of correlation based on r value\"\"\"\n",
    "    if abs(r)<0.2:\n",
    "        return \"No correlation\"\n",
    "    elif abs(r)<0.5:\n",
    "        return \"Weak correlation\"\n",
    "    elif abs(r)<0.75:\n",
    "        return \"Moderate correlation\"\n",
    "    else:\n",
    "        return \"Strong correlation\""
   ]
  },
  {
   "cell_type": "markdown",
   "id": "68be237e-90f6-4ca4-80fe-c6d3c48e7577",
   "metadata": {},
   "source": [
    "### 1. Telco Churn: \n",
    "#### Does tenure correlate with monthly charges?"
   ]
  },
  {
   "cell_type": "code",
   "execution_count": 33,
   "id": "f5e32f10-9bda-44a1-9e8d-a87adb9b28d6",
   "metadata": {},
   "outputs": [],
   "source": [
    "# Read the csv file\n",
    "df = pd.read_csv('Cust_Churn_Telco - Cust_Churn_Telco.csv')"
   ]
  },
  {
   "cell_type": "code",
   "execution_count": 34,
   "id": "7e54469a-fb91-4f95-a839-5318fbaada78",
   "metadata": {},
   "outputs": [
    {
     "data": {
      "text/plain": [
       "<AxesSubplot:xlabel='MonthlyCharges', ylabel='tenure'>"
      ]
     },
     "execution_count": 34,
     "metadata": {},
     "output_type": "execute_result"
    },
    {
     "data": {
      "image/png": "[encoded data removed]",
      "text/plain": [
       "<Figure size 432x288 with 1 Axes>"
      ]
     },
     "metadata": {
      "needs_background": "light"
     },
     "output_type": "display_data"
    }
   ],
   "source": [
    "df.plot.scatter(y='tenure', x='MonthlyCharges')"
   ]
  },
  {
   "cell_type": "markdown",
   "id": "bf837ea8-c655-474f-a95d-b87b49f27217",
   "metadata": {},
   "source": [
    "$H_0$: there is no linear relationship between tenure and monthly charges <br>\n",
    "$H_a$: there is a linear relationship between tenure and monthly charges"
   ]
  },
  {
   "cell_type": "code",
   "execution_count": 84,
   "id": "d0426481-20ae-4931-9e5c-90ff4b677e0a",
   "metadata": {},
   "outputs": [
    {
     "name": "stdout",
     "output_type": "stream",
     "text": [
      "r:  0.2478998562861525 p:  4.094044991483017e-99\n",
      "Weak correlation\n",
      "Reject the null hypothesis that there is no linear relationship between tenure and monthly charges. \n"
     ]
    }
   ],
   "source": [
    "corr, p = stats.pearsonr(df.tenure, df.MonthlyCharges)\n",
    "print(\"r: \",corr,\"p: \", p)\n",
    "print(how_correlated(corr))\n",
    "if p < alpha:\n",
    "    print(\"Reject the null hypothesis that there is no linear relationship between tenure and monthly charges. \")\n",
    "else:\n",
    "    print(\"Fail to reject null\")"
   ]
  },
  {
   "cell_type": "markdown",
   "id": "aefa67a8-d50d-4c2e-83d0-fe9a94cb1e6c",
   "metadata": {},
   "source": [
    "#### Total charges? "
   ]
  },
  {
   "cell_type": "code",
   "execution_count": 85,
   "id": "a435e97c-9bca-49ea-b648-5abf35f79442",
   "metadata": {},
   "outputs": [],
   "source": [
    "# Deal with the nulls for cases where tenure is 0 months and total charges is 0. Sets total charges to monthly charge. Perhaps should just drop the null rows. \n",
    "# Doesn't make a real difference though given the tiny percentage of rows containing nulls.\n",
    "df.TotalCharges = np.where(df.TotalCharges.isna(), df.MonthlyCharges, df.TotalCharges)"
   ]
  },
  {
   "cell_type": "code",
   "execution_count": 86,
   "id": "23450646-9978-4458-9858-b7681ffcb6d8",
   "metadata": {},
   "outputs": [
    {
     "data": {
      "text/plain": [
       "<AxesSubplot:xlabel='tenure', ylabel='TotalCharges'>"
      ]
     },
     "execution_count": 86,
     "metadata": {},
     "output_type": "execute_result"
    },
    {
     "data": {
      "image/png": "[encoded data removed]",
      "text/plain": [
       "<Figure size 432x288 with 1 Axes>"
      ]
     },
     "metadata": {
      "needs_background": "light"
     },
     "output_type": "display_data"
    }
   ],
   "source": [
    "df.plot.scatter(x='tenure', y='TotalCharges')"
   ]
  },
  {
   "cell_type": "code",
   "execution_count": 87,
   "id": "42dd67c6-fd59-4a08-bbf2-d81e95c1669d",
   "metadata": {},
   "outputs": [
    {
     "name": "stdout",
     "output_type": "stream",
     "text": [
      "0.8261642132368029 p:  0.0\n",
      "Strong correlation\n",
      "Reject the null hypothesis that there is no linear relationship between tenure and total charges\n"
     ]
    }
   ],
   "source": [
    "corr, p = stats.pearsonr(df.tenure, df.TotalCharges)\n",
    "print(corr,\"p: \", p)\n",
    "print(how_correlated(corr))\n",
    "if p < alpha:\n",
    "    print(\"Reject the null hypothesis that there is no linear relationship between tenure and total charges\")\n",
    "else:\n",
    "    print(\"Fail to reject null\")"
   ]
  },
  {
   "cell_type": "markdown",
   "id": "4b4f34a4-d85d-4c1e-9c62-300e1ac3dd4e",
   "metadata": {},
   "source": [
    "### What happens if you control for phone and internet service?"
   ]
  },
  {
   "cell_type": "code",
   "execution_count": 105,
   "id": "482749fa-8ba6-4c33-9bee-7075c4d65ad7",
   "metadata": {},
   "outputs": [],
   "source": [
    "r_values = {}"
   ]
  },
  {
   "cell_type": "code",
   "execution_count": 106,
   "id": "3f12e599-a6fe-48c7-aa60-8301044a41b4",
   "metadata": {},
   "outputs": [
    {
     "name": "stdout",
     "output_type": "stream",
     "text": [
      "\n",
      "With internet service: DSL\n",
      "With phone service: No\n",
      "0.9535382000965719 p:  0.0\n",
      "Strong correlation\n",
      "Reject the null hypothesis that there is no linear relationship between tenure and total charges\n",
      "------\n",
      "\n",
      "With internet service: DSL\n",
      "With phone service: Yes\n",
      "0.9705805668734967 p:  0.0\n",
      "Strong correlation\n",
      "Reject the null hypothesis that there is no linear relationship between tenure and total charges\n",
      "------\n",
      "\n",
      "With internet service: Fiber optic\n",
      "With phone service: No\n",
      "No values with phone service = No and internet service = Fiber optic\n",
      "------\n",
      "\n",
      "With internet service: Fiber optic\n",
      "With phone service: Yes\n",
      "0.9853093528070647 p:  0.0\n",
      "Strong correlation\n",
      "Reject the null hypothesis that there is no linear relationship between tenure and total charges\n",
      "------\n",
      "\n",
      "With internet service: No\n",
      "With phone service: No\n",
      "No values with phone service = No and internet service = No\n",
      "------\n",
      "\n",
      "With internet service: No\n",
      "With phone service: Yes\n",
      "0.9815510648755311 p:  0.0\n",
      "Strong correlation\n",
      "Reject the null hypothesis that there is no linear relationship between tenure and total charges\n",
      "------\n"
     ]
    }
   ],
   "source": [
    "# Phone service - there are yes and no values\n",
    "for internet in df.InternetService.unique():\n",
    "    for phone in df.PhoneService.unique():\n",
    "        print(f\"\\nWith internet service: {internet}\")\n",
    "        print(f\"With phone service: {phone}\")\n",
    "\n",
    "        iteration = df[(df.PhoneService == phone) & (df.InternetService == internet)]\n",
    "        \n",
    "        if len(iteration)>0:\n",
    "            corr, p = stats.pearsonr(iteration.tenure, iteration.TotalCharges)\n",
    "\n",
    "            print(corr,\"p: \", p)\n",
    "            print(how_correlated(corr))\n",
    "\n",
    "            if p < alpha:\n",
    "                print(\"Reject the null hypothesis that there is no linear relationship between tenure and total charges\")\n",
    "            else:\n",
    "                print(\"Fail to reject null\")\n",
    "        else:\n",
    "            print(f\"No values with phone service = {phone} and internet service = {internet}\")\n",
    "        \n",
    "        r_values[(internet,phone)] = corr\n",
    "        print(\"------\")"
   ]
  },
  {
   "cell_type": "code",
   "execution_count": 82,
   "id": "dd97856a-7bf7-46a0-b575-8ad61d52f750",
   "metadata": {},
   "outputs": [
    {
     "data": {
      "text/plain": [
       "<seaborn.axisgrid.FacetGrid at 0x7fdd5322e8b0>"
      ]
     },
     "execution_count": 82,
     "metadata": {},
     "output_type": "execute_result"
    },
    {
     "data": {
      "image/png": "[encoded data removed]",
      "text/plain": [
       "<Figure size 1155.75x360 with 3 Axes>"
      ]
     },
     "metadata": {
      "needs_background": "light"
     },
     "output_type": "display_data"
    }
   ],
   "source": [
    "sns.relplot(data = df, x = 'tenure', y='TotalCharges', hue = 'PhoneService', col = 'InternetService')"
   ]
  },
  {
   "cell_type": "code",
   "execution_count": 64,
   "id": "9a29e475-6d4f-4e0c-8e1b-5b447e873dbc",
   "metadata": {},
   "outputs": [
    {
     "data": {
      "text/plain": [
       "<seaborn.axisgrid.FacetGrid at 0x7fdda40c4100>"
      ]
     },
     "execution_count": 64,
     "metadata": {},
     "output_type": "execute_result"
    },
    {
     "data": {
      "image/png": "[encoded data removed]",
      "text/plain": [
       "<Figure size 808x360 with 2 Axes>"
      ]
     },
     "metadata": {
      "needs_background": "light"
     },
     "output_type": "display_data"
    }
   ],
   "source": [
    "sns.relplot(data=df, x = 'tenure', y='TotalCharges', hue = 'InternetService', col = 'PhoneService')"
   ]
  },
  {
   "cell_type": "code",
   "execution_count": 122,
   "id": "3dcd9b7b-dd51-4733-a8fc-3d6ace184e9f",
   "metadata": {},
   "outputs": [
    {
     "data": {
      "text/plain": [
       "{('DSL', 'No'): 0.9535382000965719,\n",
       " ('DSL', 'Yes'): 0.9705805668734967,\n",
       " ('Fiber optic', 'No'): 0.9705805668734967,\n",
       " ('Fiber optic', 'Yes'): 0.9853093528070647,\n",
       " ('No', 'No'): 0.9853093528070647,\n",
       " ('No', 'Yes'): 0.9815510648755311}"
      ]
     },
     "execution_count": 122,
     "metadata": {},
     "output_type": "execute_result"
    }
   ],
   "source": [
    "r_values"
   ]
  },
  {
   "cell_type": "code",
   "execution_count": 126,
   "id": "c1e62d2c-d1bc-4175-a107-4e2c3640b0ab",
   "metadata": {},
   "outputs": [],
   "source": [
    "rdf = pd.DataFrame.from_dict(r_values,orient='index',columns=['r_value'])"
   ]
  },
  {
   "cell_type": "code",
   "execution_count": 127,
   "id": "518b844e-faa0-4735-80a7-7c0b815eea2c",
   "metadata": {},
   "outputs": [
    {
     "data": {
      "text/html": [
       "<div>\n",
       "<style scoped>\n",
       "    .dataframe tbody tr th:only-of-type {\n",
       "        vertical-align: middle;\n",
       "    }\n",
       "\n",
       "    .dataframe tbody tr th {\n",
       "        vertical-align: top;\n",
       "    }\n",
       "\n",
       "    .dataframe thead th {\n",
       "        text-align: right;\n",
       "    }\n",
       "</style>\n",
       "<table border=\"1\" class=\"dataframe\">\n",
       "  <thead>\n",
       "    <tr style=\"text-align: right;\">\n",
       "      <th></th>\n",
       "      <th>r_value</th>\n",
       "    </tr>\n",
       "  </thead>\n",
       "  <tbody>\n",
       "    <tr>\n",
       "      <th>(DSL, No)</th>\n",
       "      <td>0.953538</td>\n",
       "    </tr>\n",
       "    <tr>\n",
       "      <th>(DSL, Yes)</th>\n",
       "      <td>0.970581</td>\n",
       "    </tr>\n",
       "    <tr>\n",
       "      <th>(Fiber optic, No)</th>\n",
       "      <td>0.970581</td>\n",
       "    </tr>\n",
       "    <tr>\n",
       "      <th>(Fiber optic, Yes)</th>\n",
       "      <td>0.985309</td>\n",
       "    </tr>\n",
       "    <tr>\n",
       "      <th>(No, No)</th>\n",
       "      <td>0.985309</td>\n",
       "    </tr>\n",
       "    <tr>\n",
       "      <th>(No, Yes)</th>\n",
       "      <td>0.981551</td>\n",
       "    </tr>\n",
       "  </tbody>\n",
       "</table>\n",
       "</div>"
      ],
      "text/plain": [
       "                     r_value\n",
       "(DSL, No)           0.953538\n",
       "(DSL, Yes)          0.970581\n",
       "(Fiber optic, No)   0.970581\n",
       "(Fiber optic, Yes)  0.985309\n",
       "(No, No)            0.985309\n",
       "(No, Yes)           0.981551"
      ]
     },
     "execution_count": 127,
     "metadata": {},
     "output_type": "execute_result"
    }
   ],
   "source": [
    "rdf"
   ]
  },
  {
   "cell_type": "markdown",
   "id": "e80a8e20-6d29-4c64-b105-e0f1bd168e9c",
   "metadata": {
    "tags": []
   },
   "source": [
    "### 2. Use Employees: Is there a relationship between how long an employee has been with the company and their salary?"
   ]
  },
  {
   "cell_type": "markdown",
   "id": "c9154371-101f-4a07-a2b1-84758aa1b267",
   "metadata": {},
   "source": [
    "$H_0$: there is no linear relationship between time at company and salary <br>\n",
    "$H_a$: there is a linear relationship between time at company and salary"
   ]
  },
  {
   "cell_type": "code",
   "execution_count": 66,
   "id": "b705168a-ef8d-4d57-ab06-0078c4ff683c",
   "metadata": {},
   "outputs": [],
   "source": [
    "# Using every employee's final salary (current and former employees)\n",
    "# NOTE doesn't look the database has values between early 2000s and 2022 so answers won't make much sense\n",
    "# sql = \"\"\"\n",
    "# SELECT \n",
    "#     g.emp_no, \n",
    "#     hire_date,\n",
    "#     IF(max_to_date>CURDATE(), CURDATE(), max_to_date) as actual_max_to_date,\n",
    "#     s.salary, \n",
    "#     DATEDIFF(max_to_date, hire_date) AS time_at_company\n",
    "# FROM\n",
    "# (SELECT emp_no, hire_date, MAX(to_date) as max_to_date\n",
    "# FROM employees\n",
    "# JOIN salaries\n",
    "# USING (emp_no)\n",
    "# GROUP BY emp_no, hire_date) as g\n",
    "# JOIN salaries as s\n",
    "# ON g.emp_no = s.emp_no and g.max_to_date = s.to_date;\n",
    "#       \"\"\"\n",
    "# emp_sal = pd.read_sql(sql, get_db_url('employees'))"
   ]
  },
  {
   "cell_type": "code",
   "execution_count": 67,
   "id": "e82951da-e732-4fc9-8e51-c69ffa6f26a1",
   "metadata": {},
   "outputs": [],
   "source": [
    "# Gets current employees only\n",
    "sql = \"\"\"\n",
    "SELECT emp_no, salary, hire_date, to_date, DATEDIFF(to_date,  hire_date) AS days_at_company\n",
    "FROM employees\n",
    "JOIN salaries\n",
    "USING (emp_no)\n",
    "WHERE to_date>CURDATE();\n",
    "\"\"\"\n",
    "emp_sal = pd.read_sql(sql, get_db_url('employees'))"
   ]
  },
  {
   "cell_type": "code",
   "execution_count": 68,
   "id": "d6a16819-c247-456a-b959-be31e869c5a5",
   "metadata": {},
   "outputs": [
    {
     "data": {
      "text/html": [
       "<div>\n",
       "<style scoped>\n",
       "    .dataframe tbody tr th:only-of-type {\n",
       "        vertical-align: middle;\n",
       "    }\n",
       "\n",
       "    .dataframe tbody tr th {\n",
       "        vertical-align: top;\n",
       "    }\n",
       "\n",
       "    .dataframe thead th {\n",
       "        text-align: right;\n",
       "    }\n",
       "</style>\n",
       "<table border=\"1\" class=\"dataframe\">\n",
       "  <thead>\n",
       "    <tr style=\"text-align: right;\">\n",
       "      <th></th>\n",
       "      <th>emp_no</th>\n",
       "      <th>salary</th>\n",
       "      <th>hire_date</th>\n",
       "      <th>to_date</th>\n",
       "      <th>days_at_company</th>\n",
       "    </tr>\n",
       "  </thead>\n",
       "  <tbody>\n",
       "    <tr>\n",
       "      <th>0</th>\n",
       "      <td>10001</td>\n",
       "      <td>88958</td>\n",
       "      <td>1986-06-26</td>\n",
       "      <td>9999-01-01</td>\n",
       "      <td>2926512</td>\n",
       "    </tr>\n",
       "    <tr>\n",
       "      <th>1</th>\n",
       "      <td>10002</td>\n",
       "      <td>72527</td>\n",
       "      <td>1985-11-21</td>\n",
       "      <td>9999-01-01</td>\n",
       "      <td>2926729</td>\n",
       "    </tr>\n",
       "    <tr>\n",
       "      <th>2</th>\n",
       "      <td>10003</td>\n",
       "      <td>43311</td>\n",
       "      <td>1986-08-28</td>\n",
       "      <td>9999-01-01</td>\n",
       "      <td>2926449</td>\n",
       "    </tr>\n",
       "    <tr>\n",
       "      <th>3</th>\n",
       "      <td>10004</td>\n",
       "      <td>74057</td>\n",
       "      <td>1986-12-01</td>\n",
       "      <td>9999-01-01</td>\n",
       "      <td>2926354</td>\n",
       "    </tr>\n",
       "    <tr>\n",
       "      <th>4</th>\n",
       "      <td>10005</td>\n",
       "      <td>94692</td>\n",
       "      <td>1989-09-12</td>\n",
       "      <td>9999-01-01</td>\n",
       "      <td>2925338</td>\n",
       "    </tr>\n",
       "  </tbody>\n",
       "</table>\n",
       "</div>"
      ],
      "text/plain": [
       "   emp_no  salary   hire_date     to_date  days_at_company\n",
       "0   10001   88958  1986-06-26  9999-01-01          2926512\n",
       "1   10002   72527  1985-11-21  9999-01-01          2926729\n",
       "2   10003   43311  1986-08-28  9999-01-01          2926449\n",
       "3   10004   74057  1986-12-01  9999-01-01          2926354\n",
       "4   10005   94692  1989-09-12  9999-01-01          2925338"
      ]
     },
     "execution_count": 68,
     "metadata": {},
     "output_type": "execute_result"
    }
   ],
   "source": [
    "emp_sal.head()"
   ]
  },
  {
   "cell_type": "code",
   "execution_count": 108,
   "id": "b5dcf595-bb0d-4c05-9de6-78647b111958",
   "metadata": {},
   "outputs": [
    {
     "data": {
      "text/plain": [
       "(0.3064625613186087, 0.0)"
      ]
     },
     "execution_count": 108,
     "metadata": {},
     "output_type": "execute_result"
    }
   ],
   "source": [
    "corr, p = stats.pearsonr(emp_sal.days_at_company, emp_sal.salary)\n",
    "corr, p"
   ]
  },
  {
   "cell_type": "code",
   "execution_count": 109,
   "id": "e5b7bc2e-239f-4989-99a5-e737ae90a020",
   "metadata": {},
   "outputs": [
    {
     "name": "stdout",
     "output_type": "stream",
     "text": [
      "Weak correlation\n",
      "Reject the null hypothesis that there is no linear relationship between days at company and salary\n"
     ]
    }
   ],
   "source": [
    "print(how_correlated(corr))\n",
    "if p < alpha:\n",
    "    print(\"Reject the null hypothesis that there is no linear relationship between days at company and salary\")\n",
    "else:\n",
    "    print(\"Fail to reject null\")"
   ]
  },
  {
   "cell_type": "code",
   "execution_count": 113,
   "id": "9763b5ac-7f3c-43ba-ad62-b0cbd3cfa98e",
   "metadata": {},
   "outputs": [
    {
     "data": {
      "text/plain": [
       "<AxesSubplot:xlabel='days_at_company', ylabel='salary'>"
      ]
     },
     "execution_count": 113,
     "metadata": {},
     "output_type": "execute_result"
    },
    {
     "data": {
      "image/png": "[encoded data removed]",
      "text/plain": [
       "<Figure size 432x288 with 1 Axes>"
      ]
     },
     "metadata": {
      "needs_background": "light"
     },
     "output_type": "display_data"
    }
   ],
   "source": [
    "emp_sal.sample(2000).plot(x = 'days_at_company', y = 'salary', kind = 'scatter')"
   ]
  },
  {
   "cell_type": "markdown",
   "id": "a7b985fc-7957-4856-9547-f9b47cdf8597",
   "metadata": {},
   "source": [
    "### Is there a relationship between how long an employee has been with the company and the number of titles they have had?"
   ]
  },
  {
   "cell_type": "markdown",
   "id": "11f7bd79-7c2b-4859-89af-0b36dcafb2df",
   "metadata": {},
   "source": [
    "$H_0$: there is no linear relationship between time at company and number of titles <br>\n",
    "$H_a$: there is a linear relationship between time at company and number of titles"
   ]
  },
  {
   "cell_type": "code",
   "execution_count": 114,
   "id": "f2680240-2b3d-4d9f-9625-d126fa16bb48",
   "metadata": {},
   "outputs": [],
   "source": [
    "# Gets current employees only, their number of titles and days at company\n",
    "query = \"\"\"\n",
    "SELECT emp_no, num_titles, DATEDIFF(CURDATE(), hire_date) AS days_at_company\n",
    "FROM\n",
    "(SELECT emp_no, COUNT(title) AS num_titles\n",
    "FROM titles\n",
    "WHERE emp_no IN\n",
    "(SELECT emp_no\n",
    " FROM titles \n",
    ")\n",
    "GROUP BY emp_no) AS title_nums\n",
    "JOIN employees\n",
    "USING (emp_no);\n",
    "\"\"\"\n",
    "emp_titles = pd.read_sql(query, get_db_url('employees'))"
   ]
  },
  {
   "cell_type": "code",
   "execution_count": 115,
   "id": "dc13755f-5abb-4071-afad-e7a0fdf9e427",
   "metadata": {},
   "outputs": [
    {
     "data": {
      "text/html": [
       "<div>\n",
       "<style scoped>\n",
       "    .dataframe tbody tr th:only-of-type {\n",
       "        vertical-align: middle;\n",
       "    }\n",
       "\n",
       "    .dataframe tbody tr th {\n",
       "        vertical-align: top;\n",
       "    }\n",
       "\n",
       "    .dataframe thead th {\n",
       "        text-align: right;\n",
       "    }\n",
       "</style>\n",
       "<table border=\"1\" class=\"dataframe\">\n",
       "  <thead>\n",
       "    <tr style=\"text-align: right;\">\n",
       "      <th></th>\n",
       "      <th>emp_no</th>\n",
       "      <th>num_titles</th>\n",
       "      <th>days_at_company</th>\n",
       "    </tr>\n",
       "  </thead>\n",
       "  <tbody>\n",
       "    <tr>\n",
       "      <th>0</th>\n",
       "      <td>10001</td>\n",
       "      <td>1</td>\n",
       "      <td>13025</td>\n",
       "    </tr>\n",
       "    <tr>\n",
       "      <th>1</th>\n",
       "      <td>10002</td>\n",
       "      <td>1</td>\n",
       "      <td>13242</td>\n",
       "    </tr>\n",
       "    <tr>\n",
       "      <th>2</th>\n",
       "      <td>10003</td>\n",
       "      <td>1</td>\n",
       "      <td>12962</td>\n",
       "    </tr>\n",
       "    <tr>\n",
       "      <th>3</th>\n",
       "      <td>10004</td>\n",
       "      <td>2</td>\n",
       "      <td>12867</td>\n",
       "    </tr>\n",
       "    <tr>\n",
       "      <th>4</th>\n",
       "      <td>10005</td>\n",
       "      <td>2</td>\n",
       "      <td>11851</td>\n",
       "    </tr>\n",
       "  </tbody>\n",
       "</table>\n",
       "</div>"
      ],
      "text/plain": [
       "   emp_no  num_titles  days_at_company\n",
       "0   10001           1            13025\n",
       "1   10002           1            13242\n",
       "2   10003           1            12962\n",
       "3   10004           2            12867\n",
       "4   10005           2            11851"
      ]
     },
     "execution_count": 115,
     "metadata": {},
     "output_type": "execute_result"
    }
   ],
   "source": [
    "emp_titles.head()"
   ]
  },
  {
   "cell_type": "code",
   "execution_count": 116,
   "id": "75f179f5-e0f3-4483-9b9e-4f1637be8bd4",
   "metadata": {},
   "outputs": [
    {
     "data": {
      "text/plain": [
       "(0.2665989299136427, 0.0)"
      ]
     },
     "execution_count": 116,
     "metadata": {},
     "output_type": "execute_result"
    }
   ],
   "source": [
    "corr, p = stats.pearsonr(emp_titles.days_at_company, emp_titles.num_titles)\n",
    "corr, p"
   ]
  },
  {
   "cell_type": "code",
   "execution_count": 75,
   "id": "0da375bb-5373-4327-8105-97befac213dd",
   "metadata": {},
   "outputs": [
    {
     "name": "stdout",
     "output_type": "stream",
     "text": [
      "Weak correlation\n",
      "Reject the null hypothesis that there is no linear relationship between days at company and number of titles\n"
     ]
    }
   ],
   "source": [
    "print(how_correlated(corr))\n",
    "if p < alpha:\n",
    "    print(\"Reject the null hypothesis that there is no linear relationship between days at company and number of titles\")\n",
    "else:\n",
    "    print(\"Fail to reject null\")"
   ]
  },
  {
   "cell_type": "markdown",
   "id": "37ff264e-db9c-4cbd-bbbf-5b652a71a653",
   "metadata": {},
   "source": [
    "### 3. Use the sleepstudy data. Is there a relationship between days and reaction time?"
   ]
  },
  {
   "cell_type": "code",
   "execution_count": 76,
   "id": "520438bf-7b0c-4890-9a58-2393cf6d6fee",
   "metadata": {},
   "outputs": [],
   "source": [
    "sleep = data('sleepstudy')"
   ]
  },
  {
   "cell_type": "code",
   "execution_count": 77,
   "id": "4138aafc-3a24-401d-a2ce-c6365c8d857c",
   "metadata": {},
   "outputs": [
    {
     "data": {
      "text/html": [
       "<div>\n",
       "<style scoped>\n",
       "    .dataframe tbody tr th:only-of-type {\n",
       "        vertical-align: middle;\n",
       "    }\n",
       "\n",
       "    .dataframe tbody tr th {\n",
       "        vertical-align: top;\n",
       "    }\n",
       "\n",
       "    .dataframe thead th {\n",
       "        text-align: right;\n",
       "    }\n",
       "</style>\n",
       "<table border=\"1\" class=\"dataframe\">\n",
       "  <thead>\n",
       "    <tr style=\"text-align: right;\">\n",
       "      <th></th>\n",
       "      <th>Reaction</th>\n",
       "      <th>Days</th>\n",
       "      <th>Subject</th>\n",
       "    </tr>\n",
       "  </thead>\n",
       "  <tbody>\n",
       "    <tr>\n",
       "      <th>1</th>\n",
       "      <td>249.5600</td>\n",
       "      <td>0</td>\n",
       "      <td>308</td>\n",
       "    </tr>\n",
       "    <tr>\n",
       "      <th>2</th>\n",
       "      <td>258.7047</td>\n",
       "      <td>1</td>\n",
       "      <td>308</td>\n",
       "    </tr>\n",
       "    <tr>\n",
       "      <th>3</th>\n",
       "      <td>250.8006</td>\n",
       "      <td>2</td>\n",
       "      <td>308</td>\n",
       "    </tr>\n",
       "    <tr>\n",
       "      <th>4</th>\n",
       "      <td>321.4398</td>\n",
       "      <td>3</td>\n",
       "      <td>308</td>\n",
       "    </tr>\n",
       "    <tr>\n",
       "      <th>5</th>\n",
       "      <td>356.8519</td>\n",
       "      <td>4</td>\n",
       "      <td>308</td>\n",
       "    </tr>\n",
       "  </tbody>\n",
       "</table>\n",
       "</div>"
      ],
      "text/plain": [
       "   Reaction  Days  Subject\n",
       "1  249.5600     0      308\n",
       "2  258.7047     1      308\n",
       "3  250.8006     2      308\n",
       "4  321.4398     3      308\n",
       "5  356.8519     4      308"
      ]
     },
     "execution_count": 77,
     "metadata": {},
     "output_type": "execute_result"
    }
   ],
   "source": [
    "sleep.head()"
   ]
  },
  {
   "cell_type": "code",
   "execution_count": 118,
   "id": "76845ff7-45cd-4d24-8ae3-31278759bc75",
   "metadata": {},
   "outputs": [
    {
     "name": "stdout",
     "output_type": "stream",
     "text": [
      "r:  0.5352302262650253 p:  9.894096322214812e-15\n",
      "Moderate correlation\n",
      "Reject the null hypothesis that there is no linear relationship between days and reaction time\n"
     ]
    }
   ],
   "source": [
    "corr, p = stats.pearsonr(sleep.Days, sleep.Reaction)\n",
    "print(\"r: \", corr, \"p: \", p)\n",
    "print(how_correlated(corr))\n",
    "if p < alpha:\n",
    "    print(\"Reject the null hypothesis that there is no linear relationship between days and reaction time\")\n",
    "else:\n",
    "    print(\"Fail to reject null\")"
   ]
  },
  {
   "cell_type": "markdown",
   "id": "4343818b-e2a8-44dc-9651-67fa7793564f",
   "metadata": {},
   "source": [
    "## Chi square"
   ]
  },
  {
   "cell_type": "markdown",
   "id": "4b964b35-7cc4-489b-80a5-7f0cdd0cf10b",
   "metadata": {},
   "source": [
    "### 1. Use the following contingency table to help answer the question of whether using a macbook and being a codeup student are independent of each other.\n"
   ]
  },
  {
   "cell_type": "markdown",
   "id": "f51da9f4-dba7-4580-a567-c98051348486",
   "metadata": {},
   "source": [
    "H0: Using a macbook and being a codeup student are independent of each other <br>\n",
    "Ha: There is a relationship between being a codeup student and using a macbook"
   ]
  },
  {
   "cell_type": "code",
   "execution_count": 128,
   "id": "e6d3a4d3-13eb-4e82-ab20-1ef9a0571d86",
   "metadata": {},
   "outputs": [],
   "source": [
    "index = ['Uses a Macbook', 'Does not use a Macbook']\n",
    "columns = ['Codeup Student', 'Not Codeup Student']\n",
    "observed = pd.DataFrame([[49, 20],[1, 30]], index = index, columns = columns)\n",
    "n = observed.values.sum()\n",
    "alpha = 0.05"
   ]
  },
  {
   "cell_type": "code",
   "execution_count": 129,
   "id": "f8b4dd5f-ec17-4dc6-a805-1ad2bb38295f",
   "metadata": {},
   "outputs": [
    {
     "data": {
      "text/html": [
       "<div>\n",
       "<style scoped>\n",
       "    .dataframe tbody tr th:only-of-type {\n",
       "        vertical-align: middle;\n",
       "    }\n",
       "\n",
       "    .dataframe tbody tr th {\n",
       "        vertical-align: top;\n",
       "    }\n",
       "\n",
       "    .dataframe thead th {\n",
       "        text-align: right;\n",
       "    }\n",
       "</style>\n",
       "<table border=\"1\" class=\"dataframe\">\n",
       "  <thead>\n",
       "    <tr style=\"text-align: right;\">\n",
       "      <th></th>\n",
       "      <th>Codeup Student</th>\n",
       "      <th>Not Codeup Student</th>\n",
       "    </tr>\n",
       "  </thead>\n",
       "  <tbody>\n",
       "    <tr>\n",
       "      <th>Uses a Macbook</th>\n",
       "      <td>49</td>\n",
       "      <td>20</td>\n",
       "    </tr>\n",
       "    <tr>\n",
       "      <th>Does not use a Macbook</th>\n",
       "      <td>1</td>\n",
       "      <td>30</td>\n",
       "    </tr>\n",
       "  </tbody>\n",
       "</table>\n",
       "</div>"
      ],
      "text/plain": [
       "                        Codeup Student  Not Codeup Student\n",
       "Uses a Macbook                      49                  20\n",
       "Does not use a Macbook               1                  30"
      ]
     },
     "execution_count": 129,
     "metadata": {},
     "output_type": "execute_result"
    }
   ],
   "source": [
    "observed"
   ]
  },
  {
   "cell_type": "code",
   "execution_count": 131,
   "id": "91183c05-2512-41de-9069-26306a018542",
   "metadata": {},
   "outputs": [
    {
     "name": "stdout",
     "output_type": "stream",
     "text": [
      "Observed\n",
      "\n",
      "[[49 20]\n",
      " [ 1 30]]\n",
      "---\n",
      "Expected\n",
      "\n",
      "[[34.5 34.5]\n",
      " [15.5 15.5]]\n",
      "---\n",
      "\n",
      "chi^2 = 36.6526\n",
      "p     = 0.0000\n",
      "Reject null hypothesis - not independent\n"
     ]
    }
   ],
   "source": [
    "chi2, p, degf, expected = stats.chi2_contingency(observed)\n",
    "\n",
    "print('Observed\\n')\n",
    "print(observed.values)\n",
    "print('---\\nExpected\\n')\n",
    "print(expected)\n",
    "print('---\\n')\n",
    "print(f'chi^2 = {chi2:.4f}')\n",
    "print(f'p     = {p:.4f}')\n",
    "\n",
    "if p<alpha:\n",
    "    print(\"Reject null hypothesis - not independent\")\n",
    "else:\n",
    "    print(\"Fail to reject null hypothesis\")"
   ]
  },
  {
   "cell_type": "markdown",
   "id": "4c5c116f-888c-4fa1-8bf2-f9f2364ced29",
   "metadata": {},
   "source": [
    "### 2. Choose another 2 categorical variables from the mpg dataset and perform a chi2 contingency table test with them. Be sure to state your null and alternative hypotheses."
   ]
  },
  {
   "cell_type": "markdown",
   "id": "591435be-fd73-4020-897d-9f4b8e9d4b72",
   "metadata": {},
   "source": [
    "### a. First 2 categorical variables chosen: cyl and class"
   ]
  },
  {
   "cell_type": "code",
   "execution_count": 221,
   "id": "b955100b-bed5-450a-b22f-b9a921f4681a",
   "metadata": {},
   "outputs": [],
   "source": [
    "# class and cyl\n",
    "n = mpg.shape[0]\n",
    "\n",
    "class_proportions = mpg[\"class\"].value_counts() / n\n",
    "cyl_proportions = mpg.cyl.value_counts() / n "
   ]
  },
  {
   "cell_type": "code",
   "execution_count": 222,
   "id": "6f497ecc-ae67-42c4-8ba0-6e3dbadcbb13",
   "metadata": {},
   "outputs": [
    {
     "data": {
      "text/plain": [
       "suv           0.264957\n",
       "compact       0.200855\n",
       "midsize       0.175214\n",
       "subcompact    0.149573\n",
       "pickup        0.141026\n",
       "minivan       0.047009\n",
       "2seater       0.021368\n",
       "Name: class, dtype: float64"
      ]
     },
     "execution_count": 222,
     "metadata": {},
     "output_type": "execute_result"
    }
   ],
   "source": [
    "class_proportions"
   ]
  },
  {
   "cell_type": "code",
   "execution_count": 223,
   "id": "44086189-e456-46f3-9872-1edfd63deeaa",
   "metadata": {},
   "outputs": [
    {
     "data": {
      "text/plain": [
       "4    0.346154\n",
       "6    0.337607\n",
       "8    0.299145\n",
       "5    0.017094\n",
       "Name: cyl, dtype: float64"
      ]
     },
     "execution_count": 223,
     "metadata": {},
     "output_type": "execute_result"
    }
   ],
   "source": [
    "cyl_proportions"
   ]
  },
  {
   "cell_type": "code",
   "execution_count": 264,
   "id": "39ac6d82-fe88-4ad1-a8bf-a739d7bde96c",
   "metadata": {},
   "outputs": [],
   "source": [
    "df = pd.DataFrame(np.outer(class_proportions,cyl_proportions), index = class_proportions.index, columns = cyl_proportions.index)"
   ]
  },
  {
   "cell_type": "code",
   "execution_count": 265,
   "id": "7e919f00-4a21-4730-9bed-f44e7a4a6b39",
   "metadata": {},
   "outputs": [],
   "source": [
    "df *= n"
   ]
  },
  {
   "cell_type": "code",
   "execution_count": 266,
   "id": "acefb33a-f778-4443-931b-ea00987945ee",
   "metadata": {},
   "outputs": [
    {
     "data": {
      "text/html": [
       "<div>\n",
       "<style scoped>\n",
       "    .dataframe tbody tr th:only-of-type {\n",
       "        vertical-align: middle;\n",
       "    }\n",
       "\n",
       "    .dataframe tbody tr th {\n",
       "        vertical-align: top;\n",
       "    }\n",
       "\n",
       "    .dataframe thead th {\n",
       "        text-align: right;\n",
       "    }\n",
       "</style>\n",
       "<table border=\"1\" class=\"dataframe\">\n",
       "  <thead>\n",
       "    <tr style=\"text-align: right;\">\n",
       "      <th></th>\n",
       "      <th>4</th>\n",
       "      <th>6</th>\n",
       "      <th>8</th>\n",
       "      <th>5</th>\n",
       "    </tr>\n",
       "  </thead>\n",
       "  <tbody>\n",
       "    <tr>\n",
       "      <th>suv</th>\n",
       "      <td>21.461538</td>\n",
       "      <td>20.931624</td>\n",
       "      <td>18.547009</td>\n",
       "      <td>1.059829</td>\n",
       "    </tr>\n",
       "    <tr>\n",
       "      <th>compact</th>\n",
       "      <td>16.269231</td>\n",
       "      <td>15.867521</td>\n",
       "      <td>14.059829</td>\n",
       "      <td>0.803419</td>\n",
       "    </tr>\n",
       "    <tr>\n",
       "      <th>midsize</th>\n",
       "      <td>14.192308</td>\n",
       "      <td>13.841880</td>\n",
       "      <td>12.264957</td>\n",
       "      <td>0.700855</td>\n",
       "    </tr>\n",
       "    <tr>\n",
       "      <th>subcompact</th>\n",
       "      <td>12.115385</td>\n",
       "      <td>11.816239</td>\n",
       "      <td>10.470085</td>\n",
       "      <td>0.598291</td>\n",
       "    </tr>\n",
       "    <tr>\n",
       "      <th>pickup</th>\n",
       "      <td>11.423077</td>\n",
       "      <td>11.141026</td>\n",
       "      <td>9.871795</td>\n",
       "      <td>0.564103</td>\n",
       "    </tr>\n",
       "    <tr>\n",
       "      <th>minivan</th>\n",
       "      <td>3.807692</td>\n",
       "      <td>3.713675</td>\n",
       "      <td>3.290598</td>\n",
       "      <td>0.188034</td>\n",
       "    </tr>\n",
       "    <tr>\n",
       "      <th>2seater</th>\n",
       "      <td>1.730769</td>\n",
       "      <td>1.688034</td>\n",
       "      <td>1.495726</td>\n",
       "      <td>0.085470</td>\n",
       "    </tr>\n",
       "  </tbody>\n",
       "</table>\n",
       "</div>"
      ],
      "text/plain": [
       "                    4          6          8         5\n",
       "suv         21.461538  20.931624  18.547009  1.059829\n",
       "compact     16.269231  15.867521  14.059829  0.803419\n",
       "midsize     14.192308  13.841880  12.264957  0.700855\n",
       "subcompact  12.115385  11.816239  10.470085  0.598291\n",
       "pickup      11.423077  11.141026   9.871795  0.564103\n",
       "minivan      3.807692   3.713675   3.290598  0.188034\n",
       "2seater      1.730769   1.688034   1.495726  0.085470"
      ]
     },
     "execution_count": 266,
     "metadata": {},
     "output_type": "execute_result"
    }
   ],
   "source": [
    "# Expected proportions\n",
    "expected = df\n",
    "expected"
   ]
  },
  {
   "cell_type": "code",
   "execution_count": 227,
   "id": "f632c6dd-3f70-4732-826d-42301e422658",
   "metadata": {},
   "outputs": [
    {
     "data": {
      "text/html": [
       "<div>\n",
       "<style scoped>\n",
       "    .dataframe tbody tr th:only-of-type {\n",
       "        vertical-align: middle;\n",
       "    }\n",
       "\n",
       "    .dataframe tbody tr th {\n",
       "        vertical-align: top;\n",
       "    }\n",
       "\n",
       "    .dataframe thead th {\n",
       "        text-align: right;\n",
       "    }\n",
       "</style>\n",
       "<table border=\"1\" class=\"dataframe\">\n",
       "  <thead>\n",
       "    <tr style=\"text-align: right;\">\n",
       "      <th>cyl</th>\n",
       "      <th>4</th>\n",
       "      <th>5</th>\n",
       "      <th>6</th>\n",
       "      <th>8</th>\n",
       "    </tr>\n",
       "    <tr>\n",
       "      <th>class</th>\n",
       "      <th></th>\n",
       "      <th></th>\n",
       "      <th></th>\n",
       "      <th></th>\n",
       "    </tr>\n",
       "  </thead>\n",
       "  <tbody>\n",
       "    <tr>\n",
       "      <th>2seater</th>\n",
       "      <td>0</td>\n",
       "      <td>0</td>\n",
       "      <td>0</td>\n",
       "      <td>5</td>\n",
       "    </tr>\n",
       "    <tr>\n",
       "      <th>compact</th>\n",
       "      <td>32</td>\n",
       "      <td>2</td>\n",
       "      <td>13</td>\n",
       "      <td>0</td>\n",
       "    </tr>\n",
       "    <tr>\n",
       "      <th>midsize</th>\n",
       "      <td>16</td>\n",
       "      <td>0</td>\n",
       "      <td>23</td>\n",
       "      <td>2</td>\n",
       "    </tr>\n",
       "    <tr>\n",
       "      <th>minivan</th>\n",
       "      <td>1</td>\n",
       "      <td>0</td>\n",
       "      <td>10</td>\n",
       "      <td>0</td>\n",
       "    </tr>\n",
       "    <tr>\n",
       "      <th>pickup</th>\n",
       "      <td>3</td>\n",
       "      <td>0</td>\n",
       "      <td>10</td>\n",
       "      <td>20</td>\n",
       "    </tr>\n",
       "    <tr>\n",
       "      <th>subcompact</th>\n",
       "      <td>21</td>\n",
       "      <td>2</td>\n",
       "      <td>7</td>\n",
       "      <td>5</td>\n",
       "    </tr>\n",
       "    <tr>\n",
       "      <th>suv</th>\n",
       "      <td>8</td>\n",
       "      <td>0</td>\n",
       "      <td>16</td>\n",
       "      <td>38</td>\n",
       "    </tr>\n",
       "  </tbody>\n",
       "</table>\n",
       "</div>"
      ],
      "text/plain": [
       "cyl          4  5   6   8\n",
       "class                    \n",
       "2seater      0  0   0   5\n",
       "compact     32  2  13   0\n",
       "midsize     16  0  23   2\n",
       "minivan      1  0  10   0\n",
       "pickup       3  0  10  20\n",
       "subcompact  21  2   7   5\n",
       "suv          8  0  16  38"
      ]
     },
     "execution_count": 227,
     "metadata": {},
     "output_type": "execute_result"
    }
   ],
   "source": [
    "# Observed proportions\n",
    "observed = pd.crosstab(mpg[\"class\"],mpg.cyl)\n",
    "observed"
   ]
  },
  {
   "cell_type": "code",
   "execution_count": 245,
   "id": "6dab7e62-6760-4085-9950-2fc98806fccb",
   "metadata": {},
   "outputs": [
    {
     "data": {
      "text/plain": [
       "138.02824375973245"
      ]
     },
     "execution_count": 245,
     "metadata": {},
     "output_type": "execute_result"
    }
   ],
   "source": [
    "chi2 = ((observed - expected)**2 / expected).values.sum()\n",
    "chi2\n"
   ]
  },
  {
   "cell_type": "code",
   "execution_count": 246,
   "id": "f2d76e18-9795-4474-be3d-6ce0c9375133",
   "metadata": {},
   "outputs": [],
   "source": [
    "nrows, ncols = observed.shape\n",
    "\n",
    "degrees_of_freedom = (nrows - 1) * (ncols - 1)\n"
   ]
  },
  {
   "cell_type": "code",
   "execution_count": 247,
   "id": "38f6303c-2361-4ee5-8f37-c1c22b509846",
   "metadata": {},
   "outputs": [
    {
     "data": {
      "text/plain": [
       "1.5351076620141742e-20"
      ]
     },
     "execution_count": 247,
     "metadata": {},
     "output_type": "execute_result"
    }
   ],
   "source": [
    "p = stats.chi2(degrees_of_freedom).sf(chi2)\n"
   ]
  },
  {
   "cell_type": "code",
   "execution_count": 136,
   "id": "4da34beb-58d8-44f2-883e-af8bc095409d",
   "metadata": {},
   "outputs": [
    {
     "name": "stdout",
     "output_type": "stream",
     "text": [
      "With this low of a p value we can reject the null hypothesis, ie I'm confident these two groups are not independent from each other\n"
     ]
    }
   ],
   "source": [
    "if p<alpha:\n",
    "    print(\"With this low of a p value we can reject the null hypothesis, ie I'm confident these two groups are not independent from each other\")"
   ]
  },
  {
   "cell_type": "markdown",
   "id": "ccfc04b4-192a-43e6-ad47-6590bcf291e6",
   "metadata": {},
   "source": [
    "### The easy way..."
   ]
  },
  {
   "cell_type": "code",
   "execution_count": 228,
   "id": "a42cf1c0-0e69-4849-8cb5-d024cb3c64bb",
   "metadata": {},
   "outputs": [],
   "source": [
    "chi2, p, dof, expected = stats.chi2_contingency(observed)"
   ]
  },
  {
   "cell_type": "code",
   "execution_count": 229,
   "id": "0e604376-740a-4342-8c34-8c216d8b075b",
   "metadata": {},
   "outputs": [
    {
     "name": "stdout",
     "output_type": "stream",
     "text": [
      "Observed\n",
      "\n",
      "[[ 0  0  0  5]\n",
      " [32  2 13  0]\n",
      " [16  0 23  2]\n",
      " [ 1  0 10  0]\n",
      " [ 3  0 10 20]\n",
      " [21  2  7  5]\n",
      " [ 8  0 16 38]]\n",
      "---\n",
      "Expected\n",
      "\n",
      "[[ 1  0  1  1]\n",
      " [16  0 15 14]\n",
      " [14  0 13 12]\n",
      " [ 3  0  3  3]\n",
      " [11  0 11  9]\n",
      " [12  0 11 10]\n",
      " [21  1 20 18]]\n",
      "---\n",
      "\n",
      "chi^2 = 138.0282\n",
      "p     = 0.0000\n"
     ]
    }
   ],
   "source": [
    "print('Observed\\n')\n",
    "print(observed.values)\n",
    "print('---\\nExpected\\n')\n",
    "print(expected.astype(int))\n",
    "print('---\\n')\n",
    "print(f'chi^2 = {chi2:.4f}')\n",
    "print(f'p     = {p:.4f}')"
   ]
  },
  {
   "cell_type": "code",
   "execution_count": 139,
   "id": "43a9c4fd-fd9b-418e-84e2-2bcd7448d07a",
   "metadata": {},
   "outputs": [
    {
     "name": "stdout",
     "output_type": "stream",
     "text": [
      "We reject the null hypothesis\n"
     ]
    }
   ],
   "source": [
    "if p < alpha:\n",
    "    print(\"We reject the null hypothesis\")\n",
    "else:\n",
    "    print(\"We fail to reject the null hypothesis\")"
   ]
  },
  {
   "cell_type": "markdown",
   "id": "daaf8468-139f-4158-ad08-6fbea6bd6f67",
   "metadata": {},
   "source": [
    "### b. Second two categorical variables: fl (fuel) and drive"
   ]
  },
  {
   "cell_type": "code",
   "execution_count": 230,
   "id": "d0c1869c-8c51-4839-9dae-feda614ef972",
   "metadata": {},
   "outputs": [],
   "source": [
    "# class and cyl\n",
    "n = mpg.shape[0]\n",
    "\n",
    "drive_proportions = mpg.drv.value_counts() / n\n",
    "fl_proportions = mpg.fl.value_counts() / n "
   ]
  },
  {
   "cell_type": "code",
   "execution_count": 231,
   "id": "c4f6811d-7c64-4995-af26-7f3117e8724f",
   "metadata": {},
   "outputs": [
    {
     "data": {
      "text/plain": [
       "f    0.452991\n",
       "4    0.440171\n",
       "r    0.106838\n",
       "Name: drv, dtype: float64"
      ]
     },
     "execution_count": 231,
     "metadata": {},
     "output_type": "execute_result"
    }
   ],
   "source": [
    "drive_proportions"
   ]
  },
  {
   "cell_type": "code",
   "execution_count": 232,
   "id": "c4473c53-c68c-445c-bad2-c0e3f1732f0a",
   "metadata": {},
   "outputs": [
    {
     "data": {
      "text/plain": [
       "r    0.717949\n",
       "p    0.222222\n",
       "e    0.034188\n",
       "d    0.021368\n",
       "c    0.004274\n",
       "Name: fl, dtype: float64"
      ]
     },
     "execution_count": 232,
     "metadata": {},
     "output_type": "execute_result"
    }
   ],
   "source": [
    "fl_proportions"
   ]
  },
  {
   "cell_type": "code",
   "execution_count": 233,
   "id": "e66a207a-9614-4ca3-b229-524c6429dd02",
   "metadata": {},
   "outputs": [],
   "source": [
    "df = pd.DataFrame(np.outer(drive_proportions,fl_proportions), index = drive_proportions.index, columns = fl_proportions.index)"
   ]
  },
  {
   "cell_type": "code",
   "execution_count": 234,
   "id": "1e40122a-939c-49b5-82ba-444ee504bd4c",
   "metadata": {},
   "outputs": [],
   "source": [
    "df *= n"
   ]
  },
  {
   "cell_type": "code",
   "execution_count": 235,
   "id": "a64ac290-0aa5-49e4-a77f-eb1f2b958709",
   "metadata": {},
   "outputs": [
    {
     "data": {
      "text/html": [
       "<div>\n",
       "<style scoped>\n",
       "    .dataframe tbody tr th:only-of-type {\n",
       "        vertical-align: middle;\n",
       "    }\n",
       "\n",
       "    .dataframe tbody tr th {\n",
       "        vertical-align: top;\n",
       "    }\n",
       "\n",
       "    .dataframe thead th {\n",
       "        text-align: right;\n",
       "    }\n",
       "</style>\n",
       "<table border=\"1\" class=\"dataframe\">\n",
       "  <thead>\n",
       "    <tr style=\"text-align: right;\">\n",
       "      <th></th>\n",
       "      <th>r</th>\n",
       "      <th>p</th>\n",
       "      <th>e</th>\n",
       "      <th>d</th>\n",
       "      <th>c</th>\n",
       "    </tr>\n",
       "  </thead>\n",
       "  <tbody>\n",
       "    <tr>\n",
       "      <th>f</th>\n",
       "      <td>76.102564</td>\n",
       "      <td>23.555556</td>\n",
       "      <td>3.623932</td>\n",
       "      <td>2.264957</td>\n",
       "      <td>0.452991</td>\n",
       "    </tr>\n",
       "    <tr>\n",
       "      <th>4</th>\n",
       "      <td>73.948718</td>\n",
       "      <td>22.888889</td>\n",
       "      <td>3.521368</td>\n",
       "      <td>2.200855</td>\n",
       "      <td>0.440171</td>\n",
       "    </tr>\n",
       "    <tr>\n",
       "      <th>r</th>\n",
       "      <td>17.948718</td>\n",
       "      <td>5.555556</td>\n",
       "      <td>0.854701</td>\n",
       "      <td>0.534188</td>\n",
       "      <td>0.106838</td>\n",
       "    </tr>\n",
       "  </tbody>\n",
       "</table>\n",
       "</div>"
      ],
      "text/plain": [
       "           r          p         e         d         c\n",
       "f  76.102564  23.555556  3.623932  2.264957  0.452991\n",
       "4  73.948718  22.888889  3.521368  2.200855  0.440171\n",
       "r  17.948718   5.555556  0.854701  0.534188  0.106838"
      ]
     },
     "execution_count": 235,
     "metadata": {},
     "output_type": "execute_result"
    }
   ],
   "source": [
    "# Expected proportions\n",
    "expected = df\n",
    "expected"
   ]
  },
  {
   "cell_type": "code",
   "execution_count": 236,
   "id": "e5c3ea35-3384-416e-b03d-8d6d519ab548",
   "metadata": {},
   "outputs": [
    {
     "data": {
      "text/html": [
       "<div>\n",
       "<style scoped>\n",
       "    .dataframe tbody tr th:only-of-type {\n",
       "        vertical-align: middle;\n",
       "    }\n",
       "\n",
       "    .dataframe tbody tr th {\n",
       "        vertical-align: top;\n",
       "    }\n",
       "\n",
       "    .dataframe thead th {\n",
       "        text-align: right;\n",
       "    }\n",
       "</style>\n",
       "<table border=\"1\" class=\"dataframe\">\n",
       "  <thead>\n",
       "    <tr style=\"text-align: right;\">\n",
       "      <th>fl</th>\n",
       "      <th>c</th>\n",
       "      <th>d</th>\n",
       "      <th>e</th>\n",
       "      <th>p</th>\n",
       "      <th>r</th>\n",
       "    </tr>\n",
       "    <tr>\n",
       "      <th>drv</th>\n",
       "      <th></th>\n",
       "      <th></th>\n",
       "      <th></th>\n",
       "      <th></th>\n",
       "      <th></th>\n",
       "    </tr>\n",
       "  </thead>\n",
       "  <tbody>\n",
       "    <tr>\n",
       "      <th>4</th>\n",
       "      <td>0</td>\n",
       "      <td>2</td>\n",
       "      <td>6</td>\n",
       "      <td>20</td>\n",
       "      <td>75</td>\n",
       "    </tr>\n",
       "    <tr>\n",
       "      <th>f</th>\n",
       "      <td>1</td>\n",
       "      <td>3</td>\n",
       "      <td>1</td>\n",
       "      <td>25</td>\n",
       "      <td>76</td>\n",
       "    </tr>\n",
       "    <tr>\n",
       "      <th>r</th>\n",
       "      <td>0</td>\n",
       "      <td>0</td>\n",
       "      <td>1</td>\n",
       "      <td>7</td>\n",
       "      <td>17</td>\n",
       "    </tr>\n",
       "  </tbody>\n",
       "</table>\n",
       "</div>"
      ],
      "text/plain": [
       "fl   c  d  e   p   r\n",
       "drv                 \n",
       "4    0  2  6  20  75\n",
       "f    1  3  1  25  76\n",
       "r    0  0  1   7  17"
      ]
     },
     "execution_count": 236,
     "metadata": {},
     "output_type": "execute_result"
    }
   ],
   "source": [
    "# Observed proportions\n",
    "observed = pd.crosstab(mpg.drv,mpg.fl)\n",
    "observed"
   ]
  },
  {
   "cell_type": "code",
   "execution_count": 237,
   "id": "728f7607-91fe-4071-838c-aaf3d6d582d9",
   "metadata": {},
   "outputs": [
    {
     "data": {
      "text/plain": [
       "6.56182935126789"
      ]
     },
     "execution_count": 237,
     "metadata": {},
     "output_type": "execute_result"
    }
   ],
   "source": [
    "chi2 = ((observed - expected)**2 / expected).values.sum()\n",
    "chi2\n"
   ]
  },
  {
   "cell_type": "code",
   "execution_count": 238,
   "id": "d78132e9-e3af-4c4b-8cd3-42ee072cf82a",
   "metadata": {},
   "outputs": [],
   "source": [
    "nrows, ncols = observed.shape\n",
    "\n",
    "degrees_of_freedom = (nrows - 1) * (ncols - 1)\n"
   ]
  },
  {
   "cell_type": "code",
   "execution_count": 239,
   "id": "7a27148b-20fd-4dbd-a2a0-5081e082cf29",
   "metadata": {},
   "outputs": [
    {
     "data": {
      "text/plain": [
       "0.5845579584206684"
      ]
     },
     "execution_count": 239,
     "metadata": {},
     "output_type": "execute_result"
    }
   ],
   "source": [
    "p = stats.chi2(degrees_of_freedom).sf(chi2)\n",
    "p"
   ]
  },
  {
   "cell_type": "code",
   "execution_count": 240,
   "id": "cfc80b46-aa81-4315-aac7-f1ed6831fdc7",
   "metadata": {},
   "outputs": [
    {
     "name": "stdout",
     "output_type": "stream",
     "text": [
      "With this high of a p value we fail to reject the null hypothesis, ie these two groups are independent of each other\n"
     ]
    }
   ],
   "source": [
    "if p > alpha:\n",
    "    print(\"With this high of a p value we fail to reject the null hypothesis, ie these two groups are independent of each other\")\n",
    "else:\n",
    "    print(\"Reject null hypothesis\")"
   ]
  },
  {
   "cell_type": "code",
   "execution_count": 241,
   "id": "aa5d720d-9f04-4f79-b479-569e4a6333aa",
   "metadata": {},
   "outputs": [],
   "source": [
    "# The easy way...\n",
    "chi2, p, dof, expected = stats.chi2_contingency(observed)"
   ]
  },
  {
   "cell_type": "code",
   "execution_count": 242,
   "id": "05417ea3-f66a-4d46-91b3-12d1add95718",
   "metadata": {},
   "outputs": [
    {
     "name": "stdout",
     "output_type": "stream",
     "text": [
      "Observed\n",
      "\n",
      "[[ 0  2  6 20 75]\n",
      " [ 1  3  1 25 76]\n",
      " [ 0  0  1  7 17]]\n",
      "---\n",
      "Expected\n",
      "\n",
      "[[ 0  2  3 22 73]\n",
      " [ 0  2  3 23 76]\n",
      " [ 0  0  0  5 17]]\n",
      "---\n",
      "\n",
      "chi^2 = 6.5618\n",
      "p     = 0.5846\n"
     ]
    }
   ],
   "source": [
    "print('Observed\\n')\n",
    "print(observed.values)\n",
    "print('---\\nExpected\\n')\n",
    "print(expected.astype(int))\n",
    "print('---\\n')\n",
    "print(f'chi^2 = {chi2:.4f}')\n",
    "print(f'p     = {p:.4f}')"
   ]
  },
  {
   "cell_type": "code",
   "execution_count": 243,
   "id": "fc98efa6-8bb9-4926-a1a4-423b43ce5efb",
   "metadata": {},
   "outputs": [
    {
     "name": "stdout",
     "output_type": "stream",
     "text": [
      "We fail to reject the null hypothesis\n"
     ]
    }
   ],
   "source": [
    "if p < alpha:\n",
    "    print(\"We reject the null hypothesis\")\n",
    "else:\n",
    "    print(\"We fail to reject the null hypothesis\")"
   ]
  },
  {
   "cell_type": "markdown",
   "id": "3e552325-ea28-4a11-a132-92b0212af6fc",
   "metadata": {
    "jupyter": {
     "source_hidden": true
    },
    "tags": []
   },
   "source": [
    "### 3. Use the data from the employees database to answer these questions:"
   ]
  },
  {
   "cell_type": "markdown",
   "id": "0aede225-e3de-4d22-80df-4d4bd6cf311b",
   "metadata": {
    "tags": []
   },
   "source": [
    "#### Is an employee's gender independent of whether an employee works in sales or marketing? (only look at current employees)"
   ]
  },
  {
   "cell_type": "code",
   "execution_count": 211,
   "id": "cb14d76c-48ef-46d8-9a6e-ad8ffdd30460",
   "metadata": {},
   "outputs": [],
   "source": [
    "query = \"\"\"\n",
    "SELECT *\n",
    "FROM employees\n",
    "JOIN dept_emp\n",
    "USING (emp_no)\n",
    "JOIN departments\n",
    "USING (dept_no)\n",
    "WHERE to_date>CURDATE()\n",
    "\"\"\""
   ]
  },
  {
   "cell_type": "code",
   "execution_count": 212,
   "id": "c1770ef7-ec59-43d7-a8b1-8b9b45eb85f6",
   "metadata": {
    "tags": []
   },
   "outputs": [],
   "source": [
    "\n",
    "dept_emp = pd.read_sql(query,get_db_url('employees'))"
   ]
  },
  {
   "cell_type": "code",
   "execution_count": 213,
   "id": "fd4fdb36-a2b6-4061-91d2-c8252c4e113e",
   "metadata": {},
   "outputs": [],
   "source": [
    "departments_of_interest = dept_emp[dept_emp.dept_name.str.contains(\"Sales|Marketing\")]"
   ]
  },
  {
   "cell_type": "code",
   "execution_count": 244,
   "id": "6970bc37-cb1b-4f05-874c-7f71963a3655",
   "metadata": {},
   "outputs": [],
   "source": [
    "observed = pd.crosstab(departments_of_interest.dept_name, departments_of_interest.gender)"
   ]
  },
  {
   "cell_type": "code",
   "execution_count": 245,
   "id": "d463d8e1-1a93-4262-bc0f-5905b68beec0",
   "metadata": {},
   "outputs": [
    {
     "data": {
      "text/html": [
       "<div>\n",
       "<style scoped>\n",
       "    .dataframe tbody tr th:only-of-type {\n",
       "        vertical-align: middle;\n",
       "    }\n",
       "\n",
       "    .dataframe tbody tr th {\n",
       "        vertical-align: top;\n",
       "    }\n",
       "\n",
       "    .dataframe thead th {\n",
       "        text-align: right;\n",
       "    }\n",
       "</style>\n",
       "<table border=\"1\" class=\"dataframe\">\n",
       "  <thead>\n",
       "    <tr style=\"text-align: right;\">\n",
       "      <th>gender</th>\n",
       "      <th>F</th>\n",
       "      <th>M</th>\n",
       "    </tr>\n",
       "    <tr>\n",
       "      <th>dept_name</th>\n",
       "      <th></th>\n",
       "      <th></th>\n",
       "    </tr>\n",
       "  </thead>\n",
       "  <tbody>\n",
       "    <tr>\n",
       "      <th>Marketing</th>\n",
       "      <td>5864</td>\n",
       "      <td>8978</td>\n",
       "    </tr>\n",
       "    <tr>\n",
       "      <th>Sales</th>\n",
       "      <td>14999</td>\n",
       "      <td>22702</td>\n",
       "    </tr>\n",
       "  </tbody>\n",
       "</table>\n",
       "</div>"
      ],
      "text/plain": [
       "gender         F      M\n",
       "dept_name              \n",
       "Marketing   5864   8978\n",
       "Sales      14999  22702"
      ]
     },
     "execution_count": 245,
     "metadata": {},
     "output_type": "execute_result"
    }
   ],
   "source": [
    "observed"
   ]
  },
  {
   "cell_type": "code",
   "execution_count": 246,
   "id": "600c589c-3b11-4d7c-a4dc-d48b7029b09c",
   "metadata": {},
   "outputs": [],
   "source": [
    "chi2, p, dof, expected = stats.chi2_contingency(observed)"
   ]
  },
  {
   "cell_type": "code",
   "execution_count": 247,
   "id": "df8edc9f-53bf-492b-a078-342860e757dc",
   "metadata": {},
   "outputs": [
    {
     "name": "stdout",
     "output_type": "stream",
     "text": [
      "Observed\n",
      "\n",
      "[[ 5864  8978]\n",
      " [14999 22702]]\n",
      "---\n",
      "Expected\n",
      "\n",
      "[[ 5893  8948]\n",
      " [14969 22731]]\n",
      "---\n",
      "\n",
      "chi^2 = 0.3240\n",
      "p     = 0.5692\n"
     ]
    }
   ],
   "source": [
    "print('Observed\\n')\n",
    "print(observed.values)\n",
    "print('---\\nExpected\\n')\n",
    "print(expected.astype(int))\n",
    "print('---\\n')\n",
    "print(f'chi^2 = {chi2:.4f}')\n",
    "print(f'p     = {p:.4f}')"
   ]
  },
  {
   "cell_type": "code",
   "execution_count": 248,
   "id": "5f722efc-e616-4377-a4db-9a83c0444de9",
   "metadata": {},
   "outputs": [
    {
     "name": "stdout",
     "output_type": "stream",
     "text": [
      "We fail to reject the null hypothesis\n"
     ]
    }
   ],
   "source": [
    "if p < alpha:\n",
    "    print(\"We reject the null hypothesis\")\n",
    "else:\n",
    "    print(\"We fail to reject the null hypothesis\")"
   ]
  },
  {
   "cell_type": "markdown",
   "id": "d67314b0-9445-4f8a-882f-6d2eaed8598e",
   "metadata": {
    "tags": []
   },
   "source": [
    "#### Is an employee's gender independent of whether or not they are or have been a manager?"
   ]
  },
  {
   "cell_type": "code",
   "execution_count": 219,
   "id": "a00fe110-bf45-4311-9831-dae88cff3d34",
   "metadata": {},
   "outputs": [],
   "source": [
    "query = \"\"\"\n",
    "SELECT gender, \n",
    "   \t   emp_no,\n",
    "   \t   IF(emp_no IN (SELECT emp_no FROM dept_manager),\"YES\",\"NO\") AS is_manager\n",
    "FROM employees;\n",
    "\"\"\""
   ]
  },
  {
   "cell_type": "code",
   "execution_count": 220,
   "id": "b041621c-0f80-4cc2-a744-3b8226b4cd8f",
   "metadata": {},
   "outputs": [],
   "source": [
    "mgr_gender = pd.read_sql(query, get_db_url('employees'))"
   ]
  },
  {
   "cell_type": "code",
   "execution_count": 221,
   "id": "0cc511ea-d884-4c46-a915-24974e225793",
   "metadata": {},
   "outputs": [
    {
     "data": {
      "text/plain": [
       "NO     300000\n",
       "YES        24\n",
       "Name: is_manager, dtype: int64"
      ]
     },
     "execution_count": 221,
     "metadata": {},
     "output_type": "execute_result"
    }
   ],
   "source": [
    "mgr_gender.is_manager.value_counts()"
   ]
  },
  {
   "cell_type": "code",
   "execution_count": 222,
   "id": "38103d71-3924-4084-acf6-28b2a1e25e0a",
   "metadata": {},
   "outputs": [],
   "source": [
    "observed = pd.crosstab(mgr_gender.is_manager, mgr_gender.gender)"
   ]
  },
  {
   "cell_type": "code",
   "execution_count": 223,
   "id": "8984ec51-aefe-46a7-af1b-350b541bce35",
   "metadata": {},
   "outputs": [
    {
     "data": {
      "text/html": [
       "<div>\n",
       "<style scoped>\n",
       "    .dataframe tbody tr th:only-of-type {\n",
       "        vertical-align: middle;\n",
       "    }\n",
       "\n",
       "    .dataframe tbody tr th {\n",
       "        vertical-align: top;\n",
       "    }\n",
       "\n",
       "    .dataframe thead th {\n",
       "        text-align: right;\n",
       "    }\n",
       "</style>\n",
       "<table border=\"1\" class=\"dataframe\">\n",
       "  <thead>\n",
       "    <tr style=\"text-align: right;\">\n",
       "      <th>gender</th>\n",
       "      <th>F</th>\n",
       "      <th>M</th>\n",
       "    </tr>\n",
       "    <tr>\n",
       "      <th>is_manager</th>\n",
       "      <th></th>\n",
       "      <th></th>\n",
       "    </tr>\n",
       "  </thead>\n",
       "  <tbody>\n",
       "    <tr>\n",
       "      <th>NO</th>\n",
       "      <td>120038</td>\n",
       "      <td>179962</td>\n",
       "    </tr>\n",
       "    <tr>\n",
       "      <th>YES</th>\n",
       "      <td>13</td>\n",
       "      <td>11</td>\n",
       "    </tr>\n",
       "  </tbody>\n",
       "</table>\n",
       "</div>"
      ],
      "text/plain": [
       "gender           F       M\n",
       "is_manager                \n",
       "NO          120038  179962\n",
       "YES             13      11"
      ]
     },
     "execution_count": 223,
     "metadata": {},
     "output_type": "execute_result"
    }
   ],
   "source": [
    "observed"
   ]
  },
  {
   "cell_type": "code",
   "execution_count": 224,
   "id": "949e663f-fbf4-460e-82f9-abbe03a19737",
   "metadata": {},
   "outputs": [],
   "source": [
    "# The easy way...\n",
    "chi2, p, dof, expected = stats.chi2_contingency(observed)"
   ]
  },
  {
   "cell_type": "code",
   "execution_count": 225,
   "id": "6be80234-5d69-4471-978f-8514d4c8a2bc",
   "metadata": {},
   "outputs": [
    {
     "name": "stdout",
     "output_type": "stream",
     "text": [
      "Observed\n",
      "\n",
      "[[120038 179962]\n",
      " [    13     11]]\n",
      "---\n",
      "Expected\n",
      "\n",
      "[[120041 179958]\n",
      " [     9     14]]\n",
      "---\n",
      "\n",
      "chi^2 = 1.4567\n",
      "p     = 0.2275\n"
     ]
    }
   ],
   "source": [
    "print('Observed\\n')\n",
    "print(observed.values)\n",
    "print('---\\nExpected\\n')\n",
    "print(expected.astype(int))\n",
    "print('---\\n')\n",
    "print(f'chi^2 = {chi2:.4f}')\n",
    "print(f'p     = {p:.4f}')"
   ]
  },
  {
   "cell_type": "code",
   "execution_count": 226,
   "id": "81822bf0-ec9a-482a-bd49-67e1362d9d2e",
   "metadata": {},
   "outputs": [
    {
     "name": "stdout",
     "output_type": "stream",
     "text": [
      "We fail to reject the null hypothesis\n"
     ]
    }
   ],
   "source": [
    "if p < alpha:\n",
    "    print(\"We reject the null hypothesis\")\n",
    "else:\n",
    "    print(\"We fail to reject the null hypothesis\")"
   ]
  }
 ],
 "metadata": {
  "kernelspec": {
   "display_name": "Python 3.9.7 64-bit ('base': conda)",
   "language": "python",
   "name": "python397jvsc74a57bd038cca0c38332a56087b24af0bc80247f4fced29cb4f7f437d91dc159adec9c4e"
  },
  "language_info": {
   "codemirror_mode": {
    "name": "ipython",
    "version": 3
   },
   "file_extension": ".py",
   "mimetype": "text/x-python",
   "name": "python",
   "nbconvert_exporter": "python",
   "pygments_lexer": "ipython3",
   "version": "3.9.7"
  }
 },
 "nbformat": 4,
 "nbformat_minor": 5
}
